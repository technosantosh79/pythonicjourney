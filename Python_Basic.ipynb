{
  "nbformat": 4,
  "nbformat_minor": 0,
  "metadata": {
    "colab": {
      "provenance": [],
      "collapsed_sections": [
        "z-Nv-FhwA316",
        "gxXM_Vje-UGC",
        "Q-f1-Ltv-7uX",
        "p3LwFbGT_0Wp",
        "FWeo8fsJAXNx",
        "GrI1RVaNBqYK",
        "059SvB_rCRdQ",
        "U-vlpVTkDFq7",
        "3CfQ7R3sD1ax",
        "1Zg6BznrFUMi",
        "h9pTocDKGa8J",
        "vpA57yZKHTug",
        "PmwT6E_KPzYb"
      ],
      "authorship_tag": "ABX9TyMAa/NK732Wq+PM9qo6705M",
      "include_colab_link": true
    },
    "kernelspec": {
      "name": "python3",
      "display_name": "Python 3"
    },
    "language_info": {
      "name": "python"
    }
  },
  "cells": [
    {
      "cell_type": "markdown",
      "metadata": {
        "id": "view-in-github",
        "colab_type": "text"
      },
      "source": [
        "<a href=\"https://colab.research.google.com/github/technosantosh79/pythonicjourney/blob/main/Python_Basic.ipynb\" target=\"_parent\"><img src=\"https://colab.research.google.com/assets/colab-badge.svg\" alt=\"Open In Colab\"/></a>"
      ]
    },
    {
      "cell_type": "markdown",
      "source": [
        "# Print Statements"
      ],
      "metadata": {
        "id": "OL0TT_BMAuF0"
      }
    },
    {
      "cell_type": "markdown",
      "source": [
        "## Simple Print Statements"
      ],
      "metadata": {
        "id": "z-Nv-FhwA316"
      }
    },
    {
      "cell_type": "code",
      "source": [
        "print(\"Hello World!\")"
      ],
      "metadata": {
        "colab": {
          "base_uri": "https://localhost:8080/"
        },
        "id": "yZkiM_vETSHa",
        "outputId": "908f58df-f0ce-4b8d-e3b6-bb99e6b5adfe"
      },
      "execution_count": null,
      "outputs": [
        {
          "output_type": "stream",
          "name": "stdout",
          "text": [
            "Hello World!\n"
          ]
        }
      ]
    },
    {
      "cell_type": "code",
      "source": [
        "# Write a print() statement that prints any greeting message of your choice.\n",
        "print(\"Greetings John\")"
      ],
      "metadata": {
        "id": "e2OzdraoTbib"
      },
      "execution_count": null,
      "outputs": []
    },
    {
      "cell_type": "code",
      "source": [
        "# Create a print() statement that prints your name, age, and a short sentence about yourself, using commas to separate values.\n",
        "print(\"Santosh\", \"35\", \"I'm cool\")"
      ],
      "metadata": {
        "colab": {
          "base_uri": "https://localhost:8080/"
        },
        "id": "27IjBuUlTwvc",
        "outputId": "52eeceba-f826-4af0-8b75-632104836ac0"
      },
      "execution_count": null,
      "outputs": [
        {
          "output_type": "stream",
          "name": "stdout",
          "text": [
            "Santosh 35 I'm cool\n"
          ]
        }
      ]
    },
    {
      "cell_type": "markdown",
      "source": [
        "## String Concatenation - print()\n",
        "- Instead of using commas, you can combine strings using the + operator. This only works with strings, so you’ll need to convert other types (like numbers) to strings using str()."
      ],
      "metadata": {
        "id": "gxXM_Vje-UGC"
      }
    },
    {
      "cell_type": "code",
      "source": [
        "# Write a print() statement that uses + to join at least three strings together into one sentence. Let’s see your version!\n",
        "print(\"I am \" + str(35) + \" hence, it is time to invest\")"
      ],
      "metadata": {
        "colab": {
          "base_uri": "https://localhost:8080/"
        },
        "id": "_gdqB_k6-YMF",
        "outputId": "3ba93b56-2ba5-4fb9-aeef-66cdbaba4038"
      },
      "execution_count": null,
      "outputs": [
        {
          "output_type": "stream",
          "name": "stdout",
          "text": [
            "I am 35 hence, it is time to invest\n"
          ]
        }
      ]
    },
    {
      "cell_type": "markdown",
      "source": [
        "## Printing with \"f\" (formatted) string\n",
        "- F-strings are one of the cleanest and most powerful ways to format output in Python 3.6 and above. You use an f before the string and insert variables directly using {}."
      ],
      "metadata": {
        "id": "Q-f1-Ltv-7uX"
      }
    },
    {
      "cell_type": "code",
      "source": [
        "# Define two variables (e.g., your_name and your_age) and use an f-string to print a sentence with both. Let’s see it!\n",
        "your_name = \"Santosh\"\n",
        "your_age = 35\n",
        "\n",
        "print(f\"Hi, {your_name}, let me guess your age - {your_age}?\")"
      ],
      "metadata": {
        "colab": {
          "base_uri": "https://localhost:8080/"
        },
        "id": "7pgE1xzl-7Ki",
        "outputId": "7332e5bb-68d9-4ad1-bc90-089dd6a54abf"
      },
      "execution_count": null,
      "outputs": [
        {
          "output_type": "stream",
          "name": "stdout",
          "text": [
            "Hi, Santosh, let me guess your age - 35?\n"
          ]
        }
      ]
    },
    {
      "cell_type": "markdown",
      "source": [
        "## Using newline character \"\\n\"\n",
        "- You can insert \\n in your string to create a line break."
      ],
      "metadata": {
        "id": "p3LwFbGT_0Wp"
      }
    },
    {
      "cell_type": "code",
      "source": [
        "# Write a print statement that displays three hobbies, each on a new line, using \\n. Go for it!\n",
        "print(\"Hobbies are: \\n\" + \"Tennis\\n\" + \"Games\\n\" + \"Driving\" )"
      ],
      "metadata": {
        "colab": {
          "base_uri": "https://localhost:8080/"
        },
        "id": "_A7lgHR-_52P",
        "outputId": "24f10fe0-0b0e-40eb-a369-c534eaf72572"
      },
      "execution_count": null,
      "outputs": [
        {
          "output_type": "stream",
          "name": "stdout",
          "text": [
            "Hobbies are: \n",
            "Tennis\n",
            "Games\n",
            "Driving\n"
          ]
        }
      ]
    },
    {
      "cell_type": "markdown",
      "source": [
        "## Using \"\\t\" for tab indentation\n",
        "- You can insert \\t to add a tab space, which is useful for indentation in printed lists or formatting tables."
      ],
      "metadata": {
        "id": "FWeo8fsJAXNx"
      }
    },
    {
      "cell_type": "code",
      "source": [
        "\"\"\"\n",
        "Print three lines using \\t to align things like a mini table:\n",
        "Item:      Apple\n",
        "Quantity:  3\n",
        "Price:     $2.50\n",
        "\n",
        "\"\"\"\n",
        "print(\"Item:\\t\" + \"Apple\")\n",
        "print(\"Quantity:\\t\" + str(3))\n",
        "print(\"Price:\\t\" + \"$2.50\")"
      ],
      "metadata": {
        "colab": {
          "base_uri": "https://localhost:8080/"
        },
        "id": "XlKZ5dUBAc-e",
        "outputId": "4e95dcfa-2fbd-46df-9f06-068f98970104"
      },
      "execution_count": null,
      "outputs": [
        {
          "output_type": "stream",
          "name": "stdout",
          "text": [
            "Item:\tApple\n",
            "Quantity:\t3\n",
            "Price:\t$2.50\n"
          ]
        }
      ]
    },
    {
      "cell_type": "markdown",
      "source": [
        "## Print with end= to control what comes after\n",
        "- By default, print() ends with a newline (\\n). But you can change that using the end= parameter."
      ],
      "metadata": {
        "id": "GrI1RVaNBqYK"
      }
    },
    {
      "cell_type": "code",
      "source": [
        "# Use print() with end= to print two statements on the same line with a custom ending (like \" >> \" or \" --> \"). Let’s see your version!\n",
        "print(\"Next Steps \", end=\">>\")\n",
        "print(\" Use get() to fetch data using APIs\")"
      ],
      "metadata": {
        "colab": {
          "base_uri": "https://localhost:8080/"
        },
        "id": "x1mtcJh8BwCT",
        "outputId": "8b781175-e637-4fc2-e1d4-c25160479222"
      },
      "execution_count": null,
      "outputs": [
        {
          "output_type": "stream",
          "name": "stdout",
          "text": [
            "Next Steps >> Use get() to fetch data using APIs\n"
          ]
        }
      ]
    },
    {
      "cell_type": "markdown",
      "source": [
        "## Printing quotes inside a string\n",
        "- Sometimes you want to print quotation marks as part of your string. You can do this in a few ways:\n",
        "  - Use double quotes outside, single inside\n",
        "  -  Or escape quotes with a backslash (\\\")"
      ],
      "metadata": {
        "id": "059SvB_rCRdQ"
      }
    },
    {
      "cell_type": "code",
      "source": [
        "\"\"\"\n",
        "Write two print() statements:\n",
        "\n",
        "One that uses single quotes inside double quotes.\n",
        "\n",
        "Another that uses escaped double quotes inside double quotes.\n",
        "\"\"\"\n",
        "print(\"'Hello, John', Where are you going?\")\n",
        "print(\"\\\"Hello, John\\\", Are you coming over this weekend?\")"
      ],
      "metadata": {
        "colab": {
          "base_uri": "https://localhost:8080/"
        },
        "id": "E_YPW4CICid_",
        "outputId": "9c9e7dc2-2ea5-4760-d3a7-a40675f7cdcd"
      },
      "execution_count": null,
      "outputs": [
        {
          "output_type": "stream",
          "name": "stdout",
          "text": [
            "'Hello, John', Where are you going?\n",
            "\"Hello, John\", Are you coming over this weekend?\n"
          ]
        }
      ]
    },
    {
      "cell_type": "markdown",
      "source": [
        "## Multiline print using triple quotes\n",
        "- Python allows you to use triple quotes (''' or \"\"\") to create a multiline string, which is great for long messages, ASCII art, or documentation-style printing."
      ],
      "metadata": {
        "id": "U-vlpVTkDFq7"
      }
    },
    {
      "cell_type": "code",
      "source": [
        "# Write a print() statement using triple quotes that prints a 3-line motivational quote or message. Your style, your words!\n",
        "print(\"\"\"\n",
        "Character defines you,\n",
        "Trust defines a relationship,\n",
        "And open communication clears off any misunderstandings!!!\n",
        "\"\"\")"
      ],
      "metadata": {
        "colab": {
          "base_uri": "https://localhost:8080/"
        },
        "id": "iW-GipKTDNNB",
        "outputId": "3e230556-8810-4ca6-de69-52451f33c068"
      },
      "execution_count": null,
      "outputs": [
        {
          "output_type": "stream",
          "name": "stdout",
          "text": [
            "\n",
            "Character defines you,\n",
            "Trust defines a relationship,\n",
            "And open communication clears off any misunderstandings!!!\n",
            "\n"
          ]
        }
      ]
    },
    {
      "cell_type": "markdown",
      "source": [
        "## Using print() inside a loop\n",
        "- Now let’s combine print() with a loop. It’s very common to print things repeatedly or dynamically using a for loop."
      ],
      "metadata": {
        "id": "3CfQ7R3sD1ax"
      }
    },
    {
      "cell_type": "code",
      "source": [
        "\"\"\"\n",
        "Write a for loop that prints this message 5 times, each time with the loop number:\n",
        "Attempt 1: Trying again!\n",
        "Attempt 2: Trying again!\n",
        "...\n",
        "Attempt 5: Trying again!\n",
        "\"\"\"\n",
        "for i in range(1,6):\n",
        "  print(f\"Attempt {i}: Trying again!\")\n"
      ],
      "metadata": {
        "colab": {
          "base_uri": "https://localhost:8080/"
        },
        "id": "xj1prl9GEEbM",
        "outputId": "ca3c0438-760a-4675-9c86-d72102009582"
      },
      "execution_count": null,
      "outputs": [
        {
          "output_type": "stream",
          "name": "stdout",
          "text": [
            "Attempt 1: Trying again!\n",
            "Attempt 2: Trying again!\n",
            "Attempt 3: Trying again!\n",
            "Attempt 4: Trying again!\n",
            "Attempt 5: Trying again!\n"
          ]
        }
      ]
    },
    {
      "cell_type": "markdown",
      "source": [
        "##  Printing with sep=\n",
        "- When you use commas in a print() statement, Python inserts spaces by default between the values.\n",
        "- But with sep=, you can customize the separator."
      ],
      "metadata": {
        "id": "1Zg6BznrFUMi"
      }
    },
    {
      "cell_type": "code",
      "source": [
        "# Print \"Study tonight has been created for STUDENTS\" using sep= and end=\n",
        "print(\"Study\", \"tonight\", \"has\", \"been\", \"created\", \"for\", sep=\"_\", end=\"_STUDENTS\")"
      ],
      "metadata": {
        "colab": {
          "base_uri": "https://localhost:8080/"
        },
        "id": "st1-fFvGFv7-",
        "outputId": "3386abcb-d55a-4c2b-a273-b89bf6e2ef37"
      },
      "execution_count": null,
      "outputs": [
        {
          "output_type": "stream",
          "name": "stdout",
          "text": [
            "Study_tonight_has_been_created_for_STUDENTS"
          ]
        }
      ]
    },
    {
      "cell_type": "markdown",
      "source": [
        "## Printing to a file\n",
        "- You can redirect output from print() to a file instead of the console using the file= argument."
      ],
      "metadata": {
        "id": "h9pTocDKGa8J"
      }
    },
    {
      "cell_type": "code",
      "source": [
        "# Print \"This goes to the end of the file\" to the end of the file - output.txt\n",
        "with open(\"./sample_data/output.txt\",\"a\") as f:\n",
        "  print(\"This goes to the end of the file\", file=f)"
      ],
      "metadata": {
        "id": "0hRKc_DwGxmt"
      },
      "execution_count": null,
      "outputs": []
    },
    {
      "cell_type": "markdown",
      "source": [
        "## Using flush=True to force output immediately\n",
        "- In some real-time apps (like logging or loading bars), Python buffers output. You can force it to display immediately:"
      ],
      "metadata": {
        "id": "vpA57yZKHTug"
      }
    },
    {
      "cell_type": "code",
      "source": [
        "# Making \".\" appear one-by-one to give a loading effect\n",
        "import time\n",
        "for i in range(3):\n",
        "  print(\".\", end=\"\", flush=True)\n",
        "  time.sleep(1)"
      ],
      "metadata": {
        "colab": {
          "base_uri": "https://localhost:8080/"
        },
        "id": "Ux_hX36JHdqp",
        "outputId": "1052e6b6-27f7-4f40-b0c5-12fd7fcc02f2"
      },
      "execution_count": null,
      "outputs": [
        {
          "output_type": "stream",
          "name": "stdout",
          "text": [
            "..."
          ]
        }
      ]
    },
    {
      "cell_type": "markdown",
      "source": [
        "## Unicode & emojis\n",
        "- Python 3’s print supports Unicode, so you can print symbols and emojis."
      ],
      "metadata": {
        "id": "PmwT6E_KPzYb"
      }
    },
    {
      "cell_type": "code",
      "source": [
        "print(\"Success ✅\")\n",
        "print(\"Coffee time ☕\")\n"
      ],
      "metadata": {
        "colab": {
          "base_uri": "https://localhost:8080/"
        },
        "id": "buJVBbBfP1xd",
        "outputId": "5f7e6157-e2cc-490a-cf65-4b2dbb22e496"
      },
      "execution_count": null,
      "outputs": [
        {
          "output_type": "stream",
          "name": "stdout",
          "text": [
            "Success ✅\n",
            "Coffee time ☕\n"
          ]
        }
      ]
    },
    {
      "cell_type": "markdown",
      "source": [
        "## Printing dictionaries or formatted data with json.dumps()\n",
        "- For pretty-printing structured data:"
      ],
      "metadata": {
        "id": "qD4neK0FP6uk"
      }
    },
    {
      "cell_type": "code",
      "source": [
        "# Display skills using JSON dumps\n",
        "\n",
        "import json\n",
        "data = {\"name\": \"Santosh\", \"skills\":[\"Python\", \"API\", \"AI\"]}\n",
        "print(json.dumps(data, indent=2))"
      ],
      "metadata": {
        "colab": {
          "base_uri": "https://localhost:8080/"
        },
        "id": "PltBWomAP-jg",
        "outputId": "c9d772f4-ff95-432c-d5e1-086df872dd1f"
      },
      "execution_count": null,
      "outputs": [
        {
          "output_type": "stream",
          "name": "stdout",
          "text": [
            "{\n",
            "  \"name\": \"Santosh\",\n",
            "  \"skills\": [\n",
            "    \"Python\",\n",
            "    \"API\",\n",
            "    \"AI\"\n",
            "  ]\n",
            "}\n"
          ]
        }
      ]
    },
    {
      "cell_type": "code",
      "source": [
        "\"\"\"\n",
        " Your Task:\n",
        "\n",
        "Create a Python dictionary called profile with the following keys:\n",
        "\n",
        "\"name\" → your name\n",
        "\n",
        "\"age\" → your age\n",
        "\n",
        "\"hobbies\" → a list of 3 hobbies\n",
        "\n",
        "\"employed\" → True or False\n",
        "\n",
        "Use json.dumps() to print it in a clean, indented format.\n",
        "\n",
        "Let’s see your version!\n",
        "\"\"\"\n",
        "import json\n",
        "data = {\"name\": \"Santosh\", \"age\": 35, \"hobbies\": [\"Tennis\", \"Woodworking\", \"Programming\"], \"employed\": True}\n",
        "print(json.dumps(data, indent=2))"
      ],
      "metadata": {
        "colab": {
          "base_uri": "https://localhost:8080/"
        },
        "id": "7GiijLEKQrDg",
        "outputId": "53502505-8fcf-4021-cb4b-e90049bd9006"
      },
      "execution_count": null,
      "outputs": [
        {
          "output_type": "stream",
          "name": "stdout",
          "text": [
            "{\n",
            "  \"name\": \"Santosh\",\n",
            "  \"age\": 35,\n",
            "  \"hobbies\": [\n",
            "    \"Tennis\",\n",
            "    \"Woodworking\",\n",
            "    \"Programming\"\n",
            "  ],\n",
            "  \"employed\": true\n",
            "}\n"
          ]
        }
      ]
    },
    {
      "cell_type": "markdown",
      "source": [
        "# Variables\n",
        "- We'll cover:\n",
        "  - Assignment\n",
        "  - Types\n",
        "  - Updating\n",
        "  - Swapping\n",
        "  - Multiple variables\n",
        "  - Scope basics\n",
        "  - And more\n",
        "\n",
        "\n",
        "## What is a variable?\n",
        "- A variable stores a value so you can use it later. In Python, you don’t need to declare a type—just assign it"
      ],
      "metadata": {
        "id": "6j4rx6LHRpR5"
      }
    },
    {
      "cell_type": "markdown",
      "source": [
        "## Create a basic variable"
      ],
      "metadata": {
        "id": "3Vo4Kl7iSzC3"
      }
    },
    {
      "cell_type": "code",
      "source": [
        "\"\"\"\n",
        "Create three variables:\n",
        "\n",
        "city (your city)\n",
        "\n",
        "temperature (any number, float or int)\n",
        "\n",
        "is_raining (True or False)\n",
        "\n",
        "Print all three using a single print() statement.\n",
        "\"\"\"\n",
        "city = \"Perth\"\n",
        "temperature = 37.0\n",
        "is_raining = False\n",
        "\n",
        "print(f\"Today is it going to be {temperature} in {city} and it is {is_raining} raining\")"
      ],
      "metadata": {
        "colab": {
          "base_uri": "https://localhost:8080/"
        },
        "id": "qK_IK1KnSF8b",
        "outputId": "3e5f8c78-7aeb-42ca-e5b5-3f356da438dc"
      },
      "execution_count": null,
      "outputs": [
        {
          "output_type": "stream",
          "name": "stdout",
          "text": [
            "Today is it going to be 37.0 in Perth and it is False raining\n"
          ]
        }
      ]
    },
    {
      "cell_type": "markdown",
      "source": [
        "## Change a Variable's value"
      ],
      "metadata": {
        "id": "5LaQo1sZS2qc"
      }
    },
    {
      "cell_type": "code",
      "source": [
        "\"\"\"\n",
        "Start with a variable score and set it to 10.\n",
        "\n",
        "Update it by adding 5 more points.\n",
        "\n",
        "Print the new value of score.\n",
        "\"\"\"\n",
        "score = 10\n",
        "score = score + 5\n",
        "print(score)"
      ],
      "metadata": {
        "colab": {
          "base_uri": "https://localhost:8080/"
        },
        "id": "Yq4mv_JYTDKZ",
        "outputId": "4ab65d15-1f71-4c76-b662-322a41321459"
      },
      "execution_count": null,
      "outputs": [
        {
          "output_type": "stream",
          "name": "stdout",
          "text": [
            "15\n"
          ]
        }
      ]
    },
    {
      "cell_type": "markdown",
      "source": [
        "## Use shorthand operators\n",
        "- Python offers shorthand (compound) operators like +=, -=, *=, /= etc."
      ],
      "metadata": {
        "id": "MRCRittuUZ2S"
      }
    },
    {
      "cell_type": "code",
      "source": [
        "\"\"\"\n",
        "Create a variable balance = 1000\n",
        "\n",
        "Deduct 250 using a shorthand operator\n",
        "\n",
        "Print the updated balance\n",
        "\"\"\"\n",
        "\n",
        "balance = 1000\n",
        "balance -= 250\n",
        "print(balance)"
      ],
      "metadata": {
        "colab": {
          "base_uri": "https://localhost:8080/"
        },
        "id": "oWwebVn1UcbR",
        "outputId": "730099c3-4fde-4dea-fa94-7d99877ad6bf"
      },
      "execution_count": null,
      "outputs": [
        {
          "output_type": "stream",
          "name": "stdout",
          "text": [
            "750\n"
          ]
        }
      ]
    },
    {
      "cell_type": "markdown",
      "source": [
        "## Swapping variables\n",
        "- You can swap values between two variables easily in Python without needing a temporary variable."
      ],
      "metadata": {
        "id": "_gTeh4EcUu4x"
      }
    },
    {
      "cell_type": "code",
      "source": [
        "\"\"\"\n",
        "Create two variables: x = 5, y = 10\n",
        "\n",
        "Swap their values\n",
        "\n",
        "Print x and y after the swap\n",
        "\"\"\"\n",
        "x = 5\n",
        "y = 10\n",
        "\n",
        "x, y = y, x\n",
        "\n",
        "print(x, y)"
      ],
      "metadata": {
        "colab": {
          "base_uri": "https://localhost:8080/"
        },
        "id": "0FcZxVvhUyA7",
        "outputId": "48dbd71c-cc00-48d4-e788-7191b92c836b"
      },
      "execution_count": null,
      "outputs": [
        {
          "output_type": "stream",
          "name": "stdout",
          "text": [
            "10 5\n"
          ]
        }
      ]
    },
    {
      "cell_type": "markdown",
      "source": [
        "## Assign the same value to multiple variables - Chained Assignment\n",
        "- Python allows assigning the same value to multiple variables in one line."
      ],
      "metadata": {
        "id": "iSW4KEdVW9lt"
      }
    },
    {
      "cell_type": "code",
      "source": [
        "\"\"\"\n",
        "Create three variables: m, n, and o\n",
        "\n",
        "Set all three to \"Active\" using a single line\n",
        "\n",
        "Print them all in one print statement\n",
        "\"\"\"\n",
        "m = n = o = \"Active\"\n",
        "print(m, n, o)"
      ],
      "metadata": {
        "colab": {
          "base_uri": "https://localhost:8080/"
        },
        "id": "nkbhaOv9XJ15",
        "outputId": "3bec9fc8-9834-43f6-888f-00a2834d5d99"
      },
      "execution_count": null,
      "outputs": [
        {
          "output_type": "stream",
          "name": "stdout",
          "text": [
            "Active Active Active\n"
          ]
        }
      ]
    },
    {
      "cell_type": "markdown",
      "source": [
        "## Assign different values to multiple variables in one line - Tuple Style Unpacking\n",
        "- You can also assign different values in a single line"
      ],
      "metadata": {
        "id": "tsplWgQ1Xgku"
      }
    },
    {
      "cell_type": "code",
      "source": [
        "\"\"\"\n",
        "Create three variables: name, country, profession\n",
        "\n",
        "Assign each with your actual or made-up info on one line\n",
        "\n",
        "Print them using an f-string\n",
        "\"\"\"\n",
        "name, country, profession = \"Santosh\", \"Australia\", \"Strategist\"\n",
        "print(f\"{name} lives in {country}, working as a {profession}\")"
      ],
      "metadata": {
        "colab": {
          "base_uri": "https://localhost:8080/"
        },
        "id": "nsAfdqHXXm1h",
        "outputId": "2ce6fb78-b679-4036-809d-69ec81f85001"
      },
      "execution_count": null,
      "outputs": [
        {
          "output_type": "stream",
          "name": "stdout",
          "text": [
            "Santosh lives in Australia, working as a Strategist\n"
          ]
        }
      ]
    },
    {
      "cell_type": "markdown",
      "source": [
        "## Use type() to check variable types\n",
        "- Python lets you inspect the type of a variable using the type() function."
      ],
      "metadata": {
        "id": "QIJdEUsEYJwI"
      }
    },
    {
      "cell_type": "code",
      "source": [
        "\"\"\"\n",
        "Create three variables: an integer, a float, and a boolean\n",
        "\n",
        "Print each variable and its type using type()\n",
        "\"\"\"\n",
        "age = 35\n",
        "height = 5.12\n",
        "married = True\n",
        "\n",
        "print(type(age))\n",
        "print(type(height))\n",
        "print(type(married))"
      ],
      "metadata": {
        "colab": {
          "base_uri": "https://localhost:8080/"
        },
        "id": "_q2hYiSXYN58",
        "outputId": "1bcb5d47-987b-4a6f-9945-c7d8ec45a955"
      },
      "execution_count": null,
      "outputs": [
        {
          "output_type": "stream",
          "name": "stdout",
          "text": [
            "<class 'int'>\n",
            "<class 'float'>\n",
            "<class 'bool'>\n"
          ]
        }
      ]
    },
    {
      "cell_type": "markdown",
      "source": [
        "## Create a variable from an expression\n",
        "- You can assign the result of a math expression or string manipulation to a variable."
      ],
      "metadata": {
        "id": "-Owo2EJRYzfn"
      }
    },
    {
      "cell_type": "code",
      "source": [
        "\"\"\"\n",
        "Calculate a total cost: price_per_item = 12.5, quantity = 4\n",
        "\n",
        "Assign the result of price_per_item * quantity to total_cost\n",
        "\n",
        "Print total_cost in a complete sentence\n",
        "\"\"\"\n",
        "price_per_item = 12.5\n",
        "quantity = 4\n",
        "total_cost = price_per_item * quantity\n",
        "print(f\"The total cost of the items is {total_cost}, given that the item costs {price_per_item} with quantity {quantity}\")"
      ],
      "metadata": {
        "id": "HiKkmXEWY2LN"
      },
      "execution_count": null,
      "outputs": []
    },
    {
      "cell_type": "markdown",
      "source": [
        "## Casting data types (converting between types)\n",
        "- Sometimes you need to convert data—e.g., string to int, float to int, etc."
      ],
      "metadata": {
        "id": "Gc0R2WFTZ9q2"
      }
    },
    {
      "cell_type": "code",
      "source": [
        "\"\"\"\n",
        "Create a variable years = \"5\" (as a string)\n",
        "\n",
        "Convert it to an integer and store it in years_int\n",
        "\n",
        "Multiply it by 12 to get months\n",
        "\n",
        "Print the result in a sentence: \"5 years is 60 months.\"\n",
        "\"\"\"\n",
        "years = \"5\"\n",
        "years_int = int(years)\n",
        "months = years_int * 12\n",
        "print(f\"{years} years is {months} months\")"
      ],
      "metadata": {
        "colab": {
          "base_uri": "https://localhost:8080/"
        },
        "id": "Xg6zmygvaTLo",
        "outputId": "96d00519-8a2a-4b17-9523-921df89c3f58"
      },
      "execution_count": null,
      "outputs": [
        {
          "output_type": "stream",
          "name": "stdout",
          "text": [
            "5 years is 60 months\n"
          ]
        }
      ]
    },
    {
      "cell_type": "markdown",
      "source": [
        "## Use a variable inside another variable’s assignment\n",
        "- You can use existing variables to help define new ones—this is super common in calculations, logic building, and dynamic data."
      ],
      "metadata": {
        "id": "orZdQmGObDrU"
      }
    },
    {
      "cell_type": "code",
      "source": [
        "\"\"\"\n",
        "Set base_salary = 3000\n",
        "\n",
        "Calculate a bonus of 10% of base\n",
        "\n",
        "Set total_salary = base_salary + bonus\n",
        "\n",
        "Print all three values clearly\n",
        "\"\"\"\n",
        "base_salary = 3000\n",
        "bonus_percent = 10/100\n",
        "bonus = bonus_percent * base_salary\n",
        "total_salary = base_salary + bonus\n",
        "print(f\"The total salary is {total_salary} with the base salary of {base_salary} and bonus of {bonus}\")"
      ],
      "metadata": {
        "colab": {
          "base_uri": "https://localhost:8080/"
        },
        "id": "rg3YDDa4bHCf",
        "outputId": "9abff7b6-0c58-40a0-9690-799798e26fc6"
      },
      "execution_count": null,
      "outputs": [
        {
          "output_type": "stream",
          "name": "stdout",
          "text": [
            "The total salary is 3300.0 with the base salary of 3000 and bonus of 300.0\n"
          ]
        }
      ]
    },
    {
      "cell_type": "markdown",
      "source": [
        "## Variable Scope\n",
        "- Where you define a variable affects where it can be used:\n",
        "\n",
        "  - Global scope: Defined outside any function\n",
        "  - Local scope: Defined inside a function"
      ],
      "metadata": {
        "id": "FO_Wc3piRo_x"
      }
    },
    {
      "cell_type": "code",
      "source": [
        "# To check the behaviour of global and local variable\n",
        "\n",
        "x = 10\n",
        "\n",
        "def show():\n",
        "  x = 5\n",
        "  print(x)\n",
        "\n",
        "show()\n",
        "print(x)\n"
      ],
      "metadata": {
        "colab": {
          "base_uri": "https://localhost:8080/"
        },
        "id": "6ra9CKozRokX",
        "outputId": "5a288bb7-c0d4-44f7-e483-1234d3b0bdb4"
      },
      "execution_count": null,
      "outputs": [
        {
          "output_type": "stream",
          "name": "stdout",
          "text": [
            "5\n",
            "10\n"
          ]
        }
      ]
    },
    {
      "cell_type": "markdown",
      "source": [
        "## Constants (by convention)\n",
        "- Python doesn’t have true constants, but we use UPPERCASE names to signal that a variable shouldn't change:"
      ],
      "metadata": {
        "id": "n2zQjOvMTY4-"
      }
    },
    {
      "cell_type": "code",
      "source": [
        "PI = 3.142\n",
        "\n",
        "print(PI)"
      ],
      "metadata": {
        "id": "BfxWG8CXTYeg",
        "colab": {
          "base_uri": "https://localhost:8080/"
        },
        "outputId": "ca1ffc0d-9eeb-4913-9309-c03f9bac75eb"
      },
      "execution_count": null,
      "outputs": [
        {
          "output_type": "stream",
          "name": "stdout",
          "text": [
            "3.142\n"
          ]
        }
      ]
    },
    {
      "cell_type": "markdown",
      "source": [
        "## del statement\n",
        "- You can delete a variable using del"
      ],
      "metadata": {
        "id": "eifETn7PTlm8"
      }
    },
    {
      "cell_type": "code",
      "source": [
        "# Example of a del() statement\n",
        "\n",
        "x = 100\n",
        "del(x)\n",
        "print(x)"
      ],
      "metadata": {
        "id": "5QBy9zOMToh8",
        "colab": {
          "base_uri": "https://localhost:8080/",
          "height": 180
        },
        "outputId": "53e94341-dfaf-439e-8b07-cbafac78bbd5"
      },
      "execution_count": null,
      "outputs": [
        {
          "output_type": "error",
          "ename": "NameError",
          "evalue": "name 'x' is not defined",
          "traceback": [
            "\u001b[0;31m---------------------------------------------------------------------------\u001b[0m",
            "\u001b[0;31mNameError\u001b[0m                                 Traceback (most recent call last)",
            "\u001b[0;32m<ipython-input-3-b689a1a8819d>\u001b[0m in \u001b[0;36m<cell line: 0>\u001b[0;34m()\u001b[0m\n\u001b[1;32m      3\u001b[0m \u001b[0mx\u001b[0m \u001b[0;34m=\u001b[0m \u001b[0;36m100\u001b[0m\u001b[0;34m\u001b[0m\u001b[0;34m\u001b[0m\u001b[0m\n\u001b[1;32m      4\u001b[0m \u001b[0;32mdel\u001b[0m\u001b[0;34m(\u001b[0m\u001b[0mx\u001b[0m\u001b[0;34m)\u001b[0m\u001b[0;34m\u001b[0m\u001b[0;34m\u001b[0m\u001b[0m\n\u001b[0;32m----> 5\u001b[0;31m \u001b[0mprint\u001b[0m\u001b[0;34m(\u001b[0m\u001b[0mx\u001b[0m\u001b[0;34m)\u001b[0m\u001b[0;34m\u001b[0m\u001b[0;34m\u001b[0m\u001b[0m\n\u001b[0m",
            "\u001b[0;31mNameError\u001b[0m: name 'x' is not defined"
          ]
        }
      ]
    },
    {
      "cell_type": "markdown",
      "source": [
        "## globals() and locals()\n",
        "- These built-in functions let you see or manipulate all variables in a given scope (advanced introspection)."
      ],
      "metadata": {
        "id": "LzthVXj-T-Re"
      }
    },
    {
      "cell_type": "markdown",
      "source": [
        "## Dynamic Variable Names (Not Recommended)"
      ],
      "metadata": {
        "id": "PJ5fn_XTUG5N"
      }
    },
    {
      "cell_type": "code",
      "source": [
        "globals()[\"new_var\"] = 12\n",
        "print(new_var)\n"
      ],
      "metadata": {
        "colab": {
          "base_uri": "https://localhost:8080/"
        },
        "id": "nJI7GhfgUBE-",
        "outputId": "85d63b83-6fe7-4eb7-ccf6-ded90ea69047"
      },
      "execution_count": null,
      "outputs": [
        {
          "output_type": "stream",
          "name": "stdout",
          "text": [
            "12\n"
          ]
        }
      ]
    },
    {
      "cell_type": "code",
      "source": [
        "\"\"\"\n",
        "Create a variable in the global scope: app_name = \"InsightFlow\"\n",
        "\n",
        "Define a function called run() that:\n",
        "\n",
        "Creates two local variables: user = \"Santosh\" and version = 1.0\n",
        "\n",
        "Prints the result of locals() inside the function\n",
        "\n",
        "After calling the function, print the keys of globals() and check if app_name is present.\n",
        "\n",
        "Bonus: Add a new variable to globals() dynamically using:\n",
        "\n",
        "Print status after that to confirm it exists.\n",
        "\n",
        "\"\"\"\n",
        "\n",
        "app_name = \"InsightFlow\"\n",
        "globals()[\"status\"] = \"Running\"\n",
        "def run():\n",
        "  user = \"Santosh\"\n",
        "  version = 1.0\n",
        "  print(user, version)\n",
        "\n",
        "print(\"In Global Scope: \", globals().keys())\n",
        "run()\n"
      ],
      "metadata": {
        "colab": {
          "base_uri": "https://localhost:8080/"
        },
        "id": "ujGDyGNYUxFv",
        "outputId": "3bfe6e24-2477-442b-88e0-9ec0ecc9894e"
      },
      "execution_count": null,
      "outputs": [
        {
          "output_type": "stream",
          "name": "stdout",
          "text": [
            "In Global Scope:  dict_keys(['__name__', '__doc__', '__package__', '__loader__', '__spec__', '__builtin__', '__builtins__', '_ih', '_oh', '_dh', 'In', 'Out', 'get_ipython', 'exit', 'quit', '_', '__', '___', '_i', '_ii', '_iii', '_i1', 'show', '_i2', 'PI', '_i3', '_i4', 'new_var', '_i5', 'app_name', 'run', '_i6', 'status', '_i7'])\n",
            "Santosh 1.0\n"
          ]
        }
      ]
    },
    {
      "cell_type": "markdown",
      "source": [
        "# Data Types\n",
        "Quick Overview of Core Python Data Types:\n",
        "![Screenshot 2025-03-24 at 9.36.47 pm.png](data:image/png;base64,iVBORw0KGgoAAAANSUhEUgAABd4AAAKuCAYAAAC/jQ4dAAAMTGlDQ1BJQ0MgUHJvZmlsZQAASImVVwdYU8kWnltSIQQIREBK6E0QkRJASggtgPQiiEpIAoQSY0JQsaOLCq5dRLCiqyCKHRCxYVcWxe5aFgsqK+tiwa68CQF02Ve+N983d/77z7n/nHPu3HIAoLfzpdIcVBOAXEmeLCbYnzUuKZlF6gQY0AAA0IAGXyCXcqKiwuEZGBj/3t7dBIhyvOag1Prn/H9tWkKRXAAAEgVxmlAuyIX4IAB4k0AqywOAKIW8+dQ8qRKvhlhHBh2EuEqJM1S4SYnTVPhKn01cDBfiJwCQ1fl8WQYAGt2QZ+ULMqAOHUYLnCRCsQRiP4h9cnMnCyGeC7ENtIFr0pX67LQfdDL+ppk2qMnnZwxiVSx9jRwglktz+NP/z3T875aboxhYwxp29UxZSIwyZpi3J9mTw5RYHeIPkrSISIi1AUBxsbDPXomZmYqQeJU9aiOQc2HOABPiMfKcWF4/HyPkB4RBbAhxuiQnIrzfpjBdHKS0gflDy8R5vDiI9SCuEskDY/ttTsgmxwysezNdxuX088/5sj4flPrfFNnxHJU+pp0p4vXrY44FmXGJEFMhDsgXJ0RADHchFiHPjg3rt0kpyORGDNjIFDHKWCwglokkwf4qfaw0XRYU02+/M1c+EDt2IlPMi+jHV/My40JUucKeCPh9/sNYsG6RhBM/oCOSjwsfiEUoCghUxY6TRZL4WBWP60nz/GNU1+J20pyofnvcX5QTrOTNII6T58cOXJufBzenSh8vkuZFxan8xMuz+KFRKn/wvSAccEEAYAEF7GlgMsgC4tau+i54ppoJAnwgAxlABBz6mYErEvtmJPAYCwrAnxCJgHzwOv++WRHIh/zXIaySEw9yqqMDSO+fU6pkg6cQ54IwkAPPFX1KkkEPEsATyIj/4REfdgGMIQd25fy/5wfY7wwHMuH9jGJgRRZ9wJIYSAwghhCDiLa4Ae6De+Hh8OgHuzPOxj0G4vhuT3hKaCM8ItwgtBPuTBIXyoZ4ORa0Q/2g/vyk/Zgf3ApquuL+uDdUh8o4EzcADrgLXIeD+8KVXSHL7fdbmRXWEO2/RfDDHeq3ozhRUMowih/FZuiVGnYaroMqylz/mB+Vr2mD+eYOzgxdn/tD9oVwDBtqiS3CDmDnsJPYBawJqwcs7DjWgLVgR5V4cMc96dtxA6vF9PmTDXWG7pnvd1aZSblTjVOn0xfVXJ5oWp7yYeROlk6XiTMy81gc+MUQsXgSgeMIlrOTsysAyu+P6vX2Jrrvu4IwW75z838HwPt4b2/vke9c6HEA9rnDV8Lh75wNG35a1AA4f1igkOWrOFx5IMA3Bx0+ffrAGJgDGxiPM3ADXsAPBIJQEAniQBKYCL3PhPtcBqaCmWAeKAIlYDlYA8rBJrAVVIHdYD+oB03gJDgLLoEr4Aa4C3dPB3gBusE78BlBEBJCQxiIPmKCWCL2iDPCRnyQQCQciUGSkFQkA5EgCmQmMh8pQVYi5cgWpBrZhxxGTiIXkDbkDvIQ6UReI59QDFVHdVAj1AodibJRDhqGxqET0Ax0ClqALkCXomVoJboLrUNPopfQG2g7+gLtwQCmhjExU8wBY2NcLBJLxtIxGTYbK8ZKsUqsFmuE9/ka1o51YR9xIs7AWbgD3MEheDwuwKfgs/EleDlehdfhp/Fr+EO8G/9GoBEMCfYETwKPMI6QQZhKKCKUErYTDhHOwGepg/COSCQyidZEd/gsJhGziDOIS4gbiHuIJ4htxMfEHhKJpE+yJ3mTIkl8Uh6piLSOtIt0nHSV1EH6QFYjm5CdyUHkZLKEXEguJe8kHyNfJT8jf6ZoUiwpnpRIipAynbKMso3SSLlM6aB8pmpRrane1DhqFnUetYxaSz1DvUd9o6amZqbmoRatJlabq1amtlftvNpDtY/q2up26lz1FHWF+lL1Heon1O+ov6HRaFY0P1oyLY+2lFZNO0V7QPugwdBw1OBpCDXmaFRo1Glc1XhJp9At6Rz6RHoBvZR+gH6Z3qVJ0bTS5GryNWdrVmge1ryl2aPF0BqlFamVq7VEa6fWBa3n2iRtK+1AbaH2Au2t2qe0HzMwhjmDyxAw5jO2Mc4wOnSIOtY6PJ0snRKd3TqtOt262rouugm603QrdI/qtjMxphWTx8xhLmPuZ95kfhpmNIwzTDRs8bDaYVeHvdcbruenJ9Ir1tujd0Pvkz5LP1A/W3+Ffr3+fQPcwM4g2mCqwUaDMwZdw3WGew0XDC8evn/4b4aooZ1hjOEMw62GLYY9RsZGwUZSo3VGp4y6jJnGfsZZxquNjxl3mjBMfEzEJqtNjpv8wdJlcVg5rDLWaVa3qaFpiKnCdItpq+lnM2uzeLNCsz1m982p5mzzdPPV5s3m3RYmFmMtZlrUWPxmSbFkW2ZarrU8Z/neytoq0WqhVb3Vc2s9a551gXWN9T0bmo2vzRSbSpvrtkRbtm227QbbK3aonatdpl2F3WV71N7NXmy/wb5tBGGExwjJiMoRtxzUHTgO+Q41Dg8dmY7hjoWO9Y4vR1qMTB65YuS5kd+cXJ1ynLY53R2lPSp0VOGoxlGvne2cBc4VztdH00YHjZ4zumH0Kxd7F5HLRpfbrgzXsa4LXZtdv7q5u8ncat063S3cU93Xu99i67Cj2EvY5z0IHv4eczyaPD56unnmee73/MvLwSvba6fX8zHWY0Rjto157G3mzffe4t3uw/JJ9dns0+5r6sv3rfR95GfuJ/Tb7veMY8vJ4uzivPR38pf5H/J/z/XkzuKeCMACggOKA1oDtQPjA8sDHwSZBWUE1QR1B7sGzwg+EUIICQtZEXKLZ8QT8Kp53aHuobNCT4eph8WGlYc9CrcLl4U3jkXHho5dNfZehGWEJKI+EkTyIldF3o+yjpoSdSSaGB0VXRH9NGZUzMyYc7GM2EmxO2PfxfnHLYu7G28Tr4hvTqAnpCRUJ7xPDEhcmdg+buS4WeMuJRkkiZMakknJCcnbk3vGB45fM74jxTWlKOXmBOsJ0yZcmGgwMWfi0Un0SfxJB1IJqYmpO1O/8CP5lfyeNF7a+rRuAVewVvBC6CdcLewUeYtWip6le6evTH+e4Z2xKqMz0zezNLNLzBWXi19lhWRtynqfHZm9I7s3JzFnTy45NzX3sERbki05Pdl48rTJbVJ7aZG0fYrnlDVTumVhsu1yRD5B3pCnA3/0WxQ2ip8UD/N98ivyP0xNmHpgmtY0ybSW6XbTF09/VhBU8MsMfIZgRvNM05nzZj6cxZm1ZTYyO2128xzzOQvmdMwNnls1jzove96vhU6FKwvfzk+c37jAaMHcBY9/Cv6ppkijSFZ0a6HXwk2L8EXiRa2LRy9et/hbsbD4YolTSWnJlyWCJRd/HvVz2c+9S9OXti5zW7ZxOXG5ZPnNFb4rqlZqrSxY+XjV2FV1q1mri1e/XTNpzYVSl9JNa6lrFWvby8LLGtZZrFu+7kt5ZvmNCv+KPesN1y9e/36DcMPVjX4bazcZbSrZ9GmzePPtLcFb6iqtKku3Erfmb326LWHbuV/Yv1RvN9hesv3rDsmO9qqYqtPV7tXVOw13LqtBaxQ1nbtSdl3ZHbC7odahdsse5p6SvWCvYu8f+1L33dwftr/5APtA7UHLg+sPMQ4V1yF10+u66zPr2xuSGtoOhx5ubvRqPHTE8ciOJtOmiqO6R5cdox5bcKz3eMHxnhPSE10nM04+bp7UfPfUuFPXT0efbj0Tdub82aCzp85xzh0/732+6YLnhcMX2RfrL7ldqmtxbTn0q+uvh1rdWusuu19uuOJxpbFtTNuxq75XT14LuHb2Ou/6pRsRN9puxt+8fSvlVvtt4e3nd3LuvPot/7fPd+feI9wrvq95v/SB4YPK321/39Pu1n70YcDDlkexj+4+Fjx+8UT+5EvHgqe0p6XPTJ5VP3d+3tQZ1Hnlj/F/dLyQvvjcVfSn1p/rX9q8PPiX318t3eO6O17JXvW+XvJG/82Oty5vm3uieh68y333+X3xB/0PVR/ZH899Svz07PPUL6QvZV9tvzZ+C/t2rze3t1fKl/H7fgUwoCxt0gF4vQMWuUkAMGDdSB2vqg/7GqKqafsQ+E9YVUP2NTcAauE/fXQX/Lu5BcDebQBYQX16CgBRNADiPAA6evRgH6jl+upOZSPC2mBz9Ne03DTwb5qqJv3B76EjUKq6gKHjvwBgeYLhqK5etQAAAIplWElmTU0AKgAAAAgABAEaAAUAAAABAAAAPgEbAAUAAAABAAAARgEoAAMAAAABAAIAAIdpAAQAAAABAAAATgAAAAAAAACQAAAAAQAAAJAAAAABAAOShgAHAAAAEgAAAHigAgAEAAAAAQAABd6gAwAEAAAAAQAAAq4AAAAAQVNDSUkAAABTY3JlZW5zaG908sY30AAAAAlwSFlzAAAWJQAAFiUBSVIk8AAAAddpVFh0WE1MOmNvbS5hZG9iZS54bXAAAAAAADx4OnhtcG1ldGEgeG1sbnM6eD0iYWRvYmU6bnM6bWV0YS8iIHg6eG1wdGs9IlhNUCBDb3JlIDYuMC4wIj4KICAgPHJkZjpSREYgeG1sbnM6cmRmPSJodHRwOi8vd3d3LnczLm9yZy8xOTk5LzAyLzIyLXJkZi1zeW50YXgtbnMjIj4KICAgICAgPHJkZjpEZXNjcmlwdGlvbiByZGY6YWJvdXQ9IiIKICAgICAgICAgICAgeG1sbnM6ZXhpZj0iaHR0cDovL25zLmFkb2JlLmNvbS9leGlmLzEuMC8iPgogICAgICAgICA8ZXhpZjpQaXhlbFlEaW1lbnNpb24+Njg2PC9leGlmOlBpeGVsWURpbWVuc2lvbj4KICAgICAgICAgPGV4aWY6UGl4ZWxYRGltZW5zaW9uPjE1MDI8L2V4aWY6UGl4ZWxYRGltZW5zaW9uPgogICAgICAgICA8ZXhpZjpVc2VyQ29tbWVudD5TY3JlZW5zaG90PC9leGlmOlVzZXJDb21tZW50PgogICAgICA8L3JkZjpEZXNjcmlwdGlvbj4KICAgPC9yZGY6UkRGPgo8L3g6eG1wbWV0YT4KFDFUJgAAABxpRE9UAAAAAgAAAAAAAAFXAAAAKAAAAVcAAAFXAACZRjl40z8AAEAASURBVHgB7N0HmFTV3cfxP4ggEEBBsCAWLCigWLChokZjr9HYEHsPKvYuir2gWCIWFHtHfYMlNjS2KEZixYKCgkgRUEBAAeW9vyNnvDtM3T0zO+V7nifslDu3fO7Es/u75/5Pg9VWW22h0RBAAAEEEEAAAQQQQAABBBBAAAEEEEAAAQQQQCCIQAOC9yCOrAQBBBBAAAEEEEAAAQQQQAABBBBAAAEEEEAAASdA8M4XAQEEEEAAAQQQQAABBBBAAAEEEEAAAQQQQACBgAIE7wExWRUCCCCAAAIIIIAAAggggAACCCCAAAIIIIAAAgTvfAcQQAABBBBAAAEEEEAAAQQQQAABBBBAAAEEEAgoQPAeEJNVIYAAAggggAACCCCAAAIIIIAAAggggAACCCBA8M53AAEEEEAAAQQQQAABBBBAAAEEEEAAAQQQQACBgAIE7wExWRUCCCCAAAIIIIAAAggggAACCCCAAAIIIIAAAgTvfAcQQAABBBBAAAEEEEAAAQQQQAABBBBAAAEEEAgoQPAeEJNVIYAAAggggAACCCCAAAIIIIAAAggggAACCCBA8M53AAEEEEAAAQQQQAABBBBAAAEEEEAAAQQQQACBgAIE7wExWRUCCCCAAAIIIIAAAggggAACCCCAAAIIIIAAAgTvfAcQQAABBBBAAAEEEEAAAQQQQAABBBBAAAEEEAgoQPAeEJNVIYAAAggggAACCCCAAAIIIIAAAggggAACCCAQNHhfaqmlbJlllrEWLVpY06ZNrVGjRtagQQOUEUAAAQQQqD+BhQvrb9tsGQEEEEAAAQQQQAABBBBAAAEE6lVgYZQLLFiwwObOnWuzZs2yH3780X7++eeC71OQ4F2B+4orrmitW7cu+A6zAQQQQAABBPISIHjPi4uFEUAAAQQQQAABBBBAAAEEEKh0genTp9t3EycWNICvc/Detm1bW3nllRMj22fPnm1z58yxefPm2a+//lrp54jjQwABBBAocYEOHTq4PRw/fnyJ7ym7hwACCCCAAAIIIIAAAggggAAChRJo2bKlW3WrVq3cT42EHzdunH0/dWpBNlmn4H2FFVaw9u3bux1T4D4jGqZP2F6Q88RKEUAAAQRqKUDwXks4PoYAAggggAACCCCAAAIIIIBAhQoohPcB/IQJE2zipEnBj7TWwbtGuq+yyipuh3784QdXHyf43rFCBBBAAAEE6ihA8F5HQD6OAAIIIIAAAggggAACCCCAQAUKxMP3b775JvjI91oF76rp3qVLF1dehtC9Ar91HBICCCBQQQIE7xV0MjkUBBBAAAEEEEAAAQQQQAABBAIK+PBdZWc+GTUqaM33WgXvHTt2dBOpqrzM9GnTAh4qq0IAAQQQQCCsAMF7WE/WhgACCCCAAAIIIIAAAggggEAlCbRr186aNGlimnB1zNixwQ4t7+Bdo927du3qduC7qP4NNd2DnQtWhAACCCBQAAGC9wKgskoEEEAAAQQQQAABBBBAAAEEKkRAobvCd7WPP/kk2Kj3vIN3P6Eqo90r5JvFYSCAAAIVLkDwXuEnmMNDAAEEEEAAAQQQQAABBBBAoI4CftR7yIlW8w7e11prLVPtm6nff29z586t4yHxcQQQQAABBAorQPBeWF/WjgACCCCAAAIIIIAAAggggEC5C/hR7zNnzrQvRo8Ocjh5B+/dunWzJZdc0igzE8SflSCAAAIIFFiA4L3AwKweAQQQQAABBBBAAAEEEEAAgTIX8MH7/Pnz7YMPPwxyNHkH7xtttJE1aNDAxo8bF2QHWAkCCCCAAAKFFCB4L6Qu60YAAQQQQAABBBBAAAEEEECgMgSUHyxcuNDeGzkyyAHlHbx3797dbZjgPYg/K0EAAQQQKLAAwXuBgVk9AggggAACCCCAAAIIIIAAAhUg4POD/773XpCjIXgPwshKEEAAAQRKVcB3nOPHjy/VXWS/EEAAAQQQQAABBBBAAAEEEECgngV8fkDwXs8ngs0jgAACCJSHgO84Cd7L43yxlwgggAACCCCAAAIIIIAAAgjUh4DPDwje60OfbSKAAAIIlJ2A7zgJ3svu1LHDCCCAAAIIIIAAAggggAACCBRNwOcHBO9FI2dDCCCAAALlLOA7ToL3cj6L7DsCCCCAAAIIIIAAAggggAAChRXw+QHBe2GdWTsCCCCAQIUI+I6T4L1CTiiHgQACCCCAAAIIIIAAAggggEABBHx+QPBeAFxWiQACCCBQeQK+4yR4r7xzyxEhgAACCCCAAAIIIIAAAgggEErA5wcE76FEWQ8CCCCAQEUL+I6T4L2iTzMHhwACCCCAAAIIIIAAAggggECdBHx+QPBeJ0Y+jAACCCBQLQK+4yR4r5YzznEigAACCCCAAAIIIIAAAgggkL+Azw8I3vO34xMIIIAAAlUo4DtOgvcqPPkcMgIIIIAAAggggAACCCCAAAI5Cvj8gOA9RzAWQwABBBCobgHfcRK8V/f3gKNHAAEEEEAAAQQQQAABBBBAIJOAzw8I3jMp8R4CCCCAAAKLBHzHSfBeWV+Jxo0bW7+LLkoc1P/93//ZiHfeSTyvhgdrdepkhx56aOJQB15/vX3//feJ5zxAAAEEEEAAAQQQQAABBBDIXcDnB1URvPfv398aNGyYu05sydGjR9u999wTe4WHCCCAAALVKOA7zmIF7zvvsov16NEjL+rbb7vNirV/ee1YCS/cpEkTG/rEE4k9vOUf/7Bnn3028bxQD5Zddlk7uW/fxOq//fZbu+3WWxPP0z3YYYcdbKuePRNvD/vnP23EiBGJ57V5sPHGG9e4+HDcscea9oeGAAIIIIAAAggggAACCCCQv4DPD6oieP+/6I/SJZZYIn+l6BMj33vPLrzwwlp9lg8hgAACCFSOgO84ixVsH3PMMbbHnnvmBXjaqafa559/ntdnqn3h+gre5X77HXfYiiuu6E7Br7/+agf36mWzZs3KeEpuuPFGW3311d0yCxcutMMPO8ymTp2a8TPZ3iR4zybE+wgggAACCCCAAAIIIIBA7gI+PyB4z2JG8J4FiLcRQACBKhHwHSfBe2Wd8PoM3g8++GA74MADE6DXDRhgw4cPTzxPfqBR8nfH7sIb9cknduaZZyYvlvdzgve8yfgAAggggAACCCCAAAIIIJBWwOcHVRG8b7DBBmYNGiyGcc4551izZs3c6x999JE9+uijiy0za+ZM+/LLLxd7nRcQQAABBKpLwHec9RW86+4rjXDO1D7/7DObM2dOpkV4L0mgPoP3lVdZxW655ZbEHr315pt2+eWXJ54nP9h1t93s+OOPT7w8aNAge+bppxPPa/uA4L22cnwOAQQQQAABBBBAAAEEEFhcwOcHVRG8L374v7/y4EMPWcuWLd2T1/79b7v66qvTLVrQ1xtEFwWWX355++WXX2z6Dz9YlKzkvL0ll1zSlm3b1v70pz/Z9GnTbPr06VmDmZxXzoIIIIAAAgkB33HWV/C+WxS65tM/JHY84IPWrVub/jdhwgSbO3durde8QlReZeFvv9mkyZNTHpMmPF1ppZVcCZWZ0QXw2jSto23UP/744482e/bstKvIN3hXn62R58tEDro4rzIv8+fPT7v+bG/cHNWUX3XVVd1iMj0oGgGfbn2XXnaZrb/++m7Z36LSNL1797YZM2ak3IQGFqiMjfZPBplafQTv2j+dn0aNGtmUaCJXWebT3HekQwebGR1/XUvt5LNdlkUAAQQQQAABBBBAAAEEsgn4/IDgPYfgfb/997d99903YXr++efbF2lq6N4aTWynUELtww8/tEsvucQ93iWaJO+www93j/XPgQccYG3atLEjjzzSNtl0U1OArqbark9Ho9cei0bfz5s3z72W6h+Nktt/v/1siy23dH+0+mX0B/jz//qXPfLIIy7I96/zEwEEEECgbgK+4yyL4D0KhzVyeo011nAHrZHyqv+ePGHmet26mfo03x584AF76qmn/FP3s3Pnztb7kENstdVWcxd59aLWN2nSJFdP/rao30sVmg65+25r3ry5W8eT0eSlDz/8sB111FHWY4stXOCqN9Tn3XXnnfbiiy+65XQRWrXtu0eTfTZcNCm6Qv5/PfecPfnkk26Z+D+nn3GGbbLJJu6lL774ws4/7zzr0qWL61vXWHPNGutQv/rSSy/FP+4e5xq8t2jRwvb9299sxx13TDhoBeqrX3/tNXd8EydOXGz92V74W9SXH3rooYnFLurXz/773/8mnvsHsnzgwQcTff7//vc/uyB27rScfq846uijTedMj31T8D5mzBg3WXyqu/gyBe/ars6lb7dGo+xTlcPpufXW1qdPH7+YOwepvhfa1j7R71Rdu3ZNLKsH4775xjQnj36HSdf0u5IuNuj7sVL79tZw0fw9urDy9ddf2wP33+9+90r3eV5HAAEEEEAAAQQQQAABBIoh4PMDgvccgndhDbr11sR5eSQKD+67777Ec/9glSgM/0fslvEbb7jBXnjhBff2HnvsYccce6xf1I6J/jAecN11pj/kU7VXX33Vrr3mmlRvWfvoj81rrr02MVo/1UKqTX/xxRebJmujIYAAAgjUXcB3nGURvEeHq1HUA6N+SCOK1d6L+oV+scnCNXJbE3V27NjRva9g9pS+fWv0G4cfcYTtvffeiQDbLZj0jwL4/lF/M27cuBrvPBxdANbdWGqPRo81ybkC11TtHzff7PbvpuinD+uTl7snCn8fe+yxGi+fGwXtPXr0cK99+umn9vjjj7sLCTq2VO3mm26yfyUFu7kE7xpdfcUVV1intddOtVr32vfRqO3TTzvNpkV3n+XTVlhhBbtj8ODERxQ83xTtZ3JTsB2v537DwIGJCxZadquePe3EE09MlNBL/rye6866AdHvD2+99VaNtzMF7zqHOpe+JW/Xv/7n7bazU6OLO75p5H7y3QpbRoMFzjzrrIzfJ4XnD0V3JCa35ZZbzs4599zExaTk9/X8t+guCg080DpoCCCAAAIIIIAAAggggEB9Cfj8gOA9h+BdJ+lGhROrr+7Ol8KJk6I/bpPb36KRcIcedph7WbeJH9yrV+L29uTgXSP4FKDrj0StT6P8fEDh1zv4jjsWG3mo0fTXDrjW2rVbzi2mWr4aWa+RYutEI9zWWWedRMjiwvvoD+z6Lk3gj4efCCCAQDkL+I6zXIJ3WSdP3qk68bowq7ZDNHL7pJNOco91kVYj4uOjoTU/yiWXXure1z9Tpky2UaM+tdk//WQbbLihK2Pi39Ro4z5//7t/6n7Gg/fvvvvOLa+7sr6K5k1ZNRo97+8O08IasTw5KjujiwA/RCXXxkb9YoeVV06MjPcrPjQaeR8PtuPBu9atiwwK7hUwfxPt02rR+vwdZVrHggUL7KxoMtLPY3etZQveNfL+gshN4bSarBTya2JT7WO36K4BP1+M+mKF4z9FRvm066IL8Wt16uQ+ouPXqO7kvluBdc8oXFfTcfQ66KDE7xj6/UGTri611FLufd1JoP37LhqB3zn6vWDNtdZKhN36vaNX9PtJfDR6MYL3dddd1/pHdwH686HzOHLkSPd96haVz9EdFb7pQsxz0V0O8XZeNLp/8803dy/pLoOnhw2z0dF3qX1UTmfTzTazNaM7HHw75ZRTbHR0BwQNAQQQQAABBBBAAAEEEKgPAZ8fELznGLzvtdde7vZtf7IOi24LT64penU0Ql23d6v95z//sctigUVy8K5lnn32Wbvv3nvdrfYanacgQ7f8a2Sdmuq3ahI1hfS+XTtggK29aMSd6ppqdJlGG/qmW/g1aawf7adbwlW6hoYAAgggUDcB33HWV/B+R3QxNtPkqpOjvuCdd96pcZAKOW+MRk/7fdeodAXkCps1ynrppZd2y2skuUaUx1v//v1tw402ci99EoW4KuMSrz2u0fD77LNP4iMKguP1xuPBuxb6v6iEjRvZHZWpUR91cjS6fvvtt098Xg8ejEqpqNyNb8ced5ztvvvu/qldHtU4j4/WjgfvWkg+Gi3+6iuvuBIwOs7dos8fHiv1ppHphy+6SK7PZAvedUFdF9bVFFprH95++233XP+oXr2Cc38HW7YJUhMfjD1I/h1DF0HiFwd0QUHz0viA/51o+5csKmWn1cQv/KusjD6vCxm+JQfrV0aj99944w3/truo0O+iixLPj4vu0PNliUKMeNf37Pbo++v3/7NoEuBzo99V4iX14udazidHF4XGjh3r9km/F+n75H8/kvfwl19O7K989PuRL630wvPPuwETiQV4gAACCCCAAAIIIIAAAggUUcD/DU7wnmPw3jqqlXp3FEr4mrO3RJOhKTj3TX9wPxCFBb7e6FVXXmmvv/66f9uSg/ePP/7Y/dGpPy7jTSFE32iklm8Dr78+UZN25Whk3S1RkO6bQpERSSGL3jshClVUU15t9OjRrnSAe8I/CCCAAAK1FvAdZ30F79l2XCPZNaI9uelOqKuiycN9/6ULsm2iyUF9mKyAVXdxxUNQrcMHyXqsST81yjre2rVrZ3cNGZJ4Kbnfiwfv30UXkF25tSgY901h7P2xkP2baLT43084wb/tfiqofTRWXkalZO6ObTM5eH80quN+bzTyO7lpBPR2sZD/iCiInzJlilssU/CuCwTax1atWrllVWf+zlhZGL8djUTXiHQ1OemOt3xGvaseu0as+4vmyRdCdGE+HrRrMnhNCu9b06ZNE3e76TxqxH+NFh3HXXfdmbhb7tlnnrFbYqXxkoP50MG7JgY+LhpIoKb90+CF5DI0OvZ/RL9baQ4btaFDh9qQu+5yj1eP7jhUWSTfFNrrbr940+dVzkhNF2AotRfX4TECCCCAAAIIIIAAAggUU8DnBwTvOQbvOjmXRqPc1o9uh1Z799137eLY6LBtttnGNMmbmsq/6I/ueIiRHLxfEU169+abb7rlk/95JAoOfI1bN0IwGiWm9tdoZOER0QhDNQX2+0Uj8H7++Wf3PP7P1lEd2DOiW9192zf6XKrl/Pv8RAABBBDILuA7znIL3nVk8dHECtE1El6jhNWXnB0FxqNGjcoOkGKJp6MA17dBUaD/TOwOq3jwrvlONO9JctMI95aLQm3VXlcN9uR2T3RnmJ8oNDkwTg7eD4zqisdLqPh1qYSNRv77dkl04drfHZApeFf5kuujWuq+pZv4VBfn74320zf9fqDfE/JpV0QX7FWORU0XQxR++3ZCdEFil113dU8Vqqt++mLhul84zc/Lo1Hu6623nnv3zWi0u2rW+1bo4P2iaA6A7t27u81pEtxTYwMM/D7op2rU77jTTu6l+MABfVd1AcaPeJ8elanRBRHdXZjqfMfXyWMEEEAAAQQQQAABBBBAoNgCPj8geM8jeI+PRleofsD++yfCddV01cRnasOHD7frolue4y05eD/2mGNqlJCJL6uRbJ27dHEvaUSXRnapxYMTPU8eLabX1FouOqbfn5kdHU3kOjGqr0tDAAEEEKi9gO846yt412jg1FOG/n5MGsH93//+N+UBqva37pjSKPV4GxbVyb4tNnl4/D3/WJN/dorqj6sG+UorrWR/imqoN49qiusCsS9Vo2UzBe+aXDUeTPt1Kzz164iPcPbv6+fgO+9086Docabg3dVGP/hgLbZY04UGrd/flRafwDNT8K6JWxXux1sufa/K3WiS1Hya7lTTHWu+aRJ21caPhsHbPdFoeH/xQXfT6e6CVE0j8zUB7FrRBQPNS6O7FnSe9D//eX2u2MH7zdF3d9VVV03sci6GCtcPiWr6+5Zc2kiva2S7yvGpdM1/ogljNYFw8p0Z/vP8RAABBBBAAAEEEEAAAQSKJeDzA4L3PIJ33fKukMCPuOofjeAaMWKEu33/oYcfToxS7xfd6q8//uItOXjfc4890t4Grbrtf95uO/fxeC3aM6IR9VtHI+vzbVrfF7GJ5PL9PMsjgAACCFiiTnp9Be8q1xEljbU+FfHJVP1K4iVX/Gv+p8Lq46Ia634Esn893c/6Dt41av/MRXeepdrHIVG5uLZt27q34hfIMwXvO0Wjr/ukmEw91frjr6kcjsri5NNaRL+P3H///YlyKXdFZVaeiC4WJI+6vzSq7R6vMe+3oeBe5Xw0OjxbK3bwfu9999WYTDfb/ul9DXD4695711i0V3RhZc8990zUiq/xZvRE5X10UUUXlGgIIIAAAggggAACCCCAQH0JELxH8pqozI8OV61UjTTP1s46+2zbaqut3GKq8a5a712i0emqn6umCU8Pjv4wTK7dnhy8ZxqFfuVVV1nXrl3d+lQLXmUA1DTR6q4KXha1VLft6y3VOP1VteMXBTT6Az3d6DK/Ln4igAACCGQW8B1nOQbvqu8+MCqZolHQ8fbqq6/atdHE4Kla/O4rva/JOkeOHGm6IDx79mybHYWcvsSa3q/v4D15hLT2yTeF0UOfeCIRaj8U9f8KaNUyBe9bbrmlnb3orjMtq0A9XX+qbfjR1iqn8vXXX+sjebX4hLb+QkLv3r1t/wMOcOtRKTtNYhuf5FZv6PeOA6LyM74pgNa5UskaPdb5Up173+oSvOt3D5UOSm6qoR/fhsrheCvdbaF5atQUqGuegVQtbqjfo1566aXFFtPghy2iieQ3ikrXaLL55ZdffrFlVIdf9fhpCCCAAAIIIIAAAggggEB9CPj8gBHveYx414nadLPN7IILLnDnbOrUqW6CMNVdV/11teTb4N2L0T/JwfvlUY33t9LUeI/XxY2XAfjbfvvZodGEZGq//fqr7bvvvolSN+5F/kEAAQQQKJiA7zjLMXjfL+o/DlnUfyi81R1cvqW6S2vFFVe02xfNL6LlVI4meRSxAtAnYuFmfQfv2s8Do4B61qxZelijqcyJyp34dnk0Z8tbUWkStUzBuyamvebaa/3H7ILzz7f//e9/ieehH8TDawXPvaNAXbXZV1k04ejLURB9fTTpenKLjyh/I6rfrlI0KsMSbwOiEngqQ6OWT/CePMFtulA7/h3TNuLB+yWXXmobbLCBXrZPP/3Uzjj9dPc4xD8qn7TTzju7kfA6l2oTJ060o486KsTqWQcCCCCAAAIIIIAAAgggkLeAzw8I3vMM3jWaXOVmVDdV7cQ+fezMaES6B1Wt91GffLLYCUkO3j/44AM7P6obm/yH8VY9e9pZi0a4ayU33nijvfD88259a661Vo0/uNMFANrHVksvndiH6dOnJ0a/J17kAQIIIIBAXgL+v/PlFryrLvtNN9/sJlTVAV8YlUNTWZLNogvJahrBfnxUUiY+CbfK2hwX3WWlplHcmsw7PmG4Xt9oo43s4miSUt9KIXh/MOqfNWFrcvt71FfvHIWzvimUVTirlil41wjsB6L1+QnP09Wq13pat27t6rHr8U9R+J/spdezNYXc2p7K/Kg9EY3S/+tf/5r4mC78/y8ayR5vGkmuEeW+nXvuufZh9DtGvGm9ustPx6OWT/Cu5eOT4GoU+sAU4X88XNdn4sH7PtFAgcMPP1wvu+/ZoVHtdo3CT26ai6BZVI9ebcH8+YkR87pjQ/9T0wWJ5LsK9XpyDfj9o4tNqbahZWkIIIAAAggggAACCCCAQCEFfH5A8J5n8K6TosnPFFqoTZo0KXGbs6vHrj8sk0aZabnk4F2vPRWNFLwvqnv6yy+/6Kl17tzZhRhNmzZ1zxXK94m29c0337jn+mdQNOrQnzxNJHdaVL9dE+r5pj+qVdPdT/Q6btw4O+GEE1Luk/8MPxFAAAEEsgv4//bWV/C+e6zUWLq9Tb6Y2yCamPPqqJSMRm6rjXjnHVM5E5XnUH/iA9743VVaTqH8+Yvu7tLzK6NR1xpJ7VvrNm3s4miek9VWW82/VO+lZrQjCmSviY73jWgCUlnoQrRq1Lt+cNGeqvzJQVG5Ft9XZwre9ZF4n6+7zeSXPInt7rvv7iZA1/K6UHFkdCfctGhy0Nq086JR9ZtvvvliH9V+H9yr12KhswYCKKz3wfQzTz/tzoVfgX4v6BuVmdkmNkdMvsH7pdEdAuuvv75bpS4onB6NWB/z1Vd+ExY/fv9iPHjXqPTbbr898X376KOP3N0DvjSPPqNJdq+IRur7/5/F7yDUXYW6u1BN2z8rGuQwevRo99z/E7+4ootIuivQn2O/DD8RQAABBBBAAAEEEEAAgWII+L9rCN5rEbx3jmq6p6oHPzSaSG1IVP81VUsO3r+bMMFWbN/e1WnVbde6rX/ZZZet8dF4DVr/xgorrGDXRreLt2rVyr2k2q0fvP++fR5NnrpMNNpu0003devyy+t289ejAIKGAAIIIFA3Ad9x1lfwnsve62Ks+gPf4oGo6oKfEI1i9yO947XDFVgrzFR/pKYR0g9Hk4Y3jIJrNZWnUc3wzz/7zFaOyp5svPHG1jIKfP37Wqa+R7zPiOZY0YUE7bvKzYwZM8ZNTKrnvik479evX41yMdmCd5XUUfCsi+NqCos1/8qHH35ojaPtrbveem6uF7+N5ODbv57rT80jo/lkkpufVyb5dT0fGNVdX2ONNdxbOkbtn0riLLPMMrbBhhu6MFuv+/OVb/B+SDRCfb/9909sWt8l1aCXeceOHU13Vfz4448uPPcLxYN3vaaLCedE9fL9PkyZMjkavf8/V4e+ffT5ntEdf/5c6ft28kknJb6rurhwz733Jia317ZefeUVtw865xtvskmNCwtPRxcf0tWR9/vHTwQQQAABBBBAAAEEEECgUAI+PyB4r0XwbtEIwrvuutPatVuuxvlR2ZmxY8fWeM0/SQ7ejzv2WBtw3XWJ29f9cv7nu+++60YTphqtpcnxrowCdf8Hqv9M8s977r7bHnvsseSXeY4AAgggUAsB33GWS/CuUcYqQaLyHWqPPvqo3XvPPYkjV6CsOu7+oq/ukDrpxBMTE4RqxPBhi8qDJD606IGC+suiMNrPeaKX6zt410WDJ6PSLOdGZdzSNV0c10XyeMsWvGtZlZrRxOfxEf7xdfjHI0aMsEsvuWSxUen+/Vx+6ryoLIw/b/4zujDySYpSdnq/W7duppHy6X4vGDp0qLsIsV50kUAt3+Bd+6Ra85rMNFXTnXnD/vlP6xN9f3xLDt71+g477GAnnXyyXyTlT41ovyi6OKILG/Gm+veaZD7ZJb6MHqsUjia+r02pn+R18RwBBBBAAAEEEEAAAQQQqI2Azw8I3msTvEfiyaO/XEmXRfVwU52Q5OB9zz32sHbLLecm/+oejRz0t4ir7MyLL77owhGN+ErX1lxzTTvwwAOte/fuidFjWlYj2j6MbuG+JwpXRn/xRbqP8zoCCCCAQJ4CvuMsl+A9XnNbZU+OOfroRGkzf+gaZax5SnxLvtNq2223NU3srRHNvp/SBWYF2CPfe8+efuYZ/9GSCN41aadKohwZ1XCPh+TTo+NXvfSnnnoqsb/+QS7Bu5bV6PGDolIvW2+99WIBt34HeDgKy1/THWYpys35beX684wzzrCtY6VhdP4OiybHTS4lFF+fLsqrpM7q0U9fQkgj0h+J7lxQKaHLokndaxu8azsadX5KVLKm67rr1jh+hfi3R2VkukXuKnXnW6rgXe/pO6fSMX6Evl9eQfkrw4e7evLpyvTorr9jo/kIOnXqlJhrR5/XZ/X/S5XweyUaCU9DAAEEEEAAAQQQQAABBOpTwOcHVR281+UEHHDAAXZw796JVQyORg2m+oPeL5AqeP81CsnVNJJMoYZCd9Vr1y3cuTaNwlsuCvBbRhcQVGNeNef9enNdB8shgAACCGQX8B1nsYL37HtUvCU0klol0dRHqdZ4qTSNbu/Ro4fbHY14V/Dum4Ji1bJXWZKpU6dmDK39Z3L5qT5bdxO0iercq6TNhKh0nJ+rJZfPF3oZ1XTXhKvat++j4w5xISC+z5o3QOvXfDTffvutqeRdbZomo122bVtbqkkT++6772yqauLncdFCF0LaRyX79H3U/yczXZSozf7xGQQQQAABBBBAAAEEEECgtgI+PyB4r4WgJgDTJGEKvdU0ouzwww7LeFtzpuC9FrvARxBAAAEEiizgO85qDN6LTJ3z5jIF7zmvhAURQAABBBBAAAEEEEAAAQQQCCjg8wOC9xxRNdpvm+iWe41M3ySaxEuj6Hy7c/BgezK6vTlTI3jPpMN7CCCAQOkL+I6T4L10zhXBe+mcC/YEAQQQQAABBBBAAAEEEEDgdwGfHxC85/iNUDmXO++6a7Gl//Of/9g1V1+dcbS7PkTwvhgdLyCAAAJlJeA7ToL30jltBO+lcy7YEwQQQAABBBBAAAEEEEAAgd8FfH5A8J7jNyI5eFe92P+LJmnLNtLdr36XXXe1o6LJ3nz72777UovdY/ATAQQQKAMB33ESvJfOydLEsJtttpnboc8++8zOPeec0tk59gQBBBBAAAEEEEAAAQQQQKAqBXx+QPCe4+nXZGWdOnVyI9s1mdjcuXNz/CSLIYAAAghUgoDvOAneK+FscgwIIIAAAggggAACCCCAAAIIFEbA5wcE74XxZa0IIIAAAhUm4DtOgvcKO7EcDgIIIIAAAggggAACCCCAAAIBBXx+QPAeEJVVIYAAAghUroDvOAneK/ccc2QIIIAAAggggAACCCCAAAII1FXA5wcE73WV5PMIIIAAAlUh4DtOgveqON0cJAIIIIAAAggggAACCCCAAAK1EvD5AcF7rfj4EAIIIIBAtQn4jpPgvdrOPMeLAAIIIIAAAggggAACCCCAQO4CPj8geM/djCURQAABBKpYwHecBO9V/CXg0BFAAAEEEEAAAQQQQAABBBDIIuDzA4L3LFC8jQACCCCAgAR8x0nwzvcBAQQQQAABBBBAAAEEEEAAAQTSCfj8gOA9nRCvI4AAAgggEBPwHSfBewyFhwgggAACCCCAAAIIIIAAAgggUEPA5wcE7zVYeIIAAggggEBqAd9xEryn9uFVBBBAAAEEEEAAAQQQQAABBBD44455gne+DQgggAACCOQgQPCeAxKLIIAAAggggAACCCCAAAIIIFDlAj4/IHiv8i8Ch48AAgggkJuA7zgZ8Z6bF0shgAACCCCAAAIIIIAAAgggUI0CPj8geK/Gs88xI4AAAgjkLeA7ToL3vOn4AAIIIIAAAggggAACCCCAAAJVI+DzA4L3qjnlHCgCCCCAQF0EfMdJ8F4XRT6LAAIIIIAAAggggAACCCCAQGUL+PyA4L2yzzNHhwACCCAQSMB3nATvgUBZDQIIIIAAAggggAACCCCAAAIVKODzA4L3Cjy5HBICCCCAQHgB33ESvIe3ZY0IIIAAAggggAACCCCAAAIIVIqAzw8I3ivljHIcCCCAAAIFFfAdJ8F7QZlZOQIIIIAAAggggAACCCCAAAJlLeDzA4L3sj6N7DwCCCCAQLEEfMdJ8F4scbaDAAIIIIAAAggggAACCCCAQPkJ+Pyg3oP38qNjjxFAAAEEqlJg4cKqPGwOGgEEEEAAAQQQQAABBBBAAAEE8hcgeM/fjE8ggAACCFSjAMF7NZ51jhkBBBBAAAEEEEAAAQQQQACBWgnUW/C+2mqruR0eO3ZsrXacDyGAAAIIIFBMAfqtYmqzLQQQQAABBBBAAAEEEEAAAQTKUyB0ftAgWmFe9+CH3oHyPA3sNQIIIIBAuQjQb5XLmWI/EUAAAQQQQAABBBBAAAEEEKg/gdD5QYNohQTv9Xc+2TICCCCAQIEFQnecBd5dVo8AAggggAACCCCAAAIIIIAAAvUgEDo/IHivh5PIJhFAAAEEiicQuuMs3p6zJQQQQAABBBBAAAEEEEAAAQQQKJZA6PyA4L1YZ47tIIAAAgjUi0DojrNeDoKNIoAAAggggAACCCCAAAIIIIBAQQVC5wcE7wU9XawcAQQQQKC+BUJ3nPV9PGwfAQQQQAABBBBAAAEEEEAAAQTCC4TODwjew58j1ogAAgggUEICoTvOEjo0dgUBBBBAAAEEEEAAAQQQQAABBAIJhM4PCN4DnRhWgwACCCBQmgKhO87SPEr2CgEEEEAAAQQQQAABBBBAAAEE6iIQOj8geK/L2eCzCCCAAAIlLxC64yz5A2YHEUAAAQQQQAABBBBAAAEEEEAgb4HQ+QHBe96ngA8ggAACCJSTQOiOs5yOnX1FAAEEEEAAAQQQQAABBBBAAIHcBELnBwTvubmzFAIIIIBAmQqE7jjLlIHdRgABBBBAAAEEEEAAAQQQQACBDAKh8wOC9wzYvIUAAgggUP4CoTvO8hfhCBBAAAEEEEAAAQQQQAABBBBAIFkgdH5A8J4szHMEEEAAgYoSCN1xVhQOB4MAAggggAACCCCAAAIIIIAAAk4gdH5A8M4XCwEEEECgogVCd5wVjcXBIYAAAggggAACCCCAAAIIIFClAqHzg7IJ3hs3bmwtWrSwZs2aWaNGjcr+9C9YsMDmzJljs2bNsnnz5pX98XAACCCAQKkKhO44S/U42S8EEEAAAQQQQAABBBBAAAEEEKi9QOj8oCyC99atW1urVq1qr1bin5wxY4ZNnz69xPeS3UMAAQTKUyB0x1meCuw1AggggAACCCCAAAIIIIAAAghkEgidH5R88N6uXTtr3rx5JpOKeG/27Nk2ZcqUijgWDgIBBBAoJYHQHWcpHRv7ggACCCCAAAIIIIAAAggggAACYQRC5wclHbxX+kj35K8EI9+TRXiOAAII1F0gdMdZ9z1iDQgggAACCCCAAAIIIIAAAgggUGoCofODkg3eVdO9ffv2peZf8P2ZMGECNd8LrswGEECgmgRCd5zVZMexIoAAAggggAACCCCAAAIIIFAtAqHzg5IN3tu0aWMtW7aslvOaOM6ZM2fatGnTEs95gAACCCBQN4HQHWfd9oZPI4AAAggggAACCCCAAAIIIIBAKQqEzg9KNnjv0KGDNWrUqBTPQUH3acGCBTZ+/PiCboOVI4AAAtUkELrjrCY7jhUBBBBAAAEEEEAAAQQQQACBahEInR+UbPDuD7RaTmz8OMeOHRt/ymMEEEAAgToI+P6E/7bmj7jEEkvYr7/+mv8HA3xCd70tvfTSNnHiRJs/f36ANbIKBBBAAAEEEEAAAQQQQAABBNILhM4PCN7TW9fbO4RD9UbPhhFAoAIFQnecuRDts88+tu222+ayqD355JP28ssv57RsoRdq2rSp7bvvvtalSxdbZ511bLnllrNx48bZZ599Zh988IE99dRTBQ3il1xySdtvv/2sV69e1rZtW3e4Cv4//vhju/nmm+39998vNAHrRwABBBBAAAEEEEAAAQQQqFKB0PlBxQbvmph1u+22s59//tkeffTRsvq6ELyX1eliZxFAoMQFQnecuRzuJZdcYjvttFMui9rAgQPtgQceyGnZQi604oor2oABA2yNNdZIu5m33nrLzjvvPPvpp5/SLlPbNxT633LLLda1a9fEKhYuXGgNGjRIPL/++uvtwQcfTDznAQIIIIAAAggggAACCCCAAAKhBELnBxUbvG+wwQZ2zjnnmCYrPeqoo0L5p12PatJrpN7kyZNt9uzZaZfL5Q2C91yUWAYBBBDITSB0x5nLVv/xj3/YJptsYq+88oqNGjUq40feffdd++STTzIuU+g3dbH67rvvdqVd1IfdeeedbpS5+rRVV13VttxyS/vb3/7mdmP0F1/YQdGI9NBNoX/Pnj3tt99+s4ceesgefvhhN9m4Rt6fdtpp1rlzZ1MQf9ZZZznX0NtnfQgggAACCCCAAAIIIIAAAtUtEDo/IHgP9H268cYbbfnll7cbbrjB3nzzzTqtleC9Tnx8GAEEEKghELrjrLHyNE8UHGvk+Omnn27//ve/0yxVOi8fe+yx7iL11KlT7Zhjjkk5ybfKv/Tt29ft9AEHHGBfffVVsAPo3r27DRo0yK3vtttus8GDB9dYd5MmTezee++1jh072oQJE0ylfOqr9nyNHeMJAggggAACCCCAAAIIIIBAxQiEzg8qNnhv3ry56bZ5/WE+ZsyYgn8BCN4LTswGEEAAgVoJhO44c9mJF1980Y0eP/TQQ7OOeM9lfYVeRrXbNepdgbeC71RNk53quBo2bOjqrd9zzz2pFqvVayoxs/HGG9u3337rQnWNek9uupPt9ttvdy9fdNFF9swzzyQvwnMEEEAAAQQQQAABBBBAAAEEai0QOj+o2OC91sK1/CDBey3h+BgCCCBQYIHQHWe23V1iiSVMtdAVUO+66642ZcqUbB+p1/d1oXrPPfd0+/DSSy9l3F+936pVq4wBfb4H06xZMxs+fLjJTROoZgr0H3vsMVf6RvuhcnI0BBBAAAEEEEAAAQQQQAABBEIJhM4PKip479KlixthGMdesGCBvfPOO/GXajxeaaWVbO2117YZM2aY6uwut9xytt5667nX5syZ4+ruvv322zU+oyeq6d6pU6fE6/vvv78LI15++eXFbr//6KOPXO33xMJZHlBqJgsQbyOAAAJ5CITuOLNtetlll7XnnnvO1Srv0aNHxZREWXPNNRMTm55wwgmuz8xmkcv7MlKZNrVs67344ottl112sR9++MF22GGHXFbPMggggAACCCCAAAIIIIAAAgjkJBA6P6io4P28886zbt261YDMNrnqjjvuaEceeaSNHj3a7rvvPjv//POtcePGNdahkXX+9nb/xs4772yHH364f5rxZ7513wneM3LyJgIIIJCXQOiOM9vG11prLXvggQds+vTppj5GF3dVE13BtUZ3a8LSN954w4YNG+Yu+mZbXym836JFC7vmmmtso402sg8//NCOO+44mz9/fpBdUzmePn36uHXtvffertxMuhX7WvR6XwH8999/n25RXkcAAQQQQAABBBBAAAEEEEAgL4HQ+UFFBe9du3a1ZZZZxoGuuuqqtvvuu1uuwbsCEk3eptHx+t/ChQttu+22s0033dStT7e0xyeS08j4lVdeOXHyjjrqKLdtBSmfffZZ4nU90Oe0/lwbwXuuUiyHAAIIZBcI3XFm26Ifwf3FF1+YaqefeeaZKT8yadIkN5HpxIkTU75fXy82bdrUXSTQ9lVWRneTaXS57vT6+OOP7aSTTrJZs2YF2z2tr3fv3q7f3WKLLTIG+nvssYddcMEFbtsHHnigffnll8H2gxUhgAACCCCAAAIIIIAAAghUt0Do/KCigvf4V0OTsCkszzV412cVmmvUe7xde+21LmBX2YAhQ4bE36rxmBrvNTh4ggACCJSMQOiOM9uB7bbbbtavXz/75Zdf3B1Uo0aNsueff96++eYbN+l39+7dbeutt7ZGjRq50d3HHHNMSY3c7ty582J11idMmGBXX321q12f7fjzfV93mqnGvEavaxR7pia7QYMGuUU0+n3kyJGZFuc9BBBAAAEEEEAAAQQQQAABBHIWCJ0fELwvKjXz22+/uZGHCurjTbXb99lnH3vvvffsqquuir9V4zHBew0OniCAAAIlIxC648x2YIcccoideOKJbrGbbrrJ7r//flfvPf65bbfd1i6//HIXvmsUea6ly+LrSPVYE5Tq7q1MTXd0zZ07N+0iKonj+zutSzXrNVGsnzNFJWcUxIdqukihixVa51577ZVxtSonN3jwYLdMtnrwGVfEmwgggAACCCCAAAIIIIAAAggkCYTODwjeFwXv06ZNs+OPPz6J21x9XtWAV7kYjaBP1wje08nwOgIIIFC/AqE7zmxH8+c//9k233xzGz9+vN17771pF1d5FZVZUTv44IPt888/T7tsrm+sv/76dscdd2RcXBOHa8R9rm3JJZe0TTbZxP7+97+7EjQK7Q877DAbM2ZMrqvIuNwpp5xiBx10kAv2VWpGF8LTNdXMv/TSS93boczSbYvXEUAAAQQQQAABBBBAAAEEqksgdH5A8L4oeE8XrCtA0SRy48aNs9NPPz3tt43gPS0NbyCAAAL1KhC64wx1MJqL5LHHHnOru/LKK23o0KF1XnUhgne/Uy1btnQXEtq3b2+ffPKJC9/9e3X5qTlSVDZGbdddd7UpU6akXZ0Cf10AUFO991Krj592x3kDAQQQQAABBBBAAAEEEECg5AVC5wcE74uC99GjR9t555232BeA4H0xEl5AAAEEykogdMcZ8uBffvllU6B955132q233lrnVS+11FK2wgorZFyPRpSr3nxtWq9evaxv377uo3/5y1/sxx9/rM1qanxGE7dedtll7jWF8B988EGN9+NPzj33XNt7773t559/NpXrUfkbGgIIIIAAAggggAACCCCAAAIhBELnBwTvBO8hvpesAwEEEChZgdAdZ7YDXWuttVzt9smTJ5vKmKVrzZo1s+HDh5vqsg8cONAeeOCBdIsW9HUF9W3btnV133UROlPr0aOH3XDDDW4RlWH78MMPMy2e03uqIa8JzNUUwD/11FNpP6cyOhrVP2LEiMTI97QL8wYCCCCAAAIIIIAAAggggAACeQiEzg8I3gMF7wpNVlxxRVPJmTfeeCOPU7r4omPHjl38RV5BAAEEEKiVQOiOM9tOqD9QrfLXX3/dTj311LSLqw68+gy10047zV577bW0yxbyDV83ff68ebZLVOol0yj2eFkYTYQaapLVRx991HSe3n//fTv66KNTHq5K3Dz55JPWoEEDu/nmm+2ee+5JuRwvIoAAAggggAACCCCAAAIIIFAbgdD5AcF7oOC9X79+1qVLF7vvvvts2LBhtTm3ic8QvCcoeIAAAgjUWSB0x5lth3zplF9//dVUmkVziCS3pk2b2k033WTdunWzGTNm2M4772zz589PXqwoz1We5vnnnzeNwL/rrrts0KBBKberkjiDBw92Afm3335r++yzT8aJUFOuJM2LCvF9uTeVsnnzzTcXW/KKK66w7bff3jQ5rOq7y42GAAIIIIAAAggggAACCCCAQCiB0PkBwXug4F0j9FTvdvz48XbRRRfZrFmzan3OCd5rTccHEUAAgcUEQneci20g6YUmTZrYM888Y61atbKffvrJLr74Yjf6XUG8miZVPeuss6x79+4uuO7fv79b3q+mU6dOicm8H3zwQXvllVf8WwX7qf3Zd9993fpfeOEFu+2220zhuurB63h0Yfn888+3Dh06mI5DIbnq0/tW131u1KiRm2h2pZVWcoG61v/OO++41S+55JKurIwuYqjdfvvtppIzNAQQQAABBBBAAAEEEEAAAQRCCoTODyomeN9zzz2tc+fOCWuNzFt99dXdxGsfffRR4nU9eOSRR2zMmDHuNd1irzq1dZ1cVTVyr7vuOler95dffrHvvvvOTf6mjTz++OOWvA9u42n+IXhPA8PLCCCAQC0EQnecueyCtnn99debyqOoaTLQL774wj1v06aNe02hdnLorjfUnynkVjvggANSjph3bwb8R3Xm+/TpYwcffHBirdrn77//3pVR0/tqs2fPdqF78oj0EPu88soru0lml156aVu4cKGpL1SN/DXXXNP0mpouQpx99tnBRtq7lfIPAggggAACCCCAAAIIIIAAApFA6PygYoL3k08+2dXUzeVbosnbPvjgA7doqOBdK9PJ0YhBhQcKVjSCT00T0SWHFO6NNP8QvKeB4WUEEECgFgKhO85cd2GZZZYxlSHTyHaNGo+3SZMmufruL774Yvxl91j9mQJwhd677LLLYu8X8gWVyVE/phHsKj3j25QpU+zjjz92I+H9hWv/nn6G2medq1NOOcVU/z7edBHg/vvvd6Vw6qskT3x/eIwAAggggAACCCCAAAIIIFB5AqHzgwbRChfmwxR6B9Jt228n3fuV/DrBeyWfXY4NAQSKLeD7k/r6b6tGi2vUtsq16I4olSTTXVAa8Z6q6e6prbbays0XohHx9dE0ganKymjS8C+//NKmTp2acTdC73PHjh3dXWsa6a6SN59++mnGSV8z7hxvIoAAAggggAACCCCAAAIIIJCDQOj8oEG0QoL3HOCLuUh9hUPFPEa2hQACCBRLIHTHWej9Hjp0qLtzSnXOVW+9HFo57nM5uLKPCCCAAAIIIIAAAggggAACxRMInR8QvBfv3OW8JYL3nKlYEAEEEMgqELrjzLrBOiygEmWvv/66NWzY0FQK7ccff6zD2orz0XLc5+LIsBUEEEAAAQQQQAABBBBAAIFyEgidHxC8l+DZJ3gvwZPCLiGAQNkKhO44CwmxyiqruAm5VVrlkEMOKeSmgq27HPc52MGzIgQQQAABBBBAAAEEEEAAgYoRCJ0flGzwrtqyfnLSijl7ORzIggULXP3fHBZlEQQQQACBHARCd5w5bLLWi/Ts2dMGDBhgQ4YMsVtuuaXW6ynmB8txn4vpw7YQQAABBBBAAAEEEEAAAQTKQyB0flCywXubNm2sZcuW5XFWAu7lzJkzbdq0aQHXyKoQQACB6hYI3XEWUlOTmqrMjCZeXbgwrylYCrlbGdddjvuc8YB4EwEEEEAAAQQQQAABBBBAoCoFQucHJRu8N27c2Nq3b191J3nChAk2b968qjtuDhgBBBAolEDojrNQ+8l6EUAAAQQQQAABBBBAAAEEEECg/gRC5wclG7yLuHXr1taqVav60y7ylmfMmGHTp08v8lbZHAIIIFDZAqE7zsrW4ugQQAABBBBAAAEEEEAAAQQQqE6B0PlBSQfvOsXt2rWz5s2bV/zZnj17tk2ZMqXij5MDRAABBIotELrjLPb+sz0EEEAAAQQQQAABBBBAAAEEECi8QOj8oOSDd5FW+sh3RroX/v84bAEBBKpXIHTHWb2SHDkCCCCAAAIIIIAAAggggAAClSsQOj8oi+Bdp1M131u0aGHNmjWzRo0alf0ZXrBggc2ZM8dmzZpFTfeyP5scAAIIlLJA6I6zlI+VfUMAAQQQQAABBBBAAAEEEEAAgdoJhM4PyiZ4rx0Xn0IAAQQQqHaB0B1ntXty/AgggAACCCCAAAIIIIAAAghUokDo/IDgvRK/JRwTAggggEBCIHTHmVgxDxBAAAEEEEAAAQQQQAABBBBAoGIEQucHBO8V89XgQBBAAAEEUgmE7jhTbYPXEEAAAQQQQAABBBBAAAEEEECgvAVC5wcE7+X9fWDvEUAAAQSyCITuOLNsjrcRQAABBBBAAAEEEEAAAQQQQKAMBULnBwTvZfglYJcRQAABBHIXCN1x5r5llkQAAQQQQAABBBBAAAEEEEAAgXIRCJ0fELyXy5lnPxFAAAEEaiUQuuOs1U7wIQQQQAABBBBAAAEEEEAAAQQQKGmB0PkBwXtJn252DgEEEECgrgKhO8667g+fRwABBBBAAAEEEEAAAQQQQACB0hMInR8QvJfeOWaPEEAAAQQCCoTuOAPuGqtCAAEEEEAAAQQQQAABBBBAAIESEQidHxC8l8iJZTcQQAABBAojELrjLMxeslYEEEAAAQQQQAABBBBAAAEEEKhPgdD5AcF7fZ5Nto0AAgggUHCB0B1nwXeYDSCAAAIIIIAAAggggAACCCCAQNEFQucHBO9FP4VsEAEEEECgmAKhO85i7jvbQgABBBBAAAEEEEAAAQQQQACB4giEzg9qHbwX53DZCgIIIIAAAggggAACCCCAAAIIIIAAAggggAACxREYO3ZskA0RvAdhZCUIIIAAAggggAACCCCAAAIIIIAAAggggAAC5S5Q78F7qB0o9xPB/iOAAAIIlLZA6FvFSvto2TsEEEAAAQQQQAABBBBAAAEEEKiNQOj8oNYj3gnea3P6+AwCCCCAQLEFQnecxd5/tocAAggggAACCCCAAAIIIIAAAoUXCJ0fELwX/pyxBQQQQACBehQI3XHW46GwaQQQQAABBBBAAAEEEEAAAQQQKJBA6PyA4L1AJ4rVIoAAAgiUhkDojrM0joq9QAABBBBAAAEEEEAAAQQQQACBkAKh8wOC95Bnh3UhgAACCJScQOiOs+QOkB1CAAEEEEAAAQQQQAABBBBAAIE6C4TODwje63wPO3vgAABAAElEQVRKWAECCCCAQCkLhO44S/lY2TcEEEAAAQQQQAABBBBAAAEEEKidQOj8gOC9dueBTyGAAAIIlIlA6I6zTA6b3UQAAQQQQAABBBBAAAEEEEAAgTwEQucHBO954LMoAggggED5CYTuOMtPgD1GAAEEEEAAAQQQQAABBBBAAIFsAqHzA4L3bOK8jwACCCBQ1gKhO86yxmDnEUAAAQQQQAABBBBAAAEEEEAgpUDo/IDgPSUzLyKAAAIIVIpA6I6zUlw4DgQQQAABBBBAAAEEEEAAAQQQ+EMgdH5A8P6HLY8QQAABBCpQIHTHWYFEHBICCCCAAAIIIIAAAggggAACVS8QOj8geK/6rxQACCCAQGULhO44K1uLo0MAAQQQQAABBBBAAAEEEECgOgVC5wcE79X5PeKoEUAAgaoRCN1xVg0cB4oAAggggAACCCCAAAIIIIBAFQmEzg8I3qvoy8OhIoAAAtUoELrjrEZDjhkBBBBAAAEEEEAAAQQQQACBShcInR+UTfDeuHFja9GihTVr1swaNWpU6ee5YMe3YMECmzNnjs2aNcvmzZtXsO2wYgQQQKBUBEJ3nKVyXOwHAggggAACCCCAAAIIIIAAAgiEEwidH5RF8N66dWtr1apVOEXW5ARmzJhh06dPRwMBBBCoaIHQHWdFY3FwCCCAAAIIIIAAAggggAACCFSpQOj8oOSD93bt2lnz5s2r9HQX/rBnz55tU6ZMKfyG2AICCCBQTwKhO856Ogw2iwACCCCAAAIIIIAAAggggAACBRQInR+UdPDOSPcCfpNiq2bkewyDhwggUHECoTvOigPigBBAAAEEEEAAAQQQQAABBBBAwELnByUbvKume/v27TnlRRKYMGECNd+LZM1mEECguAKhO87i7j1bQwABBBBAAAEEEEAAAQQQQACBYgiEzg9KNnhv06aNtWzZshimbCMSmDlzpk2bNg0LBBBAoOIEQnecFQfEASGAAAIIIIAAAggggAACCCCAQPWMeO/QoYM1atSIU14kgQULFtj48eOLtDU2gwACCBRPgOC9eNZsCQEEEEAAAQQQQAABBBBAAIFyFQidH5TsiHd/oOV6ospxv8eOHVuOu80+I4AAAhkFfH9S3/+NW2KJJezXX3/NuK+8mVlAd8ItvfTSNnHiRJs/f37mhcvs3UIeW5MmTWz55Zd3k6nPnTu3zGTYXQQQQAABBBBAAAEEEECgOAKh8wOC9+Kct7LYSn2HUmWBxE4igEDZCYTuOPMB2HDDDW2bbbaxLl26WKdOneyXX36xL774wj799FN75pln7KuvvspndYstqxD6pJNOsnbt2tlvv/3mHi+2UIYXllxySbv44osTpd2mTp1qF110UYZPFP8t7eN+++1nvXr1srZt27od0AWMjz/+2G6++WZ7//33a7VTZ599tq200ko5ffaqq64qyF1hhTo2f1D67h1zzDG2xhprWIMGDdzL3377rd11113u+6fvDA0BBBBAAAEEEEAAAQQQQOB3gdD5QUUH76uvvrp17drVBRK+bM0TTzxhkydPrvF9OvbYYxOhg39j+vTpduedd/qnVfGT4L0qTjMHiUDVCYTuOHMF7N27t/Xp08caNmyY8iMaedyvXz975ZVXUr6f7cVNNtnEhebLLrusW1Qh6qabbprtYzXeP/744+2II45IvKaJtvfaa6/E8/p+0LRpU7vllltcX+73ZeHChYkQWa9df/319uCDD/q3c/757LPPJoL8bB/Sufzss8+yLZbX+4U8Nu3IGWec4S5Y+J1KdtP37pxzzuEuDA/ETwQQQAABBBBAAAEEEKh6gdD5QcUG7wceeKALD/wIL//NOe+882z06NH+qfv5j3/8Y7E/vnUb+8knn1xjuVJ78qc//cldVNDt9iHqsxO8l9oZZn8QQCCEQOiOM5d96tu3rxuhrWXffPNNN7r4888/t6WWWsqNfD/yyCOtffv2pjD0rLPOyit81yjpE044wa0/3sflG7yvvfbaNmTIEDefikZBa/R3qQXvAwYMsJ49e7rR/A899JA9/PDDbiLwddZZx0477TTr3LlzrQzl9tZbb7ljv//++23GjBkZT+uwYcOCT0BeqGPTgRx00EF2yimnuGPScerOAPXxK664oum7t8suu7j35Kn9oCGAAAIIIIAAAggggAACCFj1TK7qg5LanPRVVlnFrr76ajci7vnnn7eRI0faTz/95FalgPrnn3+usVqFGD682Hzzze3vf/+7qx9b6sH7VlttZSeeeKJ99913ppCnro3gva6CfB4BBEpRwPcnxfpvnEYyv/DCCy5kv+++++ymm25y4XDcRiVi7r77bhe+Dx8+3IXv8ffTPV555ZXtsssuM4XmakOHDrUffvjBjjrqKBdO5zriXfXm77v3XltzrbXs1Vdfta+//toOO+ywkgreu3fvboMGDXLHedttt9ngwYPdY/+P6pbfGx1Dx44d3X7vs88+OY/ebtWqlb300ktuVdtuu23idwS/7kL/LOSxqVb8P//5T2vevLmNGDHC/Z6QXFLmwgsvtN133915qYzPuHHjCn3IrB8BBBBAAAEEEEAAAQQQKHmB0PlBg2iFC/M56tA7kG7bfjvp3s/0ukZyKUCYNGlS3vVut9hiCzfSvRxGvBO8Z/oW8B4CCCDwu4DvT4oVvO+2226uhIxKyey00042Z86clKdCI5I1Mnn27Nm2/fbb24IFC1IuF3/xhoEDrUfUT2mEtgJ4lQs59NBDXUkb1T3fbLPN4ounfaw+UheZZ86c6cqRHHDAAa7fLKUR7yoxs/HGG5tG4ytUTw6PdXAbbLCB3X777e44VZtedfNzaQrrH3nkEXchXn1psVshj00j2o877jjn9de//tVdlEg+Pl0ceu6551w4r9H8/fv3T16E5wgggAACCCCAAAIIIIBA1QmEzg8aRCusuOBdIcSuu+5qr732mru9Op9vCcF7PlosiwACCJS+QOiOM9sRK/xWsKuLvxrNnq7tv//+dvrpp5vKhWnUtSZezdYUvDdt1szOP/98mzJlils83+C9Q4cOrmRL48aNXeCq4FUhvML4Ugnem0XHKDuNzFeZlHvuuSctzWOPPWarrrqqG8GumuW5ND/iXKH+3nvvnctHgi1T6GPTnRSazPc///lPxsEHmlxWFzR0x8QOO+wQ7PhYEQIIIIAAAggggAACCCBQrgKh84OKCN51O7VKxPi25ZZburqvqqf773//27/sfr777rsZa7nWJnhXrXX9Ea8SN5rkTn/I67Z9bSvVCD2/Q8svv7wbrbfCCitY69atbdasWe527zFjxpj2PVXbeuutTaVx1NZYYw3785//7I5HI/fiTSMo9Ud3Pq1Yo0Hz2SeWRQABBOoqELrjrOv++M+rJJoC9/fff9+OPvpo/3LGnyolk9y35Bu833rrrbbRRhu5MiQK3NVKLXjv0aOH3XDDDW7fVM9ex5yuXXzxxa5meT4BsoJm3TGQj3267ef7eiGPTSPZdcFCE8prgnid63Rtjz32sAsuuMC9rYtA+t2DhgACCCCAAAIIIIAAAghUs0Do/KAigndNCHfdddfl9L1INblq/IP5Bu+dOnVy9dXbtGkTX417PGrUKBccKAxIbscee6xtt912yS8nnr/44ouu/q9GQsabJsLThYZsrTZ13wnes6nyPgIIlKNA6I4zhMFf/vIXU2CsEd0aeaySMbVt+QTvquut+t4aXa+wVSPc1UotePfHpH3TiHRd0E7X1J+qxr2aSs19//336RZNvO4nH1Utft09oIvastEFdJXskcu//vUvF2LnUgIoseIcHhTy2Lp27eomzNVu6MLCU089lXaP/Kh/LSADzYlDQwABBBBAAAEEEEAAAQSqWSB0flARwbtGeOmPTd8UaKy//vr20UcfuT+c/ev6qTBco8HTtXyCd41uv/HGG93Isq+++spNZqZb/3WSVC9XE5xpMleVEli4sGZFn9NOO83Wik1qp5IEGsm++uqru5BBE++9/fbbi11QUD1bjWRT69y5syupM336dDeyLX5MmkBWx59PI3jPR4tlEUCgXARCd5z5HrfKoKg/aNiwoStBo/+O77jjjq7EzFVXXeX6jnzXGV/eB7nZaryrX3n88cdNE4tqwldNTOpbqQXvJ510kvXu3dv1neqXky9C+/3Wz/jI7QMPPNC+/PLL+NspH/fp08fVxn/44YfdHWfpSq2oHz711FMzbj/lBjK8WMhji4+m1znV5KrpWvv27RPB/LXXXutq3qdbltcRQAABBBBAAAEEEEAAgWoQCJ0fVETwnnzidcu+wnfdbp3pNuvkz+l5PsG7345G4p177rlukja/zhVXXNEGDBjgRjMOjGryvvXWW/4t91Oj6vQ5BSXJTSVkLr/8chc4KBxIN3qPyVWT5XiOAAIILC4QuuNcfAuZX/ETovqldCF26NChrn/SJKl1bbkG7yoropB69OjRLtSO9z+lFrxrBPaee+7p+j+NYs/U4iO3Nfp95MiRmRZ372nUv0a46yL1Ukst5erDv/POOzZ58mRbe+213SS1G264oVv29ddftzPPPDOnyW+zbjhaoJDHtvPOOycmStXEqrr4n67pIv6bb77pLgjdcccdiUlq0y3P6wgggAACCCCAAAIIIIBApQuEzg8I3pO+MbkG7/qDVaMF9XPw4MGm29WT2ymnnOJqz2uU/UUXXZT8dsbnt912my2zzDIuvFcYkKoRvKdS4TUEEECgpkDojrPm2rM/U4kz1VRv0KCBG12tyTXVpk6d6u5WUgiffFdU9rX+sUQuwbvuArv99tvdh1SW5cMPP/xjBdGjQgbvupvLz01SY6OxJ7oIEJ9ctl+/frbbbrvlNNlrt27dXD+s1WWrB+83qQvi6u/nzJnjQvVU/Wzfvn2tV69e7iOa3FWTvIZohTw2X0pI+yk/XUhI1/R9VPCuc5OtHny6dfA6AggggAACCCCAAAIIIFBJAqHzA4L3pG9HrsH7csst527V18dPPvlkmzhxYtKazNVw1+i7adOm2fHHH7/Y+3pBt/x36NDBVCNepQj0h7CaRvhpwlUF8C+//LJ7LfkfgvdkEZ4jgAACiwuE7jgX30J+r7Rr185UY1w11nXxdtiwYYlRyvmt6felswXvqiN///33uwm5VfNbtb+TWyGDdwX96gszNY0qV0kX33ThWkaqr65+OdNE5Srbc+mll7qPHnzwwWknJ/fr1s/DDz/cdGfaG2+8sdgk7PHl/N0KP/74o2k0eYh674U8NtWqV9kYNd2Vp8lj07W2bdvas88+696+/vrr7cEHH0y3KK8jgAACCCCAAAIIIIAAAlUhEDo/IHhP+trkGryvu+66ptv21Q455JAaZWb8KjXC8ayzznIjGRUgxG/rV+CuOvD6I1nBS7qmUWjpJjwjeE+nxusIIIDAHwKhO84/1ly3R6pH7sNmja7W6OPatGzBu59IVGVt9t13X1OInNxKLXiPh/W77rqraf6UdO2www5zI/b1vkrppLoQnu6z2V7fZ5993OS3Wm6//fazEHOhFPLYdGeDysao6XcUTRCbrq233nqJ+WE00e/TTz+dblFeRwABBBBAAAEEEEAAAQSqQiB0fkDwnvS1yTV433TTTU0TpKo8gAL0VGUCNPmpLzFz5JFH2qxZs9zWNPpQt5qrjqxee+WVV+ybb76xmTNnJkb16Q/zFVZYwf1RTPCedJJ4igACCOQhELrjzGPTGRfVHU7673/z5s3t0UcftWuuuSbj8unezBS8604qjahXeRuNbn7uuedSrkYlSjTBqO7Q6t+/v1tGjz///POUy+fzoiZ1Vem0TE0lX+JlUbQvfmS++sMPPvgg7cc1x8ree+/tLoBvu+22QUal+42tueaaiZHguZax8Z9N97OQx6a753zYPmjQILvrrrvS7YY737kap10JbyCAAAIIIIAAAggggAACFSQQOj8geE/6cuQavOuP8fgfrArNk9vmm29uuqV83rx5ptvfffPbUOh+9tlnp5w81dd4Z8S7V+MnAgggUDuB0B1npr3QhdUuXbq4Rb7++mt3QTXT8qodrou0b7/9tp144omZFk37XqbgfeWVV3YTuab9cIY3VOZMfVR9tGWXXTZxkUB9rUrkpGsa4a2R3iNGjEiMfE+3rF5v3LixK7ujxxrBPnfuXD1M2Xr06GE33HCDe69379722WefpVwunxcLeWzaD80ZoPOuAN7fmZdq/1T+Rxc1NMFs6AsWqbbHawgggAACCCCAAAIIIIBAqQuEzg8I3pPOuC8PM3v2bDviiCNSjmTXRzSCz09Up9F2X375ZdKazPbcc083Mdt3331nKiPgm/541+hC1bS96aab/MuJn0sttZQpjNFoyEzBuw/wdVu96szXtYW4hb6u+8DnEUAAgdACoTvObPv3xBNPuLk7VFfdh7apPqMAWOG2/puv0ei6E6o2LVPw3r59exsyZEjW1TZt2tTth0qi+QvJr732WqJ2etYVFGAB3QWgc6c65apXnqrp+J588knXX2ryU/Wd2ZomE1UorbsBBka1zR/IUNu8T58+Jl/VmP/LX/6SsMm2jWzvF+rYtF1dLFGJHF1Q2GmnndwEssn707BhQ+emOvdvvfVWkN8hkrfBcwQQQAABBBBAAAEEEECg3ARC5wcE70nfAE10OmDAAPfq6aefbuPGjUta4venCsVvueUWNymqApO77757seVUNmCVVVZZLGDXCDPdaj5q1KhEKZr4h1Wj1o+QzxS8r7POOqa6rPrjWjVuU5W7ia8322OC92xCvI8AAuUoELrjzGag0mLHHXecq6WuUmQq2ZKq/fWvf7VzzjnHvZVcY1sXd7t16+ZGwv/yyy+pPp54LVPwnlgoywONttd8JRMmTLC99tory9LFeVv7cd5557mNpauBf8UVV9j222/vwmX1napjH28bbLCBC8u/+uqr+MvOXf7ffvut6291sT25adS4RtNronNNwqo72EK1Qh6bfu9QsK9w/b777rMbb7xxsd1WrX/NQaOm+v66W4CGAAIIIIAAAggggAACCFS7QOj8gOA96RuliU41ak5/aGsUmP5oTReaKDz3t2lfeeWVLkj3q9OIdo1sVxiuAH/8+PH+LTdqzo/eO+OMM1x9d/+mJm1V7XjV41XLFLyrZu6tt97qRvpp9P1LL73kV1OrnwTvtWLjQwggUOICoTvObIer+TkUfGokuyYyveqqq1yA/tNPP7mPLr/88qbQ9/DDD3fPVb5EF0/9BNyq+f7MM8+42u+jR482TY6aqRUjeO/UqZPry7QfD0YjxFWbvtBN/fFjjz1mK620kgvUFcK/8847brMata7AuFevXu65+kA/qajfL/WzxxxzjHt65pln1thn9bXqX3URfcyYMXb++eebrNVULkgTj6rETdu2bd22jz/++MT7WqauHoU8Nu2f7p7Ybbfd3O8gAwcOtIceeihxcX7HHXe0Cy+80JXcGTlypKnkDA0BBBBAAAEEEEAAAQQQQMDcXddyCJWREryn+FZtvfXWiTqxCkKmTJnillJpmMcffzzxCf3hrD/MFerMnz/fPv74Y7esnq+11lpuOd3Onjy5WZMmTezaa6+15ZZbzv0hrNBFf/hrdF3Xrl3tvffec3/sa9RapuBdG1DwoP1V+/7772369OnulvipU6emLGPjFkzzT6gvVZrV8zICCCBQLwLFDt51kJoHRP+dVykP3yZNmuTCeI1m9+3VV191IWi8znj37t1NE2OqqcSJglIF+OlaMYJ3lU5TOK2mUfzJI8jT7VtdX1e/qH5QZrqQrX5KF8Pl6x11EUDlVWQVbwrjNeJd7ZFHHnHnI/6+6ppfcsklpj5ZTcaa6Fzr9he/9Zr62S+++CL+UVdKrq4ehTw2XfTRXXm6wKCm32Nkp4sYKs+jpgEBKqmX6bvlFuQfBBBAAAEEEEAAAQQQQKBKBELnBw2iFS7Mxy70DqTbtt9Ouvczva5RbqrFOnz4cDciPNOy6d5TrXfdCq4/jFX7Vi1ViK5Rdwo9tttuOzdKzq9PIYpGy6cbha4wRqPMVC7GN03CqtF8+mP50ksvtdVXXz1r8K7t77zzzqZ675qwrUWLFm51yXXl/TYy/SR4z6TDewggUK4Cvj8p9n/jFAyfdNJJbuJPBZ4aXa02P/pv/edRkPvvf//b7r333sUCY424VnmQDTfc0FQvXmXLMrViBO+aR0Ql0HSBd5dddsm0O8Hf0/lTmRdNWB5vmhRUdfR1cVsXv5PbNtts4y4WzJkzx91J5ke0x5fTxLaap2WNNdao0YdrGZWDUzCfag6XUB6FPDbVsNdIff0uo4ECvukCxgsvvOC+Y35ggX+PnwgggAACCCCAAAIIIIBANQuEzg8aRCusuOC9Pr4g+qNWo8gUfqtG7uTJkxO3dWfaH416VwivurQaaedLDWT6TKHeK3YoVajjYL0IIIBAXCB0xxlfd66PVT5Gd0IpLFYAvGDBgqwf1UXf+Ej4rB8o4ALXXXedbbXVVjZs2DDr379/AbeUftUdO3Z0F6R1QUO12T/99NOso7U1ga2sk0fDJ29F1l26dDFtQyPAFbbrTrR0LbRHIY+tXbt2rjSOSiDpwolG7+v3FBoCCCCAAAIIIIAAAggggEBNgdD5AcF7Td+qfkbwXtWnn4NHoGIFQnecFQuV4cCGDh3q7gBTnXWNlq72hke1fwM4fgQQQAABBBBAAAEEEKhEgdD5AcF7JX5LanlMBO+1hONjCCBQ0gKhO86SPtgC7Jzu6NIcJw0bNsxab74Amy+5VeJRcqeEHUIAAQQQQAABBBBAAAEEggiEzg8I3oOclspYCcF7ZZxHjgIBBGoKhO44a6698p9pom9NLK7SLoccckjlH3CWI8QjCxBvI4AAAggggAACCCCAAAJlKhA6PyjZ4L1Dhw41JgMr0/NVNrutGrjjx48vm/1lRxFAAIFcBUJ3nLlut1KW69mzpw0YMMCGDBniJv+ulOOq7XHgUVs5PocAAggggAACCCCAAAIIlLZA6PygZIP3Nm3aWMuWLUv7bFTQ3s2cOdOmTZtWQUfEoSCAAAK/C4TuOKvNtUGDBq7MjCYoXbgwr/nYK5IKj4o8rRwUAggggAACCCCAAAIIIGCh84OSDd4bN25s7du355QXSWDChAk2b968Im2NzSCAAALFEwjdcRZvz9kSAggggAACCCCAAAIIIIAAAggUSyB0flCywbtAW7duba1atSqWbdVuZ8aMGTZ9+vSqPX4OHAEEKlsgdMdZ2VocHQIIIIAAAggggAACCCCAAALVKRA6Pyjp4F2nuF27dta8efPqPNtFOOrZs2fblClTirAlNoEAAgjUj0DojrN+joKtIoAAAggggAACCCCAAAIIIIBAIQVC5wclH7wLk5HvhflKMdK9MK6sFQEESksgdMdZWkfH3iCAAAIIIIAAAggggAACCCCAQAiB0PlBWQTvglPN9xYtWlizZs2sUaNGISyrch0LFiywOXPm2KxZs6jpXpXfAA4ageoTCN1xVp8gR4wAAggggAACCCCAAAIIIIBA5QuEzg/KJniv/FPLESKAAAIIFEIgdMdZiH1knQgggAACCCCAAAIIIIAAAgggUL8CofMDgvf6PZ9sHQEEEECgwAKhO84C7y6rRwABBBBAAAEEEEAAAQQQQACBehAInR8QvNfDSWSTCCCAAALFEwjdcRZvz9kSAggggAACCCCAAAIIIIAAAggUSyB0fkDwXqwzx3YQQAABBOpFIHTHWS8HwUYRQAABBBBAAAEEEEAAAQQQQKCgAqHzA4L3gp4uVo4AAgggUN8CoTvO+j4eto8AAggggAACCCCAAAIIIIAAAuEFQucHBO/hzxFrRAABBBAoIYHQHWcJHRq7ggACCCCAAAIIIIAAAggggAACgQRC5wcE74FODKtBAAEEEChNgdAdZ2keJXuFAAIIIIAAAggggAACCCCAAAJ1EQidHxC81+Vs8FkEEEAAgZIXCN1xlvwBs4MIIIAAAggggAACCCCAAAIIIJC3QOj8gOA971PABxBAAAEEykkgdMdZTsfOviKAAAIIIIAAAggggAACCCCAQG4CofMDgvfc3FkKAQQQQKBMBUJ3nGXKwG4jgAACCCCAAAIIIIAAAggggEAGgdD5AcF7BmzeQgABBBAof4HQHWf5i3AECCCAAAIIIIAAAggggAACCCCQLBA6P6h18J68YzxHAAEEEEAAAQQQQAABBBBAAAEEEEAAAQQQQKCcBcaOHRtk9wnegzCyEgQQQAABBBBAAAEEEEAAAQQQQAABBBBAAIFyF6j34D3UDpT7iWD/EUAAAQRKWyD0rWKlfbTsHQIIIIAAAggggAACCCCAAAII1EYgdH5Q6xHvBO+1OX18BgEEEECg2AKhO85i7z/bQwABBBBAAAEEEEAAAQQQQACBwguEzg8I3gt/ztgCAggggEA9CoTuOOvxUNg0AggggAACCCCAAAIIIIAAAggUSCB0fkDwXqATxWoRQAABBEpDIHTHWRpHxV4ggAACCCCAAAIIIIAAAggggEBIgdD5AcF7yLPDuhBAAAEESk4gdMdZcgfIDiGAAAIIIIAAAggggAACCCCAQJ0FQucHBO91PiWsAAEEEECglAVCd5ylfKzsGwIIIIAAAggggAACCCCAAAII1E4gdH5A8F6788CnEEAAAQTKRCB0x1kmh81uIoAAAggggAACCCCAAAIIIIBAHgKh8wOC9zzwWRQBBBBAoPwEQnec5SfAHiOAAAIIIIAAAggggAACCCCAQDaB0PkBwXs2cd5HAAEEEChrgdAdZ1ljsPMIIIAAAggggAACCCCAAAIIIJBSIHR+QPCekpkXEUAAAQQqRSB0x1kpLhwHAggggAACCCCAAAIIIIAAAgj8IRA6PyB4/8OWRwgggAACFSgQuuOsQCIOCQEEEEAAAQQQQAABBBBAAIGqFwidHxC8V/1XCgAEEECgsgVCd5yVrcXRIYAAAggggAACCCCAAAIIIFCdAqHzA4L36vwecdQIIIBA1QiE7jirBo4DRQABBBBAAAEEEEAAAQQQQKCKBELnBwTvVfTl4VARQACBahQI3XFWoyHHjAACCCCAAAIIIIAAAggggEClC4TOD8omeG/cuLG1aNHCmjVrZo0aNSr787xgwQKbM2eOzZo1y+bNm1f2x8MBIIAAAqUqELrjLNXjZL8QQAABBBBAAAEEEEAAAQQQQKD2AqHzg7II3lu3bm2tWrWqvVqJf3LGjBk2ffr0Et9Ldg8BBBAoT4HQHWd5KrDXCCCAAAIIIIAAAggggAACCCCQSSB0flDywXu7du2sefPmmUwq4r3Zs2fblClTKuJYOAgEEECglARCd5yldGzsCwIIIIAAAggggAACCCCAAAIIhBEInR+UdPBe6SPdk78SjHxPFuE5AgggUHeB0B1n3feINSCAAAIIIIAAAggggAACCCCAQKkJhM4PSjZ4V0339u3bl5p/wfdnwoQJ1HwvuDIbQACBahII3XFWkx3HigACCCCAAAIIIIAAAggggEC1CITOD0o2eG/Tpo21bNmyWs5r4jhnzpxp06ZNSzznAQIIIIBA3QRCd5x12xs+jQACCCCAAAIIIIAAAggggAACpSgQOj8o2eC9Q4cO1qhRo1I8BwXdpwULFtj48eMLug1WjgACCFSTQOiOs5rsOFYEEEAAAQQQQAABBBBAAAEEqkUgdH5QssG7P9BqObHx4xw7dmz8KY8RQAABBOog4PsT/tuaO+L6669vO+20k/3222929dVX1/jg7rvvbl26dLGvv/7aHn744Rrv8aT4ApyP4puzRQQQQAABBBBAAAEEEKhMgdD5AcF7CX5PCIdK8KSwSwggULYCoTvObBCtWrWyyy67zC32yCOP2Ouvv26at+S6665zr/3zn/+0F154ocZqdtxxR1OAqrue+vbtW+O9dE9WWmklO/vss93bN910k33++efpFs379b322svOO+88tz+bb755jc9feumlpv195513rE+fPjXeq+uT2tjVdpsXXnihtWvXzkaOHGl33XVXjdV07NjRTjvtNNtkk03s+++/tzFjxtR4X5Oh/+9//3P/03sLFy6s8X4xnxTyfBTrOA466CDr0aOHzZo1y84555xibZbtIIAAAggggAACCCCAAAI1BELnBwTvNXhL4wnBe2mcB/YCAQQqQyB0x5lNRfOTvPzyy26x/v3727Bhw2yJJZawt99+2712/fXX24MPPlhjNUcccYQdf/zxNn/+fBdA1ngzzZNOnTrZ/fff79494YQT7N13302zZP4v11fwXhu7/I/u90/oHKy55pr2zDPP2EUXXVRjNd26dbPBgwfXeC3dk6+++srkP3369HSL1Pr1ww47zJZeemn7+OOP7aWXXkq5nkoI3nWR44ADDrBJkya5C1ApD5QXEUAAAQQQQAABBBBAAIECC4TODwjeYyesbdu21qJFC9MEp1OnTo29U9yHBO/F9WZrCCBQ2QKhO85sWhrd/uabb7rFNGrcj25/6623bMkll7QrrrjCnnjiiRqrIXj/naM2djUg83gyZMgQ69q1qzsXOifxFg/eX331Vfvwww8Tbzds2NBWWGEFV25n7bXXdq+r39aFk9CTo+t7ojlvnnrqqcRdFIkdWfSgEoJ33Tlx6KGH2jfffGP77rtv8iHyHAEEEEAAAQQQQAABBBAoikDo/IDgPXbajj32WNtuu+3sxRdftDvuuCP2TnEfErwX15utIYBAZQuE7jhz0RoxYoQ1aNDAlSt57bXX3EdeeeUV+9Of/mT9+vWzZ599tsZqCN7/4MjX7o9P5vfo1ltvtY022sjdfaC7EOItHrwfeeSRNYL3+HIquaPR8poMXqPSDz/88PjbdX5cLcH7McccY0cffbQrl3TwwQfX2Y0VIIAAAggggAACCCCAAAK1EQidHxC8x84CwXsMg4cIIIBAhQiE7jhzYVFd96WWWsrVQFctdLXnnnvOll12WVeX3Zei8esiePcS5mri52P3xyfze3TDwIHWY4stTCPfb7nllhofzjV414c00l3nT61379722Wefucch/qmW4F1uJ510krvAoQsdNAQQQAABBBBAAAEEEECgPgRC5wcE77GzSPAew+AhAgggUCECoTvOXFhUj1sThWoU7/vvv+8+onIh7du3d5On+lI0fl2FDN47d+5smryyS5cubjLRH374wb788ksbOnSovfHGGyknBq1rjXeVYtlnn31cvfrll1/eVJ5F9btV5/7xxx+3b7/91h/6Yj/ztVtsBTm+cNVVV9mf//xn08j3O++8s8an8gneNRGrJtFVu/LKK52rHmsU9wYbbGATJ0401fpP11TD/fLLL3d3SKhm/9dff23nn3++W3zddde1Jk2auAleVYZF7bvvvrNLLrnEPdY/yaVmtO877LCD27Ymj9VI/I8++sjt148//pj4XPIDzUOw9dZb2x577GE6pjZt2pi+K9ofTQisi0W//vpr8sdM368TTzzRvX7WWWe5c61zr2PXd07rUB18TWD76aefLvZ5vbDffvvZGWec4eYpUL18GgIIIIAAAggggAACCCBQHwKh84OKC941UVr37t1N9dpVK3bGjBnuD/z//ve/7g/X+EnTLf+bbbZZ4qWePXua6rXqD0ONVow3hQTpRrHpD+PlllvO1SYdPXq0NW3a1NWNXX/99d1j/bE8fPhwmzVrVnyVaR9TaiYtDW8ggAACeQuE7jhz2YGnn37a9QvxEdAPP/ywrb766m6EtPqkeCtU8L7zzjtnDH0Vhg4aNCi+K+5xXYL3NdZYw5VrUx+bqs2dO9eOO+44GzVqVKq3LV+7lCvJ4cWLL77YdtllFxsYlZl5IGmy23yCd9XtV/1+NZWpu/32293juL08J0yY4F5P/mfPPfd0QfuCBQtMn9FdEQ899FDyYonnY8aMsf333z/xPB68a9sava+wPrnpdxi5z549O/kt9/yCCy5woXvKN6MXNVeBLggsXLiwxiI9evSwG264wb2m49T+qHZ+clNof8011yQuTMTfV9iv7et3r1NPPTX+Fo8RQAABBBBAAAEEEEAAgaIJhM4PKiZ4Vy3dvn372uabb572ZGhE1uTJkxPvr7LKKu6PwMQLGR5kqvuuPxIV4A8bNsz+n707AZOiOtc4/qkDKgjooCAiykVRUEPco2KiEXfFHXGJonGLSiLuxhVXUHHDXVBR0Igr7hK3aCQuKO4acUEFXAYZhYFRR8Q777n3tD093T093adnqqv/53lC93RXVVf9auKZfuvUd1TDVyPXdJt8clOYrpFguTSC91yUWAYBBBDITSB0x5nLp2o0+WqrreZG8vr/pt92221udLBCdo1ATm7FCN518VchrILhadOmueBUn6tgfOutt7Y//vGPbhcUQCvsTm75Bu8a3a4wXxe/NdJ78uTJbpS7Qlf1k6qJvuqqq5pGXqseerqR7821S97v5jw//fTTbc8992wwSt2v35zgfZVVVrEHH3zQrTpq1KjE6Hf9HaDjb9eunV1zzTWm85+uXX311c7Gh85ab+2113aL6u8JjVrXe379H374wdVC99vywbtGwrdv394NHtDnvvvuu1ZZWekuLijYVvtP/aS/x9X/rZTaFMj7Ei8aKKALCVq/b9++bt80gl7tzvoLFKn18JODdw1c0Eh53QGg3zldTJCl7ijU5PW1tbVu8tQ5c+Y02AVt/8ILL3Rz7Oi80BBAAAEEEEAAAQQQQACB1hAInR/EJnjXl0pNyKUv97qdf/r06W6Eu7786wvstttua2eccUaD4N2PTPcnUoFAv3797M0333QBhX9dj1VVVW5Ee/Jr/rkP3hXO67ZqbVdfkmfOnOmeaxS9vpifcsopfpWsjz6kyboQbyKAAAII5CQQuuPM5UMVnqq8ikZ3+xHC/jUFp4sXL26wGR+8K6jMdYJOXTxW6Kqm8hxTp05NbFN3Yd1xxx2u3I0mKz3uuONcCJpYoP7J2WefbQMHDnSva2S+ys/4lk/wrlIlCmZVpmT+/Pl28MEHNxrlrRBZ+6XyKgrdVWLkp59+8h/rHr1TrnYNVm7GD7ogof/V1dU1smlO8O6t9NGq9558N4M31mhzGac2lSN64okn3OSsp512mivnkrxMc2q8az1N5Ku/NVJLwujvH+2nrFVOJtnch95aX3dlXHbZZXraoB177LF2yCGHuNcUkOvvLN+Sg3ddUFF5JZWnSW66COQnrb/22mtt3LhxyW+bfnc0Sl+//zofNAQQQAABBBBAAAEEEECgNQRC5wexCd6HDx/uRhJqpJbqtaY2fblW+KEvdZlavjXeffCuL7oqNaNbqVPLyujW8W+++SbTRzd4neC9AQc/IIAAAgUJhO44C9qZDCv74D3D202+nBq8++0tWLDAhet6TG0VFRUuQFVIr1HMCs1982Gy+szUO8n8CGtNGjt06FC/im2yySaJSUoV/uoOsHRN2xs9erR768QTT3RhcbrlWvO1XIN3XfzQCP+OHTu62usaQZ98UWWjjTZK/E0i09RyM77MjC5U7Ljjjg0CcR1/c4P3XXbZxQ0USLVTGT5/fpPLH2k5BeIKxnVxQBd90v2dpItIKmMjlw8++MANdPCfkRy8ZxvZr/I5uttCdwdmq3nvt8sjAggggAACCCCAAAIIINDSAqHzg9gE7/oSr1vc7777bjdxWz4nptDgXcG+Jgf7/PPP8/n4xDoE7wkKniCAAAIFC4TuOAveoTQb8EF5mrdyeik1eL/11ltdne3XXnvN1fXOtBFdKFbZGY26Vo1t3/IJ3lXu7cADD3TBs+ZM+fHHH/3mGjxqdLNGZmseFgXLI0aMaPB+FH5IDt5Vvzy5NJBK2+kuNt3hpqBdF/YVnGtUeOpcMFpWZWg02Wy6UFp/u+hCRCaH5gTvKt+imvXpmu7Ek7lacmkh1eHXgAXtp0ahazR6ppb8O6pa9H4wQXLwnjriP3lbl1xyiStv1NTvZPI6PEcAAQQQQAABBBBAAAEEWlIgdH4Qm+D9pJNOsk033dTVjdWId5WLSb3VuqkTVWjwrtHuup270EbwXqgg6yOAAAK/CoTuOH/dcrhnPtTUaOMtt9wypw2rjJqv+50avGsizBVWWMFtRzXTM7W9997bvaXSIIMGDUoslk/wPnLkSBswYIArs7bXXnsltpXuicrNrLXWWjalvua4AvuoteTgval9yxS6+/V8/fTUcjPJZWYOP/xw93eLX8c/Nid4V4kbBd+Z2osvvuhK2iSXilFZINVjV9PEqaoNn6mpRI1q2Kup7IxqwKslB+8K/lPrt7uF6v/xZXfeeOMNV47Gv84jAggggAACCCCAAAIIIBAVgdD5QWyC9x49etj555/vJjHTydJIO9Wr1RddjeSbN29ek+ew0OBdAYJGxhXaCN4LFWR9BBBA4FeB0B3nr1sO98wH76q9rSAzl6bgfcKECW7R5OBdo5dfeuklV2M+l+1oGZVH0ef6C9b5BO+66K3SKrmE6Zo0dLvttrP33nvPhgwZkututthyqcG76vInN/2NocnaVW5HFzZSS8gkL6u/TxSgqyWXm9HcNLrLQLXuNXI+XWtO8J5a+id1e+mC9w033NBuvPFGt6hq8mty1ExN/z/SXYVqmjNAE7CqJQfvmiunurravZ76D8F7qgg/I4AAAggggAACCCCAQNQEQucHsQnedaI6d+5s+iKrL/6awM03fUHW6D/VN/Whgn8v+bHQ4F11S8ePH5+8ybyeE7znxcZKCCCAQFqB0B1n2g8p8MWQwbt25bnnnnMXohWkqgZ5pqaQ3k/+qnX883yCd03KqRIzqTXA0322ryuuCWF10SBqLTl4P+yww+ytt94qaBdvvvlmN3l7crkZXahXaK3ge+zYsWm3X+zgPfniTVP19pNr+GsCVY1cVyN4T3vqeBEBBBBAAAEEEEAAAQRKUCB0fhCr4D35fCqE15dB1a7VaDM13ZL/6KOPJi/W4DnBewMOfkAAAQRiIRC64ywGSujgXaOwV1ttNTfBqSY6bW7LJ3j/+9//bioxU1dX5wL4bBe6VVe8Q4cO9vjjj7sSJM3dv2IvHzp4l4t8fLkZTcaqsi6qdy/rL774Iu0hFTt4199KuitQ7frrr896keaAAw6w448/3i2bPHKf4N2R8A8CCCCAAAIIIIAAAgjEQCB0fhDb4N2fa43m04Req6++uqufqtqmmZpGcOnW96effjpx63WmZZNfP+GEE2yzzTYzRrwnq/AcAQQQiIZA6I6zGEcVOnjXfCMKR7/66it3J5gfyZ7rvucTvG+//fbm+9iDDjqo0USj/rN79uxp99xzj/vxggsucJOP+vei8hg6eNdFhsn1AXeb+gllZasSLyq98vrrr9uRRx6Z8bB98K5BA8OHD0+7nAxV4iWfUjPa4L333uv+RnrhhRcSwXq6D9K51TlWiZ2BAwcm7o4geE+nxWsIIIAAAggggAACCCBQigKh84PYB+86yRpptt9++7mJwM4999yM532fffaxfffd11577TW7+OKLMy6X+gbBe6oIPyOAAALREQjdcRbjyEIH7yq5pprrarrbSyVOUtuSSy7p5kb5n/og/JX6ki9XXnllYpF8gvdll13WHnvsMVtuueXs448/tkMPPdS+//77xDb1pG198KyyK3369DHVTVeA+9133zVYJgo/hA7edUwjRoywbbfd1p2LDTbYwPr3729NXXhQDX+Vg/n888/NT4Sb6lNo8K6JXXXHn5r+RnrkkUdSP8JNmqvJc9VSf58I3htx8QICCCCAAAIIIIAAAgiUqEDo/CA2wbtG16k+rb6cJjcFAZp0VbfcNzUiXV+CNWGYJrc7/fTT7bPPPkveVMbnBO8ZaXgDAQQQaHWB0B1nMQ4odPCufdRdXH409e233+5Km3z44YemO8F69eplfx061Lao7/c0Gl7Bq0Zf+5ZP8K51N954Yxs9erS1adPGTbKquVX8dhVm6yL4Vltt5eZbUU1xTcSabzv55JNtrbXWspqaGlM/HLIVI3jX3xjJFzc0/4xGqi9cuDDjrivsHjBggHv/iiuuSEwWn1zGp9DgXeVuLr/8cleeT/uk2vOaOFUTxq688sq2+eab27Bhw9ycAdOmTbOh9b83+jvJN4J3L8EjAggggAACCCCAAAIIlLpA6PwgNsG7QoVlllnGheWzZs2y6upqFyzoS7kCAP186qmn2rx58zL+Dvgvn926dbPFixe7mqv6Qq/26quvuuA+3coE7+lUeA0BBBCIhkDojrMYR1WM4F37edZZZ7lSM36f1adp1PnSSy/tXlLornBXJU2SW77Bu7ahciQKgxXwq2lkuz5HF8J9U9mSSZMm+R/zelT5FU2krnrx6t9DtmIE7/obQ3cEVFZWul3VpO8qCZStqYzd1Vdf3WCRTz75xAYPHpx4rdDgXRvSudEkr3379k1sV3ciLL/88omfdReDLub4v4v8GwTvXoJHBBBAAAEEEEAAAQQQKHWB0PlBbIJ3jdZTzdQVVlihwTnWl/2p9bfQa9RdpsnLklfQl0zdzr3uuuvaiiuu6MJ8vf/kk0/amDFjkhdNPCd4T1DwBAEEEIicQOiOsxgHWKzgXWHvIYcc4vq1lVZaKbHrGjH90ksv2dixY+2dd95JvO6fFBK8axvbbLONDRkyxNZZZx2/Sfc4ffp086PvG7zRzB8UFD///PNurYsuusgeeOCBZm4h++LFCN71iZqcVJOUqukOO40sb6ppVLx+PzRXjc5nMYJ37YP+/tHfUjvvvLMb3e73SxdONAHrTTfdZHPmzPEvJx4J3hMUPEEAAQQQQAABBBBAAIESFwidH8QmePfntWvXrta5c2dXY/bbb7+1qqqqrKPc/XpRepwxY0aUdod9QQABBEpaIHTHWYoYqueui8nqI3Xnly5EL1q0qOiHojBX5UrUNNFrqHruqhE/fvx4t93ddtvNvvzyS/c86v8cffTRLkT/5ptvbNddd3Uld3LdZ4XuHTt2tAULFjQo9ZLr+rkup7sEdSeBfl/mzp3rJlNNLi2T63ZYDgEEEEAAAQQQQAABBBAoNYHQ+UHsgvdSO6Hp9pfgPZ0KryGAAAL5CYTuOPPbC9YKKaByNipXo7lYNDF6KbROnTrZfffdZ3q89tprbdy4caWw2+wjAggggAACCCCAAAIIIFA2AqHzA4L3CP7qELxH8KSwSwggULICoTvOkoWI0Y77iWMnTpxoo0aNivyRaeS/ysyojIvuONAo/dra2sjvNzuIAAIIIIAAAggggAACCJSTQOj8gOA9gr89BO8RPCnsEgIIlKxA6I6zZCFitOMa7a5R78OGDbMpU6ZE9sg233xzV8u9Z8+erj675p0ZMWJE8Jr0kQVgxxBAAAEEEEAAAQQQQACBEhIInR9ENnjv0aOHVVRUlNCpCbOrqrk7c+bMMBtjKwgggAACFrrjhLT1BSZMmGC9evWyAQMG2Pfff9/6O5RhD7R/I0eONAXuqqt/1VVX2bPPPpthaV5GAAEEEEAAAQQQQAABBBBoTYHQ+UFkg3dNkKpJxMqtzZ8/301mVm7HzfEigAACxRII3XEWaz/Zbu4CmmhU7eeff859pVZYsm3btm5yWU30/sMPP7TCHvCRCCCAAAIIIIAAAggggAACuQqEzg8iG7zry2r37t1zdYnNcrNnz7a6urrYHA8HggACCLS2QOiOs7WPh89HAAEEEEAAAQQQQAABBBBAAIHwAqHzg8gG76KrrKy0Tp06hVeM6BY14Vp1dXVE947dQgABBEpTIHTHWZoK7DUCCCCAAAIIIIAAAggggAACCGQTCJ0fRDp4F0SXLl2sffv22Uxi8d7ChQtNt6LTEEAAAQTCCoTuOMPuHVtDAAEEEEAAAQQQQAABBBBAAIEoCITODyIfvAs97iPfGekehf9rsQ8IIBBXgdAdZ1ydOC4EEEAAAQQQQAABBBBAAAEEylkgdH5QEsG7Trhqvnfo0MHatWtnFRUVJf87sGjRIqutrbWamhpqupf82eQAEEAgygKhO84oHyv7hgACCCCAAAIIIIAAAggggAAC+QmEzg9KJnjPj4u1EEAAAQTKXSB0x1nunhw/AggggAACCCCAAAIIIIAAAnEUCJ0fELzH8beEY0IAAQQQSAiE7jgTG+YJAggggAACCCCAAAIIIIAAAgjERiB0fkDwHptfDQ4EAQQQQCCdQOiOM91n8BoCCCCAAAIIIIAAAggggAACCJS2QOj8gOC9tH8f2HsEEEAAgSYEQnecTXwcbyOAAAIIIIAAAggggAACCCCAQAkKhM4PCN5L8JeAXUYAAQQQyF0gdMeZ+yezJAIIIIAAAggggAACCCCAAAIIlIpA6PyA4L1Uzjz7iQACCCCQl0DojjOvnWAlBBBAAAEEEEAAAQQQQAABBBCItEDo/IDgPdKnm51DAAEEEChUIHTHWej+sD4CCCCAAAIIIIAAAggggAACCERPIHR+QPAevXPMHiGAAAIIBBQI3XEG3DU2hQACCCCAAAIIIIAAAggggAACEREInR8QvEfkxLIbCCCAAALFEQjdcRZnL9kqAggggAACCCCAAAIIIIAAAgi0pkDo/IDgvTXPJp+NAAIIIFB0gdAdZ9F3mA9AAAEEEEAAAQQQQAABBBBAAIEWFwidHxC8t/gp5AMRQAABBFpSIHTH2ZL7zmchgAACCCCAAAIIIIAAAggggEDLCITOD/IO3lvmcPkUBBBAAAEEEEAAAQQQQAABBBBAAAEEEEAAAQRaRmDGjBlBPojgPQgjG0EAAQQQQAABBBBAAAEEEEAAAQQQQAABBBAodYFWD95D7UCpnwj2HwEEEEAg2gKhbxWL9tGydwgggAACCCCAAAIIIIAAAgggkI9A6Pwg7xHvBO/5nD7WQQABBBBoaYHQHWdL7z+fhwACCCCAAAIIIIAAAggggAACxRcInR8QvBf/nPEJCCCAAAKtKBC642zFQ+GjEUAAAQQQQAABBBBAAAEEEECgSAKh8wOC9yKdKDaLAAIIIBANgdAdZzSOir1AAAEEEEAAAQQQQAABBBBAAIGQAqHzA4L3kGeHbSGAAAIIRE4gdMcZuQNkhxBAAAEEEEAAAQQQQAABBBBAoGCB0PkBwXvBp4QNIIAAAghEWSB0xxnlY2XfEEAAAQQQQAABBBBAAAEEEEAgP4HQ+QHBe37ngbUQQAABBEpEIHTHWSKHzW4igAACCCCAAAIIIIAAAggggEAzBELnBwTvzcBnUQQQQACB0hMI3XGWngB7jAACCCCAAAIIIIAAAggggAACTQmEzg8I3psS530EEEAAgZIWCN1xljQGO48AAggggAACCCCAAAIIIIAAAmkFQucHBO9pmXkRAQQQQCAuAqE7zri4cBwIIIAAAggggAACCCCAAAIIIPCrQOj8gOD9V1ueIYAAAgjEUCB0xxlDIg4JAQQQQAABBBBAAAEEEEAAgbIXCJ0fELyX/a8UAAgggEC8BUJ3nPHW4ugQQAABBBBAAAEEEEAAAQQQKE+B0PkBwXt5/h5x1AgggEDZCITuOMsGjgNFAAEEEEAAAQQQQAABBBBAoIwEQucHBO9l9MvDoSKAAALlKBC64yxHQ44ZAQQQQAABBBBAAAEEEEAAgbgLhM4PSiZ4b9u2rXXo0MHatWtnFRUVcT/PWY9v0aJFVltbazU1NVZXV5d1Wd5EAAEEyl0gdMdZ7p4cPwIIIIAAAggggAACCCCAAAJxFAidH5RE8F5ZWWmdOnWK4/ks+JjmzZtn1dXVBW+HDSCAAAJxFQjdccbVieNCAAEEEEAAAQQQQAABBBBAoJwFQucHkQ/eu3TpYu3bty/nc97ksS9cuNCqqqqaXI4FEEAAgXIUCN1xlqMhx4wAbcgE3AAAGPpJREFUAggggAACCCCAAAIIIIBA3AVC5weRDt4Z6Z77rzMj33O3YkkEECgvgdAdZ3npcbQIIIAAAggggAACCCCAAAIIlIdA6PwgssG7arp37969PM5qoKOcPXs2Nd8DWbIZBBCIj0DojjM+MhwJAggggAACCCCAAAIIIIAAAgh4gdD5QWSD986dO1vHjh39cfOYg8D8+fNt7ty5OSzJIggggED5CITuOMtHjiNFAAEEEEAAAQQQQAABBBBAoHwEQucHkQ3ee/ToYRUVFeVzZgMc6aJFi2zmzJkBtsQmEEAAgfgIhO444yPDkSCAAAIIIIAAAggggAACCCCAgBcInR9ENnj3B+oPnMfcBGbMmJHbgiyFAAIIlImA70/472OZnPAshzlw4EBbd9117dNPP7W77rory5K8hQACCCCAAAIIIIAAAgggUG4CofMDgveY/QYRLMXshHI4CCBQsEDojjPbDh1zzDG2zjrrZFsk43uTJk2yp556KuP7cXpjhx12MIXgubZHHnnEnnjiiVwXz7jcBRdcYPrsl19+2YYOHZpxOd5AAAEEEEAAAQQQQAABBBAoP4HQ+UEsgvcVV1zRBg0a5H4bbrjhBvvll18i/5ux3nrr2U477dRoPxUuvP/++41ez/UFgvdcpVgOAQTKRSB0x5nN7corr7T+/ftnWyTje6NHj7bx48dnfD9Ob/z5z3+2o48+OudDuvHGG23s2LE5L59pQYL3TDK8jgACCCCAAAIIIIAAAgggEDo/iEXw3rNnT7vkkkvcb8fgwYNLInjfeuutTSMjU9tVV11lU6ZMSX05558J3nOmYkEEECgTgdAdZza27bff3jRHSWrr3bu3DRgwwL2scH3hwoWpi9jUqVPtrbfeavR6HF/wwfvPP/9sY8aMafIQX3vtNXvjjTeaXK6pBQjemxLifQQQQAABBBBAAAEEEECgfAVC5wcE7630u7Tkkks2mDz20ksvtW7duhnBeyudED4WAQRiKxC648wHascdd7Tzzz/frbrzzjvbnDlz8tlMbNbxwftPP/1kW2yxRYsdF8F7i1HzQQgggAACCCCAAAIIIIBAyQmEzg8I3iPyK6DAneA9IieD3UAAgVgJhO4488EheG+oRvDe0IOfEEAAAQQQQAABBBBAAAEEWl8gdH5A8N7659TtAcF7RE4Eu4EAArETCN1x5gOUa/CuiVn/+te/uo849dRTrVOnTrb33nvbxhtvbL169bLLLrvM7rvvPltllVXsrLPOcsuNHDnSPvvss7S7teuuu9ouu+xic+fOtTPPPDPtMl27drX999/fNttsM3cBuK6uzj7//HN77LHH7NFHH7Uffvgh7XqFvBgieF9//fXdBK1rrLGG6RzrLoIPPvjA3n33Xbv77rtt0aJFjXaxqRHvFRUVtu+++9pvf/tb69Onj7Vv394+/vhj+/DDD23ChAn21VdfNdqmf0F3sm211Va21157uXOlc1dVVWVvvvmm/eMf/7Dp06f7RXlEAAEEEEAAAQQQQAABBBCIoEDo/CCWwbsCiQ022MDWXHNN96VXX8RVHzZb0xfmTTbZxH157969u33zzTcuyHj11VdtwYIF2Va15ZZbzoUiq6++ummi11mzZtmnn37q6vUuXrw467r+TYJ3L8EjAgggEFYgdMeZz97lGryr7Ir6AzUFwFdccYWpT/JNP995550u2J04caJ7+eCDD844KfeRRx5pRxxxhH3xxRe2++67+80kHhXm33zzza4fS7yY9ER959ChQ9OG2EmLNftpIcF7mzZt3D7pYsESSyyR9rNVL//kk09uVEs/W/DepUsXGzFihPXr1y/tNmtqauyiiy6yp556Ku37Z5xxhu2xxx5p31Mt+xNOOMH+85//pH2fFxFAAAEEEEAAAQQQQAABBFpfIHR+ELvg/dxzz7XTTjvNll566QZn6/nnn7cbbrghbXiwwgor2LBhw6xv374N1tEPCuCvvPLKjCPV1l57bbdu586dG6373nvvuQDl22+/bfRe6gsE76ki/IwAAgiEEQjdceazV/kE7x999JEb2f7Pf/7TTbqqvkQB+ieffBIkeFffN27cOPcZumD88MMP2yuvvGLLL7+8bbrppjZo0CA3F4leP++88/I57IzrFBK86w4A9fNqTz75pD333HNupLsugvfv3990IaJt27bu9ZNOOqnBPmQL3nUBQqH7d999Z6NGjXIXz3/55RfbaKON3B0Bek816XUHQWq/rs/0dyroTgFNkq67BjQqXzX99fdFbW2tHXbYYabzSkMAAQQQQAABBBBAAAEEEIieQOj8IHbBu26J15ddBQXV1dW23nrruVGDSy21lE2ePNmN7Es+rRotp1v3V111VZs/f77dddddNmPGDNPIt9122810C7u+aB933HEuhE9eV6PbR48e7YIJ3Yr+0EMPuRH2Okn77befdezY0WbOnGn64q8v79kawXs2Hd5DAAEE8hcI3XHmsyf5BO8KgBXm/ve//230kRqpXsiId/V9t9xyi+sjVaLlkEMOcf1X8gepTM0555zjXtJI8Pvvvz/57YKe5xu86+60O+64w90F8O9//9uVz0ntXzUSXqPLFXRvs802ptHmvmUK3tXnP/LII24E/Yknnmi6WJ/cKisr7dZbbzVdrLjppptc2Rn/vsJ+3YkgU703ZswY/5Z7bNeunY0dO9Z69+7tStXsueeeaQcBNFiJHxBAAAEEEEAAAQQQQAABBFpcIHR+ELvgffbs2W4k3I8//pg4OVtvvbUdc8wxLkDX47x58xLv6QuzQnXVglVArtGEvi2zzDLutnKF8hpVl/plWrfvb7fddq60zOmnn96gDq7K3SjQV+CvEfNN3V5O8O7VeUQAAQTCCoTuOPPZu3yCd/ULqiuerhUavKuGucJgtaOOOsqmTZuW7mPswgsvtO23394F0QqkQzUfvCs0V1mYbE0126+77rpsizR4T6V5Jk2a5F7TBQWt71um4F1/C6ivVhs8eLC7q8Cv09Tjtdde6+4QUFmev/zlL2kX79mzp91zzz3uvT/96U9uhH7aBXkRAQQQQAABBBBAAAEEEECg1QRC5wexC95127xu805uCr9vvPFGNwJ9/PjxbjS8f3/48OGmyexefPFFN2LNv+4fFTgcfvjhLpjXreR+sjZNwHb77be70e4KL1QKILUdf/zxtvnmm5tKzuhzsjWC92w6vIcAAgjkLxC648xnT/IJ3rMFtIUG76rbPmTIEHdB+g9/+EOib0s9Nj96XKPiVTIlVPPBey7bU9kWlYPLtankzLPPPusWV533f/3rX4lVMwXvGsnu+3FdhFCf/eWXXybWy/REo9mffvpp97dAutHuyetpOd0Jp4sZ/sJA8vs8RwABBBBAAAEEEEAAAQQQaF2B0PlB7IJ3jVpXqZnUptdVszZ15Pr1119vqs+uYF5filNbt27dEhPd6Zb/r7/+2i3StWtXu/rqq91zjZhP9wV9wIABbiTh3Llz7eijj07ddIOfCd4bcPADAgggEEwgdMeZz47lE7zvsMMOrmRaus8rNHjXJKG6Y0vtvvvuS/cR7rUNN9zQTTquH7LtT8YNZHjDB+8qA3PNNddkWOr/XtadaM8880yjZVTHXbXT1113XdePd+jQwdq3b+9q1qvMnFquwbuW1cXyAw44QE9debg333zTjcZ//fXX3R0BySVr3EL1/+h36+6773Y/6u+DF154wb/V6FG16dXkPXLkyEbv8wICCCCAAAIIIIAAAggggEDrCoTOD2IXvGt0umq1pzZfFkZfoFWrVk0j4e+8805Xl/Xiiy823Sae2lRuRiPb1c4//3x7++233fPf/OY3dtZZZ7nnGgmv2vKpTROynXrqqe4LvL7Mp/vS7tchePcSPCKAAAJhBUJ3nPnsXdSCd002rj6qOU0XkF999dXmrJJxWR+8aw6VLbbYIuNy6d5o06aNnXLKKaYa9Lr7LFvTcn70u5bLNOLdb0N99T777GM9evTwL7lHTab6+OOPm+6a06TrvunChC7cN6fp75AjjzyyOauwLAIIIIAAAggggAACCCCAQAsIhM4PYhe869b8urq6RqfioIMOsoEDB7q6qj4w1+i4m2++2S2r28pVEia1abI0TbjqJ2F9+eWX3SK/+93vTPVuVZ9WE6mmTu6mhVTCRttVO+yww6ympsY9T/cPwXs6FV5DAAEEChcI3XHms0dRC94vv/xy+/3vf+8ORaPCMzX1fb5/e+ONN0wTvoZo+QbvGuWuki4a5a6L2ZpgVZPPVlVVuT5W/az214fhzQ3e/bH169fP1M+vv/76pnDdB/yzZs1yc8b4u9z69Onjwnitp3r8GiWfqXlLGcqShgACCCCAAAIIIIAAAgggEC2B0PlB7IJ3TZ6aPBrNn75jjz3WttpqKzfJqZ9ATe/pi7K+yF9xxRWuzrtf3j+qHqufgO6MM86wDz/80L3Vu3dvV6dVP2QaZa/67rp1XRcCdEEgWyN4z6bDewgggED+AqE7znz2pJjBu+7oyhTkKngeNGiQmzh89913T+y6JgTfc8893WTj2267beL1lnqSb/CufnX06NFuN88777wGc7b4fVf5uCeeeML92JxSM3791MeVVlrJ9t13X9NErWoPPvigGzmv5yuuuKIbCa/no0aNsokTJ+opDQEEEEAAAQQQQAABBBBAoAQFQucHsQvezznnHHv//fcbnVq9rhFyDz30kAvb/QIK4VdZZRW744473Jdp/7p/XHPNNU21cNV0a7gf7bf88su7UXd6XQHGRx99pKcNmkKOAw880AUeTU0Mp1I3Orm33XabPfroow2205wfZsyY0ZzFWRYBBBCIvUDojjMfsNDB+7LLLmv/qp80dMkllzRdFPYTg6bum+Yx2XjjjRsF76rXrrIranvssYfNnj07ddWi/pxv8O7rsOsCu+5i8xOeJ++sJkXXBKZq+Y54T96ef655XTbbbDP77LPPXDka//r999/vStNoYnf9rUFDAAEEEEAAAQQQQAABBBAoTYHQ+UHsgvfJkycnysf4U9ypUydTPVvVdL/00kvdZGn+PU2Yqtvt9UU63e32GuG28847myZI1Wh6f8u9bhm/7rrr3IRu+rI9btw4v8nEoz5r9dVXd7fC+4lYE2+mPFHZGt3WrlI2l112Wcq7uf9I8J67FUsigEB5CITuOPNRCx28ax/uvfde18codFf4ntp0sfnWW291pdI0QWnyiHdNQqq+q127dm7i0KFDh5rqrac2lWnbaccdbV793ClaJttcJanrZvs53+Bdd5gdddRR7iK4Lh4sXry4wccsvfTSbkS8ysOo5Rq8q6/v37+/qZb72WefnXbeFo1o151zmkBVFwB800V53XUgG03knm6C1crKSvf3x7L188aMq7/AnulCid8mjwgggAACCCCAAAIIIIAAAi0vEDo/iF3w/uOPP7qRbqr5qqbRgH/729/c5G2qyaqR5z481/uaQE1fphWka9K0hx9+WC+7phrtp512mmmCVZWbSf2irFF1CgE0serIkSMb1IjXSDwFFvosfRGfOXOm32zaRwUIqgNfW1trGqH4yiuvNNjPtCuleZHgPQ0KLyGAQFkLhO4488EsRvB+7rnnugvDCnxVfuWee+5x4bkmH91yyy3d5N4KopdbbrlGI951DLrYq7u+VL9ctdJ159dbb73ltqESKiqRtv/++7t+VBev/Zwo/vh1sXqttdZytdVPOOEE/3JOj/kG7+qXdWeYmvprlYv75JNP3IV1lYDTPulONV1QUMs1eNddAep71Z588klT+bevv/7a/ay/I/avn8tlaP2FellpVLsuWvim17T8pptu6v4eUP38l156yfQ3h86Ftq2gXr+H8+bNc3cYLFiwwK/OIwIIIIAAAggggAACCCCAQEQEQucHsQveP/jgA/fl9u2337bq6mrr27evrbrqqm4kmr4MT506tdGpVACgUERt+vTp7kt8165dbb311nNfmvWl/swzz2x0S7u+bOt2dp0UjRR855133ARv+llhhJrqzN5yyy3uebZ/tC2NkO/evbtbTCVtvv/+e/dcpWwWLlyYbfXEewTvCQqeIIAAAk4gdMeZD2sxgneVPFMYvtpqq7ldUtkV9XsaXa0+Zdq0aa72u/q41BHv/hh23XXXBuVRNCeJLiZrfhPfHn/8cRteP1F46uhylUXr0qWLPfPMMy7k98vn8phv8K4QXLXddbHatzlz5riLCyq/o35TFwF8iN6cGu8a6a6L5r7JTH1xz549E0G+ytXpQnvq3QEK+seOGWO9/7/v1zY0el6OuttOTWG75ptJN5G7W4B/EEAAAQQQQAABBBBAAAEEWlUgdH6wRP0Gf2nOEYXegUyf7T8n0/vJr+tL8SWXXOJeOvTQQ90Ic91i75tGmGk0moLxTE2Ty2mEur64+6ZRhE899ZTdfvvtjb5k+2U0mm3IkCE2YMCAxJdrvacv/xpBr/VzbfrirhGGCvwV/GsUvppGwtfU1OS0GYL3nJhYCAEEykjA9yet+d/HYgTvOoXdunVzoXe/fv2sQ4cO7qyq75o0aZILnwcPHuzKoGQK3rWC7t46+OCDbe2113br+380mbhK1Tz99NONQnf1lc8//7xbVPOgPPDAA361nB7zDd79xnW3mWrTq6/0TRcaNFH6rFmz7Nlnn3UvNyd41wrbbLON89LfFbp4oaaLEboArzsC/KSt7o2UfzSpq8rO7LTTTg3+ltCFDF2kkKUfRZ+yKj8igAACCCCAAAIIIIAAAghEQCB0frBE/QZLPnhPd140ymyNNdawr776yv0vubxMuuX1moJufYnXqHNN3KbJ5tJN3JZufX1B13q6PV/r6ct1Lp+ZbluFvNaawVIh+826CCCAQLEEQnecxdrPQrar/ssfp4JnhcXNbRpBv/LKK7s7xLQNf9dVuu306dPHXVzWe7vttpsrq5JuuWK/pj5Xo+7V7+oie6imPt3fSaA5YHQxI9emC/L6W0J3Huhvgaqqqlb5eyDX/WU5BBBAAAEEEEAAAQQQQACB/xPw36tD5atL1G8wlsF7uf7ChPrFKFc/jhsBBOInELrjjJ9Q849Io+RVak2h9D777NP8DbAGAggggAACCCCAAAIIIIAAAhETCJ0fELxH7AQXujsE74UKsj4CCMRNIHTHGTeffI7niCOOcGVVJk6c6CYoz2cbrIMAAggggAACCCCAAAIIIIBAlARC5wcE71E6uwH2heA9ACKbQACBWAmE7jhjhZPnwWi0u0a9Dxs2zKZMmZLnVlgNAQQQQAABBBBAAAEEEEAAgegIhM4PIhu89+jRIzGxWXT4o70nqkc/c+bMaO8ke4cAAgi0sEDojrOFdz+SHzdhwgTr1auXm1g8Wy34SO48O4UAAggggAACCCCAAAIIIIBAGoHQ+UFkg/fOnTubJkil5S4wf/58mzt3bu4rsCQCCCBQBgKhO84yIGvyEJdaaim3THMmHW1yoyyAAAIIIIAAAggggAACCCCAQCsKhM4PIhu8t23b1rp3796K1KX30bNnz7a6urrS23H2GAEEECiiQOiOs4i7yqYRQAABBBBAAAEEEEAAAQQQQKCVBELnB5EN3uVbWVlpnTp1aiXq0vrYefPmWXV1dWntNHuLAAIItIBA6I6zBXaZj0AAAQQQQAABBBBAAAEEEEAAgRYWCJ0fRDp4l22XLl2sffv2LcxcWh+3cOFCq6qqKq2dZm8RQACBFhII3XG20G7zMQgggAACCCCAAAIIIIAAAggg0IICofODyAfvsmXke+bfMEa6Z7bhHQQQQEACoTtOVBFAAAEEEEAAAQQQQAABBBBAIH4CofODkgjedRpV871Dhw7Wrl07q6ioiN+ZbcYRLVq0yGpra62mpoaa7s1wY1EEEChPgdAdZ3kqctQIIIAAAggggAACCCCAAAIIxFsgdH5QMsF7vE8rR4cAAgggUCyB0B1nsfaT7SKAAAIIIIAAAggggAACCCCAQOsJhM4PCN5b71zyyQgggAACLSAQuuNsgV3mIxBAAAEEEEAAAQQQQAABBBBAoIUFQucHBO8tfAL5OAQQQACBlhUI3XG27N7zaQgggAACCCCAAAIIIIAAAggg0BICofMDgveWOGt8BgIIIIBAqwmE7jhb7UD4YAQQQAABBBBAAAEEEEAAAQQQKJpA6PyA4L1op4oNI4AAAghEQSB0xxmFY2IfEEAAAQQQQAABBBBAAAEEEEAgrEDo/IDgPez5YWsIIIAAAhETCN1xRuzw2B0EEEAAAQQQQAABBBBAAAEEEAggEDo/IHgPcFLYBAIIIIBAdAVCd5zRPVL2DAEEEEAAAQQQQAABBBBAAAEE8hUInR8QvOd7JlgPAQQQQKAkBEJ3nCVx0OwkAggggAACCCCAAAIIIIAAAgg0SyB0fkDw3ix+FkYAAQQQKDWB0B1nqR0/+4sAAggggAACCCCAAAIIIIAAAk0LhM4PCN6bNmcJBBBAAIESFgjdcZYwBbuOAAIIIIAAAggggAACCCCAAAIZBELnB/8LAAD//4q0CIoAAEAASURBVOzdB7wTxf7+8VEPKF1BUEDEv4pgvQJWFMVr710Re+8IigVFwYoNFC9iFxXrBQt2sSMgXrFcFREbKmChKSAd9Z9nfneOS84m2SST/pnXC05Ostny3uRs8uzsd1b6f//v//1l0mix6e3UU6ZMSeNZTIoAAggggEBhBDhuFcadpSKAAAIIIIAAAggggAACCCBQSgK+84OVYjPMKHgvJTTWFQEEEEAAAQQQQAABBBBAAAEEEEAAAQQQQACBVAK+OpwTvKeS5nEEEEAAAQQQQAABBBBAAAEEEEAAAQQQQACBihAoePDuawUqYm+xkQgggAACBRPwfalYwTaEBSOAAAIIIIAAAggggAACCCCAQM4EfOcHGfd4J3jP2T5mxggggAACHgV8Hzg9rhqzQgABBBBAAAEEEEAAAQQQQACBIhHwnR8QvBfJjmU1EEAAAQRyI+D7wJmbtWSuCCCAAAIIIIAAAggggAACCCBQSAHf+QHBeyH3JstGAAEEEMi5gO8DZ85XmAUggAACCCCAAAIIIIAAAggggEDeBXznBwTved+FLBABBBBAIJ8Cvg+c+Vx3loUAAggggAACCCCAAAIIIIAAAvkR8J0fELznZ7+xFAQQQACBAgn4PnAWaDNYLAIIIIAAAggggAACCCCAAAII5FDAd35A8J7DncWsEUAAAQQKL+D7wFn4LWINEEAAAQQQQAABBBBAAAEEEEDAt4Dv/IDg3fceYn4IIIAAAkUl4PvAWVQbx8oggAACCCCAAAIIIIAAAggggIAXAd/5AcG7l93CTBBAAAEEilXA94GzWLeT9UIAAQQQQAABBBBAAAEEEEAAgcwFfOcHBO+Z7wueiQACCCBQAgK+D5wlsMmsIgIIIIAAAggggAACCCCAAAIIpCngOz8geE9zBzA5AggggEBpCfg+cJbW1rO2CCCAAAIIIIAAAggggAACCCAQRcB3fkDwHkWdaRBAAAEESlbA94GzZCFYcQQQQAABBBBAAAEEEEAAAQQQSCjgOz8geE9IzQMIIIAAAuUg4PvAWQ4mbAMCCCCAAAIIIIAAAggggAACCKwo4Ds/IHhf0ZffEEAAAQTKTMD3gbPMeNgcBBBAAAEEEEAAAQQQQAABBBCICfjOD0omeK9du7Zp0KCBqVu3rqmqqqroF8Py5cvNwoULzfz5883SpUsr2oKNRwABBFIJ+D5wploejyOAAAIIIIAAAggggAACCCCAQOkJ+M4PSiJ4b9y4sWnUqFHp7a08rPHcuXPNnDlz8rAkFoEAAgiUpoDvA2dpKrDWCCCAAAIIIIAAAggggAACCCCQTMB3flD0wXuzZs1MvXr1kplU/GMLFiwwM2bMqHgHABBAAIEwAd8HzrBlcB8CCCCAAAIIIIAAAggggAACCJS2gO/8oKiDd3q6R3+x0vM9uhVTIoBAZQn4PnBWlh5biwACCCCAAAIIIIAAAggggEBlCPjOD4o2eFdN95YtW1bGXvW0ldOnT6fmuydLZoMAAuUj4PvAWT4ybAkCCCCAAAIIIIAAAggggAACCDgB3/lB0QbvTZo0MQ0bNnTbzc8IAvPmzTOzZ8+OMCWTIIAAApUj4PvAWTlybCkCCCCAAAIIIIAAAggggAAClSPgOz8o2uC9VatWpqqqqnL2rIctXb58uZk6daqHOTELBBBAoHwEfB84y0eGLUEAAQQQQAABBBBAAAEEEEAAASfgOz8o2uDdbajbcH5GE5gyZUq0CZkKAQQQqBABdzzJ59/Hdu3amYMOOqiG8EcffWReeeWVGvcX6o6VV17ZNG/e3Pz888/mjz/+KMhqrLLKKpGWfc4555j69evXWMebbrop0vNrPDHFHaWyD1NsRl4fdvto9OjRZty4cTlftsYCOu2002osR6X3hg0bVuN+H3fssccepkOHDjVmNXLkSDNp0iTjDOInyNXrNH45/I4AAggggAACCCCAAAKZC/jODwjeM98XRfnMfAZLRQnASiGAAAJxAr4PnHGzD/11t912M/3796/x2FNPPRV6vyZcffXVTffu3U2zZs3Mn3/+aW/XmIGHO2rVqmWOPvpo0759e7PFFlvYMHvx4sVm4sSJZvz48TawzHUIv++++5qOHTuajTfe2Gj/zJo1y3zxxRf23/Dhw40GDI9vL7/8slEZuvjWqVMns2zZsvi7s/496j7s1q2b0TrMnz/f9O7d2y5XJ130/D9iV6Kd16NH1usSnMFWW21lTjjhBHvXNddcY0+abLrppubMM8+09w0YMMD4+CyQyXJefPFF07RpUzNkyBAzdOjQ4GpHvp3Oclu3bm1GjBhRY96ffPKJOfnkk2vc7+OOiy++2Bx22GE1ZnXZZZeZUaNGmXy/TmusCHcggAACCCCAAAIIIIBAxgK+84OyCd733ntvs9lmm9WA1Ze/BQsW1Lg/2R0KA/Ql9vvvvzdvv/12skmL7jEfX7aLbqNYIQQQQCALAd8Hziir4kLbZUuXmh49e1Y/ZebMmaGh6DbbbGOuvPJKs+aaa9ppFbxvu+221c/zdaNOnTpGwezWW29dPUstSz3fXRs7dqy55JJLjMJ4323VVVc1ffv2NbvvvnvCWU+bNs1ccMEF5ttvv11hGp0o0EkDNQX26lmsluvgPdU+1Lp27drVBuD777+/XafTTz/dnHLKKeb33383u+yyi73P13+a34033mhnp4BfvbsVVt9xxx32Pp1U+fLLL7NeXCbL8RG8p7Pc1VZbzZ48cht74IEHGvVIz0fwrhNV+ozp2tdff23mzJljT2jl83Xqls9PBBBAAAEEEEAAAQQQyF7Ad35QNsH72WefbXbeeecawvry++uvv9a4P9kd+tKqL2/vvvuuueWWW5JNmvVjusRePbbUFPRn28uQ4D3rXcIMEECgzAR8Hzij8LjgXeF1586dEz5FAd1ZZ51le6CvtNJK1dPlInhX6K5wVieWFSYPvv12e5xT0N22bVtzwAEHmIMPPtiuwwcffGDOOOOM6vXxcUPhvnpBb7LJJuavv/4y//73v205ku+++8728t98881t2RCFqTph7sLssGXrRMXtsfVXy3Xwnmof6gTA8ccfb4/hrie0eqTrc4kGPN9rr73CNiHj+7S9gwYNss/XvLUMXblw33332fu0Dvo8kW3LZDk+gvdMluu2Vb3+TzrppLwE7+NiJ6hSXc2Qj9ep23Z+IoAAAggggAACCCCAQPYCvvODsgneFWDrn5ou1x88eLC9XezBu+qT3nnnnXZdVaf0t99+s7cz/Y/gPVM5nocAAuUq4PvAGcUpSvC+7rrrmmuvvdaolrjak08+aU8Uq6d0LoL3I4880vTq1ctoIO7zzz/fhu7x23LRRReZww8/3N6tE9A//vhj/CQZ/x7sld0zdhXAmDFjasxLJwXuv/9+2wNfNbEVzoe1fASaUfah1k3H7lNPPdVMnjzZHHPMMXZ1VX5G26je6GG1/sO2Kep9qi9+11132cm7dOliT1JstNFG5pFHHrH37bfffuaXX36JOruE02WyHB/BeybLdRtB8O4k+IkAAggggAACCCCAAAKZCPjOD8omeA9irrHGGtVfSjMJ3nWpv+ahS8R/+umn4Ky93yZ4907KDBFAAIEVBHwfOFeYeYJfooS2g2691XTaYQdbz1wB/Jtvvml7TqsHta5+2m677RLMPbO77777blsG49NPP7W9gsPm0rJlS/PMM8/Yh66//np7MiBsukzuu+KKK4xKsXz88cc2qE40DwXICpI1OOd5550XOlkxBe/HHnusrccfLG+iKwcuvfRSWy5HJzx8Nl0x8OCDD9pZbr/99vZEik7i6MSNmsr4ZHsSX/PJZDk+gvdMlqv1VSN4/z8H/kcAAQQQQAABBBBAAIHMBHznBwTvme0Hb88iePdGyYwQQACBUAHfB87QhcTdGTV4r1O3runTp4+ZMWOGnYNKluQqeFeZGZ1Yfv7556uD27jVtr++9tprplGjRjbIVfjuq6mUTf369W0ZkM8++yzhbFW/XHW+kwX0xRS8H3HEEebCCy8077//vi0bpA3bZ599bM3+SZMmmeOOOy50W1VSR6XtND7N+uuvbxo0aGC++uorO8DsK6+8Yj7//PPQ522wwQbm8ccfX+HkzFprrWX3q56w0047mUWLFoU+N507M1lOfPDepk0be5JHNfk1MK6uoFAZP51c0XgHYS2T5br5ELw7CX4igAACCCCAAAIIIIBAJgK+8wOC9//tBdUUDdbX1d2zZs2yl46n2lH68qz68uuss45RkK56sBpgS8GCBt/SZf3BplqszZo1s3fVq1fPfvHWL8OGDavxZXn06NFmaawWb9RGqZmoUkyHAAKVIuD7wBnFLUrwrsFTFdaqrIxruQze3TKS/dTxTIOKqx77wIEDzWOPPZZscu+PabmjRo2ywb9qlrtSbPELKqbgXScULr/8cvPOO+/YEj5a13/+85/mhhtuMB999JEtRRO//qpnf9VVV9nPDfGP6Xcd93VCRldBxDd3VcLChQurx7ZRib1XX33VTqrXVfA1Ff/8qL9nspxg8D5v3jyj0kXBgXvdsvX5SickwsL3TJbr5kvw7iT4iQACCCCAAAIIIIAAApkI+M4PCN7/txfU+0qD3AVblMFV1YtLNXPVUy2sKcBwA8C5xzW9QoMoLd267wTvUVSZBgEEKknA94Ezil2U4D1sPoUO3vfcc09zzTXX2FXTuiTqdR227tnep4C2e/fu9mS0SqVogFLVSA9rxRS877HHHrZWv4JvlZdRcwOE6nOEtinYqqqqbDkf9VLXwKiPPvqoUfkfDQS/3nrr2e1WrXuF59oHX3zxRfDp9qqFl156yU6vZavphImCfw2aq/JFPpqujkh3OS54//DDD+2Ar9988409IfDee++Z5s2bmx1i67b33nub2rVr244Jqo2/bNmyFVY3k+W6GRC8Owl+IoAAAggggAACCCCAQCYCvvMDgvf/7QV9GXS9svSFuWPHjvZy6FtuuSXhfqpTp4657bbbbM88fTFW73R9ydSX6hYtWpgdd9zR1u51A726GW244Ya2hrx+12X3+qKoNmTIEDtImv3lf//pUvv4L6XBx+NvE7zHi/A7AghUuoDvA2cUz1IM3nU8Gj58uA12VW6md+/eUTY142lUYkXH3VVXXdUOMKtjpgbWVBit2u4arDRRK6bgXQO7axt0dZu7Qs3dp1r9S5YsWWEzdHLjsssus9MqlI8/uaHPFiNGjLBXxunzg6vn7maiq/M0zV9//bXCVXJ1Y2WL4u9zz8nkZybLccG7lqfPQyeeeOIK66j7Vedf9f7VNHiuBtENtkyW655P8O4k+IkAAggggAACCCCAAAKZCPjODwjeQ/aCaq4eeOCBKYN39Ujr27evrbOqkMDV6A3OUl+Ok9VapcZ7UIvbCCCAgH8B3wfOKGtYasG7guJBgwYZlSlRCRPVLf/ll1+ibGrG06iHtnpqu6bl6gT0U089lfKEczEF7279ff688sorbZ34sWPHmh49evicdU7n5YJ39bw/smtXM3Xq1NDlue3TAPYq1eOrEbz7kmQ+CCCAAAIIIIAAAghUpoDv/IDgPeR1FDV479y5szn33HNtsH766afb2u4hs0t6F8F7Uh4eRAABBLIW8H3gjLJCpRa8q0a5AlD1mFZd7rfeeivKZmY1jUqsKHhXr3eNe+LKvWmAUdWXnzBhQsL5l3vw3rNnT9OtWzfz1Zdfmm6xzgCl0lzwrqsAjz322ISrveuuuxo3cK/eK3Pnzk04bToPELyno8W0CCCAAAIIIIAAAgggEC/gOz8geI8Xjv0eNXhv3bp19SXSr7/+ur00XJfIp9MI3tPRYloEEEAgfQHfB84oa1BKwbtOHJ9yyil2s1ReTYF4vpvCd5Vh07gmGqxcTYOPPvfcc6GrUi7B+9prr2000Kpquzds2NCWn9OYMc6gVIN37Tftv0RNn59UTkdNYXmykyyJ5hF2P8F7mAr3IYAAAggggAACCCCAQFQB3/kBwXuIfNTgXU/Vl7xddtmlei66NP/LWA81XR6uwcVSNYL3VEI8jgACCGQn4PvAGWVtSiV4P+qoo8z5559vN+mee+4xd999d5TNy+k0qvndpUsXO+bJIYccYubMmVNjeaUevG+55ZY2mNaAo8maev+r53upNNfjPaw2fXAbVNpo3Lhx9moH7W/VevfRCN59KDIPBBBAAAEEEEAAAQQqV8B3fkDwHvJaSid419M1IJx6p22yySbVl8rrfg0s9sADDyQdII7gXVI0BBBAIHcCvg+cUda0FIL3ffbZx/Tr189oMMtHHnnE3HrrrVE2LefTtGvXzgwbNswu5+KLLzZvvPFGjWWWcvC+xx57GNU410DsP/74o3n77bdtLXSVW/n999/NvHnzzKmnnmo00HupBu9hg6YGd6JKC73wwgv2rl69elmD4OOZ3iZ4z1SO5yGAAAIIIIAAAggggIAEfOcHBO8hr6t0g3c3C32J3njjjW1PPYUCq666qvn1119N9+7dzZIlS9xkK/wkeF+Bg18QQAAB7wK+D5xRVrDYg3edMFZPYx23hg8fbm688cYom5XxNCqjonIqahMnTrSDkttfQv7ToOSjR4+2j9x+++32BHb8ZKUcvN9///22vMy0adPMYYcdFmrRu3dvo97+pVpq5qOPPrJlg+L3m/tdJxU0mK/a/vvvb37++Wf3UFY/Cd6z4uPJCCCAAAIIIIAAAghUvIDv/KAsg3d9aX/wwQfti0WDxH333XdpvXAyDd6DC9luu+2qL9/v06ePLT8TfNzdXn311asv7VedXQX12bQpU6Zk83SeiwACCJSdgO8DZxSgYg7e27dvb1QKpHbt2mbkyJHm2muvtYOqRtmuTKdRD2fV/VYt9x49ethybInmpTIsKnujdvXVV5tnn322xqSlGryrfvtrr72WssTKk08+adZdd92S7fE+f/58s++++9rB52vsvNgdquWvXv3q5a/3iq9G8O5LkvkggAACCCCAAAIIIFCZAr7zg7IM3vXSuO+++4y+4A4dOtS89NJLab1afATvunT/4YcftqVn+vbtayZNmhS6DgohdIm/6p1ecskl5ttvvw2dLuqdBO9RpZgOAQQqRcD3gTOKW7EG7xtttJG566677CCeOjb2i5Wa+fPPP6NsUtbTDBkyxGy99dZ2IE1dCbZs2bIa89QxUYNy7rnnnrYn+KGHHmqmT59eY7pSDd5r1aplS+esttpq9oqDsNrmwd7gpVpqRjvs1VdfNZdeemmNfacrA++7915TK3biZ8yYMaZnz541psn0DoL3TOV4HgIIIIAAAggggAACCEjAd35QtsG7vshtv/325vvvvzd33nmnrbce9SUUNXjv2LGj0eXzGiAsvpSMBlzVF8C//vrLnHDCCQl7fWmdVFe3RYsWtsap1vWPP/6Iuqo1piN4r0HCHQggUOECvg+cUThzFbxfeOGFRuG5ehS7QVGjrI+madWqlT0pvcYaa9innHLKKUmPNwrkP//88+rZ6wSxwnOF4xMmTLABfvWDEW44E006efJkGzxr/grgNe/WrVvb0mw77LCDndvjjz9uBgwYEDrnKMF7NlZaqFvfxYsXm86dO4euRyZ3Dood8zvFtvG3334z1113nRk/frz9jKD9svvuu9sgeunSpaZu3bpZ9Xhv27atUf10tUcffdS8+eabmaxuWs9xg6uqdr0+16jnvq6q+OKLL+znpW233dacc845RoPK6gq/Y4891mhQel8tVfDuw0TjDqhE0LixY815sas3krUor9Nkz+cxBBBAAAEEEEAAAQQQyK+A7/ygbIP3li1bmuuvv97WWdcumjFjhg0YfvrpJ3t/cLede+65tvefu09fFtdaay37pTg+yFYdXBeMqy6pvjQuXLjQfjnWvFXXffPNNzdrrrmmnd0TTzxhv3i6eYf97NKliznrrLPsQxpUTV9Cly9fbn9XDV4Ntha1xa9v1OcxHQIIIFCuAr4PnFGcMg1tjz/+eBtM6jijkmXxTQNSqmyLBhxVAJhOu/vuu43KzERty2LhrwJi13RcfeaZZ+yvOjaF9dZ20yb6qYFFL7/8cqMe32o61qm+t46Z7j6dsNZJaNVCT9SiBJrZWGm5me7DROvs7t9iiy3MwIEDTaNGjexdOvEwa9YsG0brjpdfftmG0kcddVRWNd4PPPBAo1J3al27dk2rA4J9Ugb/ueBdJ2j0etE6qKmkjK5C1EkbNe13heQff/yx/d3Xf6mCdx8mBO++9hbzQQABBBBAAAEEEECg+AR85wdlG7xr1ylAVzC+wQYbGNVSV5s6daq54IIL7G33n8II97i7L9FP9YZ3l8dvuumm5sgjjzRt2rSxvfWCz1FPLgUU+gKtECFVUy+wffbZxwb+6vWmUjVqqoOqXnFRG8F7VCmmQwCBShHwfeCM4pZpaJsseA8OOqqe0k8//XSUVameZtiwYaZdu3bVv6e6ER+8qye6rtBSUwmYH374IdUsQh/XMfPss8+269KkSZPqadSLXz3g1Us6Ve/sVMF7tlZaqUz3YfUGJbmh+u06AbHpJpvYkiuadMGCBXZ8GpWpU6/wbt26ZRW8n3feeeaYY44xM2fOtJ8vkqyOt4eCwftDDz1kDj/8cKMrK9xJBi1IVzvccccdSev8Z7pCqYJ3HyYE75nuHZ6HAAIIIIAAAggggEDxC/jOD8o6eM/X7lQvPV023bhxY9sbXl9y1YPP9YzP13poOQTv+dRmWQggUAoCvg+cUbY5F6GtQnOF52oHHHCA0VVW+WxHx4LgHrEybioj4noyZ7t89XTXyXFti06MRzlRrWWmCt59WOViH8Z7VVVV2e3XlXNy9fm5Qb3qVSJHg9qqbn6hmjoS6DOSTrJoG2fPnp2zVUkVvPswIXjP2e5jxggggAACCCCAAAIIFFzAd35A8F7wXep3BQje/XoyNwQQKH0B3wfOKCK5CG1VpuXaa6+1Y5eoxnS+mwbKPPjgg81TTz1l+vfvn+/Fr7C8VMG7D6tc7MMVNiLHv+jKAfWsv+yyy8yoUaNyvLTimH2q4N2HCcF7cexr1gIBBBBAAAEEEEAAgVwI+M4PCN5zsZcKOE+C9wLis2gEEChKAd8HzigbmYvQ9tRTT7XlxzR2yM033xxlNbxOc9ddd5kOHTqYiy66KGUpGK8LDplZquDdh1Uu9mHIpuTkLvWkf+edd2xN9T333DOtknU5WaE8zTRZ8O7LhOA9TzuTxSCAAAIIIIAAAgggUAAB3/kBwXsBdmIuF0nwnktd5o0AAqUo4PvAGcXAhbaaNjhA9rPPPmtuueWWKLOoMY16u6snd48ePXJSH7vGAuPu0JglGg9F2xbcprjJcvareiurpJvaKqusYlTHXa1Tp07VY6/YO2L/+bDKxT5065frn61btzYjRowwkyZNMscdd1yuF1ew+bdq1cqolrxrq9aubWvmf/LJJ+bkk092d9ufvkxc8K4BYhcvXly9jKuvvtoOepzO67T6ydxAAAEEEEAAAQQQQACBohDwnR8UbfCuL1PqnUSLLqAvgaqRS0MAAQQQ+FvA94Hz7zknvrXzzjubPn361JjghRdeqB6gtMaDKe7QoJvrr7++2XXXXc2iRYtSTO334fr169te7mGBpt8lJZ6bevq74D04lQYmd4Oeu/t9WOViH7r1y/XPnXbayQwYMMAMHTrUDBkyJNeLK9j811lnHbuN8SugQXo1kGqw+TLp3r272X///YOztrc14LEGBU7ndVpjJtyBAAIIIIAAAggggAACBRXwnR8UbfCuQbgaNmxYUOxSW/i8efNyOmhZqXmwvggggIAEfB84C6WqXt5qPgfgTGdbtHwNfvrnn3+m87SCTFtoq4JsdGChGtB05ZVXtvsq6oC1gaeX5U1MynK3slEIIIAAAggggAACCHgV8J0fFG3wXjt2uXDLli294pX7zKZPn26WLl1a7pvJ9iGAAAJpCfg+cKa1cCZGAAEEEEAAAQQQQAABBBBAAIGSEPCdHxRt8K69oUvKGzVqVBI7ptArOXfuXDNnzpxCrwbLRwABBIpOwPeBs+g2kBVCAAEEEEAAAQQQQAABBBBAAIGsBXznB0UdvEurWbNmpl69elnDlfMMFixYYGbMmFHOm8i2IYAAAhkL+D5wZrwiPBEBBBBAAAEEEEAAAQQQQAABBIpWwHd+UPTBu/YEPd8Tvx7p6Z7YhkcQQAABCfg+cKKKAAIIIIAAAggggAACCCCAAALlJ+A7PyiJ4F27UTXfGzRoYOrWrWuqqqrKb8+msUXLly83CxcuNPPnz6emexpuTIoAApUp4PvAWZmKbDUCCCCAAAIIIIAAAggggAAC5S3gOz8omeC9vHcrW4cAAgggkCsB3wfOXK0n80UAAQQQQAABBBBAAAEEEEAAgcIJ+M4PCN4Lty9ZMgIIIIBAHgR8HzjzsMosAgEEEEAAAQQQQAABBBBAAAEE8izgOz8geM/zDmRxCCCAAAL5FfB94Mzv2rM0BBBAAAEEEEAAAQQQQAABBBDIh4Dv/IDgPR97jWUggAACCBRMwPeBs2AbwoIRQAABBBBAAAEEEEAAAQQQQCBnAr7zA4L3nO0qZowAAgggUAwCvg+cxbBNrAMCCCCAAAIIIIAAAggggAACCPgV8J0fELz73T/MDQEEEECgyAR8HziLbPNYHQQQQAABBBBAAAEEEEAAAQQQ8CDgOz8gePewU5gFAggggEDxCvg+cBbvlrJmCCCAAAIIIIAAAggggAACCCCQqYDv/IDgPdM9wfMQQAABBEpCwPeBsyQ2mpVEAAEEEEAAAQQQQAABBBBAAIG0BHznBwTvafEzMQIIIIBAqQn4PnCW2vazvggggAACCCCAAAIIIIAAAgggkFrAd35A8J7anCkQQAABBEpYwPeBs4QpWHUEEEAAAQQQQAABBBBAAAEEEEgg4Ds/IHhPAM3dCCCAAALlIeD7wFkeKmwFAggggAACCCCAAAIIIIAAAggEBXznBxkH78GV4jYCCCCAAAIIIIAAAggggAACCCCAAAIIIIAAAqUuMGXKFC+bQPDuhZGZIIAAAggggAACCCCAAAIIIIAAAggggAACCJS6QMGDd18rUOo7gvVHAAEEEChuAd+XihX31rJ2CCCAAAIIIIAAAggggAACCCCQiYDv/CDjHu8E75nsPp6DAAIIIJBvAd8HznyvP8tDAAEEEEAAAQQQQAABBBBAAIHcC/jODwjec7/PWAICCCCAQAEFfB84C7gpLBoBBBBAAAEEEEAAAQQQQAABBHIk4Ds/IHjP0Y5itggggAACxSHg+8BZHFvFWiCAAAIIIIAAAggggAACCCCAgE8B3/kBwbvPvcO8EEAAAQSKTsD3gbPoNpAVQgABBBBAAAEEEEAAAQQQQACBrAV85wcE71nvEmaAAAIIIFDMAr4PnMW8rawbAggggAACCCCAAAIIIIAAAghkJuA7PyB4z2w/8CwEEEAAgRIR8H3gLJHNZjURQAABBBBAAAEEEEAAAQQQQCANAd/5AcF7GvhMigACCCBQegK+D5ylJ8AaI4AAAggggAACCCCAAAIIIIBAKgHf+QHBeypxHkcAAQQQKGkB3wfOksZg5RFAAAEEEEAAAQQQQAABBBBAIFTAd35A8B7KzJ0IIIAAAuUi4PvAWS4ubAcCCCCAAAIIIIAAAggggAACCPwt4Ds/IHj/25ZbCCCAAAJlKOD7wFmGRGwSAggggAACCCCAAAIIIIAAAhUv4Ds/IHiv+JcUAAgggEB5C/g+cJa3FluHAAIIIIAAAggggAACCCCAQGUK+M4PCN4r83XEViOAAAIVI+D7wFkxcGwoAggggAACCCCAAAIIIIAAAhUk4Ds/IHivoBcPm4oAAghUooDvA2clGrLNCCCAAAIIIIAAAggggAACCJS7gO/8oGSC99q1a5sGDRqYunXrmqqqqnLfzznbvuXLl5uFCxea+fPnm6VLl+ZsOcwYAQQQKBYB3wfOYtku1gMBBBBAAAEEEEAAAQQQQAABBPwJ+M4PSiJ4b9y4sWnUqJE/ReZkBebOnWvmzJmDBgIIIFDWAr4PnGWNxcYhgAACCCCAAAIIIIAAAgggUKECvvODog/emzVrZurVq1ehuzv3m71gwQIzY8aM3C+IJSCAAAIFEvB94CzQZrBYBBBAAAEEEEAAAQQQQAABBBDIoYDv/KCog3d6uufwlRSYNT3fAxjcRACBshPwfeAsOyA2CAEEEEAAAQQQQAABBBBAAAEEjO/8oGiDd9V0b9myJbs8TwLTp0+n5nuerFkMAgjkV8D3gTO/a8/SEEAAAQQQQAABBBBAAAEEEEAgHwK+84OiDd6bNGliGjZsmA9TlhETmDdvnpk9ezYWCCCAQNkJ+D5wlh0QG4QAAggggAACCCCAAAIIIIAAApXT471Vq1amqqqKXZ4ngeXLl5upU6fmaWksBgEEEMifAMF7/qxZEgIIIIAAAggggAACCCCAAAKlKuA7PyjaHu9uQ0t1R5Xiek+ZMqUUV5t1RgABBJIKuONJof7G6STyueeea1ZeeWVz2223mWXLliVd33w+qHVq3ry5+fnnn80ff/yRdNEnn3yyadq0qbnvvvvMzJkzk07r+8FOnTqZnXbayYwbN86MHj3a9+zzPr/dd9/ddOzY0YwaNcp8+OGHeV8+C0QAAQQQQAABBBBAAAEEEKgp4Ds/IHivaVyx9xQqlKpYcDYcAQTyIuD7wJnuSh/drZvp0bOnefTRR80tt9yS8Omrr7666d69u2nWrJn5888/7e2EE2fxQK1atczRRx9t2rdvb7bYYgtTv359s3jxYjNx4kQzfvx4M2zYsNAQfp999jFXXnmleemll8wVV1yRxRqk99Q6deqYp556ytSrV88ceuihK4T+jRo1Mtdee62d4RNPPGHeeecdozFiBg4caO979tlnbbid3hKTT61t1z5SYH7//ffbiS+88ELTunVrM2nSJHP77bcnn0Hs0XXWWcf8+9//Nr/88os54ogjiupkTMqVZwIEEEAAAQQQQAABBBBAoEwFfOcHBO8FeqFsttlmZu+9966x9Oeff95+ca/xQB7uIHjPAzKLQACBvAv4PnCmswGNGze2obHKeR188MFm/vz5oU/fZpttbKi95ppr2scVvG+77bah02Zzp0LsAQMGmK233rp6NlqWer67NnbsWHPJJZfYMN7dp58rrbSSeeCBB8zGG29sTj31VPPf//43+HDObp9zzjnm+OOPN3feeaftbR9ckMaCef311+1dV111lXnuuefMKqusYk8g6E6d6NAJD59N82vTpo154YUXTL9+/eys77nnHrPllluat99+2/Tq1SvS4s477zxzzDHH2KBerjQEEEAAAQQQQAABBBBAAIHCCvjOD8oueFfPPfVE06X8xVyzvEuXLuass86q8WoaNGiQUehRiEbwXgh1lokAArkW8H3gTGd91Tt6//33N4899lh1L+zg89X7XMcC9UBXsO1aLoJ3he533HGH2XTTTc2ypUvN4FjP7HfffddMmzbNtG3b1hxwwAH25IDW4YMPPjBnnHGGW53qn/vtt5/p27ev+eKLL2wYrvXMZdN4L+rJLhudrP7tt99WWJx6t7tj5mWXXVbdu10laWTbv39/e+JjhSdl+cvQoUONTp6rF77mr/avf/3LbLfddnb5Wo8orUWLFmbkyJFm0aJF5rDDDjMzZsyI8jSmQQABBBBAAAEEEEAAAQQQyJGA7/yg7IL3zp0721q6P/74o+nRo0eOdkP2s1XvwuDgsTfddJOts0vwnr0tc0AAAQSCAr4PnMF5J7u91lpr2R7YCo1PPPFE89lnn60w+brrrmvLpLRr187e/+STT5pff/3VnHLKKbbUjO8e70ceeaTtja3e9+eff74N3VdYodgvF110kTn88MPt3QceeKDRsTTYVO7l1Vhd8lqxwLtnrHzOmDFjgg97v60Q+6CDDrK13dVDPKz95z//scH8BRdcUF3//c0337QldHSS4MUXXwx7Wsb3qee96rMHSwfdfPPNZueddzYqbXP11VdHnrfq5avczyOPPGJuvfXWyM9jQgQQQAABBBBAAAEEEEAAAf8CvvMDgnf/+yijOSpw1wB3BO8Z8fEkBBBAIKGA7wNnwgXFPaB65CrZMn36dBsexz1sBsWC1k477GDmzp1rA3iFxSqpotIqGuhUPah9trvvvtvWdf/000/NSSedFDrrli1bmmeeecY+dv311xudDIhvN954o9lll13sdK6+evw0Pn7XCQvVk2/SpIkt6aLSLmFNdd1XW2016/bee+/ZSfQ8le2RvytFE/bcTO5z+00934cMGWJnIYc99tjDDB8+3MgnanMnQ3SF3iGHHBL1aUyHAAIIIIAAAggggAACCCCQAwHf+QHBew52UiazJHjPRI3nIIAAAqkFfB84Uy/x/6ZQD+YdYsG6guywgFoBbp26dU2fPn2qy4zkMnhXmRmF0RpL5MEHH0y4Ga+99prRoKUK3RW+xzd3QmHWrFlGA67+9ddf8ZN4+V0lcVztcy1n5syZofN166u68x9//LGdRuY6iaAr31wpmvgnqya7ygBtsMEGRq8RzX/y5Ml2kFkNfKorA8LaDTfcYP75z3+uUHP+8ssvt6V6Hn74YXsCPex5YfdpuVqWmsrNfP/992GTcR8CCCCAAAIIIIAAAggggEAeBHznByvFZpjWN2bfK5DIzC0n0ePB+3V5t2q5qm244Yb2C7F6EKoubLAtWLCgxqX1+mKu52jAuw8//DA4ub2tXugbbbSR0XMnTJiwwuPt27e3PfG++eYbWyN3q622Mptssonteffll1/a6VU2IErLJHhv2rSp2Xzzzc16661nQ5IffvjB1t2dOHFilEXWmIYa7zVIuAMBBMpAwB1P8vk3TvXUX48F2CrJct1115mnn366hqRKybz//vu2rIx7MJfBu1tGsp/qOa4BQlUObeDAgbY2ffz0Os654P64447L2YDgqjF/8sknGwX8YYORu/XSiQSV9Tn22GPtMVD3P/744zZQP/PMM2scu/V5QVcVHHXUUSvU1Xfz00/tlwsvvNAe+4P36/aVV15pTzjcGhu49ZH/DdyqaY844gijQVZ1ZUHUJmdd6VA3dgJGnwMU3NMQQAABBBBAAAEEEEAAAQQKI+A7P1gpNsOSD951ubfqzqZqYXXf99xzT/vF/quvvjJhA6KpV5u+/CvU7tWr1wqLUC9F1WZVr0DtmA4dOqzwuAaBU884BfOpWrrBuy7zV81ghSTxTb3/1EtwaWzwvHRaPkOpdNaLaRFAAIFsBHwfOKOsi8rEaMBNtWAgnOq5hQ7edUy85ppr7GpqXT7//PMaq6zgevTo0XacksGDB1eH8DUmzPIOV/9cpWRUkz5R0zFY9fIVfLvjmE4M6ASBSuqotE6wuR77uu/VV1+1JxrU012Ds+sKBZ1M0KCtOgERf9zXcy699FI7CG2wFE/37t3tfs7Ew5UA0oCwierYa7k0BBBAAAEEEEAAAQQQQACB3Ar4zg9Wis2w5IN39Tx3A5Xqi/a+++5r5syZY/SlPdgWL15c4wu4j+Bd81UQocvFNXhe48aN7SXnbdq0MYsWLbI969SjPllLJ3jXgHdHH320vbxfoYEGllOPfF0ur3qxDRo0MG+88Ya9DD7ZMuMfc4FF/P38jgACCJSygO8DZxQLlTC54oorbK32HXfcMWHZkvh5FTJ4V/CsGuUqR6MTuL17945fverfNbCojnHqWT5gwIDq+33e0ECluurs3nvvNXfddVfCWesEtHqO63jryt64+3R8/vPPP6ufq+k0kKmudlOgrxPo7jluIvWEV9C/cOFCewWd6u0Hm473+qeT264cTdh9wecku61BYbt27WrUAaBbt27JJuUxBBBAAAEEEEAAAQQQQACBHAr4zg/KIngPenfu3Nmce+65Jqx3e3A6d9tH8K55qWejvsS7pi/9GmBt7bXXtoH8iBEj3EOhP6MG7wr1Ne2qq65qbr/9dtsjLzjD1q1bm5tuuskGCeqVF6W3vXs+wbuT4CcCCJSTgO8DZxQb9ZrWsUhXPu2+++5RnmKnKVTwvsoqq9hji8rfKHBW7/Fffvkl4XqrZ7emHTVqVOjVYgmfmMYDY8aMscc6HUt1QiBfLTjA7AknnGBrvudy2bp67ayzzjKzZ882e+21Vy4XxbwRQAABBBBAAAEEEEAAAQSSCPjODwjePZSaUR131ZEN9qrTPnQ909X7XuVqkrWowbu+oKvWrS7/79evX+gs+/btazQo3UsvvWRUhidqI3iPKsV0CCBQSgK+D5xRtl2DeurKJJUpU2mTqK1QwbsbHFS9vy+66CLz1ltvJV1lDRa7xx572PrpOv75bqqRr3I2aioDp4A/X009/1V3XU2121NZZLtervSNes936tSpRg/8bOfP8xFAAAEEEEAAAQQQQAABBKIJ+M4PCN49BO9jx461PQXjd6Euw1c4oaYav0uWLImfpPr3qMG7BnXbeOONzSeffFI9GOxKK61UPR/daNeune2J+MUXX9hSBys8mOQXgvckODyEAAIlK+D7wBkFwg3Aqb/VGiA0aitE8H766aebU045xa7iLbEBQ1VGJlW7+OKLzWGHHWavqlKZFN8t2OtcVw6MHz/e9yJsHXcdT3WiukmTJrZMm8aLadGihdlss83s8vIRvO+2226mf//+dnm6OkJXSdAQQAABBBBAAAEEEEAAAQTyL+A7PyB49xC8v/DCC6GDyzVt2tSWg9HLRL0fVf4mUYsavN9zzz2mUaNGiWazwv1RetoHn0DwHtTgNgIIlIuA7wNnFBfXI/yjjz4yp512WpSn2GnyHby7euZauI4vGugzSlMNdD033R79UeatadZbb73q8jLqUT9hwoSoT005neqxq1f/fvvtVz0+TKInaTrX+z3RNNne36VLF1siTvPRFW2zZs3KdpY8HwEEEEAAAQQQQAABBBBAIAMB3/kBwbuH4P3JJ580TzzxRI3dqUFO3QCvulReA6clalGCd/VsV09E1eJV2P/xxx8nmp29f9myZbYkTdKJAg8SvAcwuIkAAmUj4PvAGQVGPaVVJ/3rr7+2AXWU52iafAbv++yzjy1ZpmOLBhy99dZbo66mfZ4GMv/vf/9b3Vs+8pMjTLj66qsbDR6u5jP8rl27tj25oF7uGjRVY7Po6rAZM2YYDYKufyq34wZz9bnsRJvtBuLVclVqxg3Ymmh67kcAAQQQQAABBBBAAAEEEMiNgO/8gOA9RfCu3meqq65efb169Vphr/bp08dsscUWNhxQT8H4pkvlddm+mgZOS9aLLUrwrvm46RSSjBw5Und5awTv3iiZEQIIFJGA7wNnlE1TeRmN7TFz5kyjgDtqy1fwvuOOO9pe1lVVVbZnuQYwTacppN9hhx1sb3CF076bTgaMGzfO9kjX1QPPPPOMl0Vsv/325rbbbrPzuuqqq8xzzz1XY74qO/Pyyy/b+/NRauaYY44x5513npk7d65R2RkaAggggAACCCCAAAIIIIBAYQR85wdlF7wrCNAX2J9++sn+TLWbOnfubFQ/dvr06aZnz541JtfgeBokNVnwrp7n1113XY3n/uMf/7CDwmnQ1W7dutUYfDX4hBtuuMFo5z744IO2N3vwseBt1dXt2LGjeeWVV6p70wcfz+Y2wXs2ejwXAQSKVcD3gTPKdh588MHm0ksvNUuXLrUBdZTnaJp8BO/t27c3gwcPtjXOdQJXwbZ6W6fTdDWXTjzriq/rr78+nadGnlYDhK+55pp2XXVs9NF0nNfxWCfC1dM8rHe5Bo1147Pko8f72WefbU444QTz3XffmcMPP9zHZjIPBBBAAAEEEEAAAQQQQACBDAR85wdlF7xroDQNardo0SL7RTZVmKDLzfv27WsHPj3ppJOMyrME280332zWXXfdpMG7vrhrcDpdoh5sum/XXXe1pQYUwCRrF1xwgR0Q9b333jMDBgxIOKnrgb9gwQJzzjnnGP301QjefUkyHwQQKCYB3wfOKNsWrNutk7fJxvgIzi/XwftGG21ky6jUr1/fKNju169f0pPCwXUL3n799ddNw4YN06oLH3x+lNuPxq7sahNb3+eff94e16M8J9U0GkRWx2YNYLpn7Io3nRgPtlVXXdX2iO/QoYO9Ox/B+0033WT0ekl3PIDgenMbAQQQQAABBBBAAAEEEEAgewHf+UHZBe9rrLGGufPOO40uU9cgca+99lpSdQ1UqulVN/3hhx82zz77bPX0BxxwgNEl4GrJerzr8bFjx5p//etf1V/idQJAYbu+xA8cONCMHz9ekyVsCgBUmmDhwoXmjjvuMP/5z39CeyBqPVUSoFWrVuaDDz6w086bN2+F+a611lpGPfY0j8mTJ6/wWLJfCN6T6fAYAgiUqoDvA2cUh2bNmlVfvXTJJZcYBdVRWqrgXaVPFJ7rRK8GOE2n6bihnuo6TqophFad80RNofTnn39e42GVUXOlX9SDfMyYMTWmadu2bXV5No1NkskApRob5aCDDjLffvutOfLII2ssI5M7Ntlkk+rB0FVmRsd9zV/H1jZt2hj5brjhhqZu3bp29tkE7/oMoV71ajrBn+jki8Zs0esl3Tr7dsb8hwACCCCAAAIIIIAAAggg4E3Ad35QdsG7pHXZ9s4772zRVV93zpw5NhDXpeUKx+Obeo7vtNNO9u6JEyfaQdZat25tmjdvbgdeU4idLHjX4HkbbLCBLVczadIk07hxY7P55pvby/j1u3oUpup5rzq76vWmQENNvfHUa19NAX6wZ7vCAYUBOmmg+zUw3M8//2w0GF2LFi3MeuutZ0889O/f3/agszOJ8B/BewQkJkEAgZIT8H3gjAqgUFcBtMqkqLRLlJYqeHch7RtvvGFUeiydppPRKjMTtS2LlcnpFCvfFt9cKZYlS5bYq7r0M76pl7/GQVHr2rWr+eabb+InSfm7jsu6AkwnB3bZZZfqY2LKJyaZYOWVVzaq7a6T3a7pc4KuAKhTp45dhk5o6AS4WjY13rUcXaWm47nMwj4H6POCSsepqSf+hx9+aG/zHwIIIIAAAggggAACCCCAQP4FfOcHZRm816pVy37ZVb131Ydt0KCB3VPqbdajR48ae61evXq2HvyWW25Z/Zi+iKsnfNOmTe0AecmC9yeeeMKG+xqEdbXVVrPz0Bfs0aNH21738eVrqhcSd0M97NTDfrPNNjPqta5e+2rqCR9fxkbbpNI42267rR18Ljir2bNn297u6pH466+/Bh9KepvgPSkPDyKAQIkK+D5wRmU49dRTzWmnnWY0DohuR2nJgncFwzquqGlckaeffjrKLKunGTZsmGnXrl3176luJAreNdC4eqC/8847CXvda6wVHc/SHVw2uE46nuqqNV05duaZZ5oJEyYEH87qtnr7qze9jrWuKfTWgOjTpk2r7qGfTfD+0EMPGV39NmrUKDvei1tO8KdOKOgqNl25pnA+2RUIwedxGwEEEEAAAQQQQAABBBBAwL+A7/ygLIP3TNl1qbd6nGug1RkzZqScjXrzaXA5Be8aYE6Xqqu3ucIC9e5bvHhxynlkO4GWufbaa9ve+er9rtA9yrqHLZfgPUyF+xBAoNQFfB84o3oo5FbYrZItKjmS6d9mtzw3P/2uMiYaRDzfTT3G1eteJ7U1AKkrORO/HiqxpsHLVc5FPb8zbQrCd9xxR3uSIWwQ80zn656n7dCxX8f9uXPnuru9/HzrrbeMTuxr3BnVqQ9rMlTgrl7v7gqBsOm4DwEEEEAAAQQQQAABBBBAIPcCvvMDgvcs9ll88J7FrIriqQTvRbEbWAkEEPAs4PvAGXX1dNWSej0rML81FiA/Eqt1nk1zJV6+//57c9hhh2Uzq4yfu9VWW9kyLAqpDz300IRhtU5Ga2By1WlXj+9Mm8J7hfha3l577WU0mHkpNAX6GrxWTeVmVOouvukKBtnoZP0ZZ5xhx22Jn4bfEUAAAQQQQAABBBBAAAEE8ifgOz8geM9i3xG8Z4HHUxFAAIE8Cfg+cKaz2v/4xz/Mvffea7768ktzdKz0Slid76jzc6VrdJXVzTffHPVpXqfTIKH77befLY8yfPjw0HlrzBKVoVHveNVSV43zbJrGZtluu+3s2CaZDNKazbIzfW7Hjh1tuTqNAXPUUUeFzkZXQVxxxRV24F0NwEtDAAEEEEAAAQQQQAABBBAorIDv/IDgPYv9SfCeBR5PRQABBPIk4PvAme5qu0E2FVq/+OKL6T69enpXlkRjlYwdO7b6/nzd0MDeGjBWpdSOPfbYhPXINTj5iBEjjAYXP+6447JePZVwe+yxx2ztdYXYpdDr/ZBDDjG9e/e2XoMGDaphoLr1uipAg6Lr6gUNkE5DAAEEEEAAAQQQQAABBBAorIDv/KBog/dWrVrVGDS0sPQ1l15OwbuCjKlTp9bcSO5BAAEESlzA94EzXQ4N0v3AAw/YcikaPDXqgNvxy1Hovf7665tdd93VLFq0KP7hnP9+ww03mA4dOpiLL77YaCDSRG2nnXYyAwYMMEOHDjVDhgxJNFla959zzjnmwAMPNIMHDzYjR45M67mFmLhnz56mW7duRuv93nvv1VgFPaYB2R+NlR+SEw0BBBBAAAEEEEAAAQQQQKDwAr7zg6IN3ps0aWIaNmxYePEka6BB02rVqmUDkCVLliSZsvgfmjdvnh2YtfjXlDVEAAEE0hPwfeBMb+n+ptZg2mp//PGHv5nmYE6qba8yMxpUNpvSOjlYtbzNUtsvh2LfV3kDYUEIIIAAAggggAACCCCAQAkI+M4PijZ4r127tmnZsmUJ7JLyWMXp06ebpUuXlsfGsBUIIIBAQMD3gTMwa24igAACCCCAAAIIIIAAAggggECZCPjOD4o2eNf+aty4sWnUqFGZ7Lri3Yy5c+eaOXPmFO8KsmYIIIBAFgK+D5xZrApPRQABBBBAAAEEEEAAAQQQQACBIhXwnR8UdfCufdCsWTOjki603AgsWLDAzJgxIzczZ64IIIBAEQj4PnAWwSaxCggggAACCCCAAAIIIIAAAggg4FnAd35Q9MG7/Oj57vlV9L/Z0dM9N67MFQEEikvA94GzuLaOtUEAAQQQQAABBBBAAAEEEEAAAR8CvvODkgjeBaea7w0aNDB169Y1VVVVPiwrch7Lly83CxcuNPPnz6eme0W+AthoBCpPwPeBs/IE2WIEEEAAAQQQQAABBBBAAAEEyl/Ad35QMsF7+e9athABBBBAIBcCvg+cuVhH5okAAggggAACCCCAAAIIIIAAAoUV8J0fELwXdn+ydAQQQACBHAv4PnDmeHWZPQIIIIAAAggggAACCCCAAAIIFEDAd35A8F6AncgiEUAAAQTyJ+D7wJm/NWdJCCCAAAIIIIAAAggggAACCCCQLwHf+QHBe772HMtBAAEEECiIgO8DZ0E2goUigAACCCCAAAIIIIAAAggggEBOBXznBwTvOd1dzBwBBBBAoNACvg+chd4elo8AAggggAACCCCAAAIIIIAAAv4FfOcHBO/+9xFzRAABBBAoIgHfB84i2jRWBQEEEEAAAQQQQAABBBBAAAEEPAn4zg8I3j3tGGaDAAIIIFCcAr4PnMW5lawVAggggAACCCCAAAIIIIAAAghkI+A7PyB4z2Zv8FwEEEAAgaIX8H3gLPoNZgURQAABBBBAAAEEEEAAAQQQQCBtAd/5AcF72ruAJyCAAAIIlJKA7wNnKW0764oAAggggAACCCCAAAIIIIAAAtEEfOcHBO/R3JkKAQQQQKBEBXwfOEuUgdVGAAEEEEAAAQQQQAABBBBAAIEkAr7zA4L3JNg8hAACCCBQ+gK+D5ylL8IWIIAAAgidZOBFAABAAElEQVQggAACCCCAAAIIIIBAvIDv/CDj4D1+xfgdAQQQQAABBBBAAAEEEEAAAQQQQAABBBBAAIFSFpgyZYqX1Sd498LITBBAAAEEEEAAAQQQQAABBBBAAAEEEEAAAQRKXaDgwbuvFSj1HcH6I4AAAggUt4DvS8WKe2tZOwQQQAABBBBAAAEEEEAAAQQQyETAd36QcY93gvdMdh/PQQABBBDIt4DvA2e+15/lIYAAAggggAACCCCAAAIIIIBA7gV85wcE77nfZywBAQQQQKCAAr4PnAXcFBaNAAIIIIAAAggggAACCCCAAAI5EvCdHxC852hHMVsEEEAAgeIQ8H3gLI6tYi0QQAABBBBAAAEEEEAAAQQQQMCngO/8gODd595hXggggAACRSfg+8BZdBvICiGAAAIIIIAAAggggAACCCCAQNYCvvMDgvesdwkzQAABBBAoZgHfB85i3lbWDQEEEEAAAQQQQAABBBBAAAEEMhPwnR8QvGe2H3gWAggggECJCPg+cJbIZrOaCCCAAAIIIIAAAggggAACCCCQhoDv/IDgPQ18JkUAAQQQKD0B3wfO0hNgjRFAAAEEEEAAAQQQQAABBBBAIJWA7/yA4D2VOI8jgAACCJS0gO8DZ0ljsPIIIIAAAggggAACCCCAAAIIIBAq4Ds/IHgPZeZOBBBAAIFyEfB94CwXF7YDAQQQQAABBBBAAAEEEEAAAQT+FvCdHxC8/23LLQQQQACBMhTwfeAsQyI2CQEEEEAAAQQQQAABBBBAAIGKF/CdHxC8V/xLCgAEEECgvAV8HzjLW4utQwABBBBAAAEEEEAAAQQQQKAyBXznBwTvlfk6YqsRQACBihHwfeCsGDg2FAEEEEAAAQQQQAABBBBAAIEKEvCdHxC8V9CLh01FAAEEKlHA94GzEg3ZZgQQQAABBBBAAAEEEEAAAQTKXcB3flAywXvt2rVNgwYNTN26dU1VVVW57+ek27d8+XKzcOFCM3/+fLN06dKk0/IgAgggUOkCvg+cle7J9iOAAAIIIIAAAggggAACCCBQjgK+84OSCN4bN25sGjVqVI77M+ttmjt3rpkzZ07W82EGCCCAQLkK+D5wlqsT24UAAggggAACCCCAAAIIIIBAJQv4zg+KPnhv1qyZqVevXiXv85TbvmDBAjNjxoyU0zEBAgggUIkCvg+clWjINiOAAAIIIIAAAggggAACCCBQ7gK+84OiDt7p6R795UzP9+hWTIkAApUl4PvAWVl6bC0CCCCAAAIIIIAAAggggAAClSHgOz8o2uBdNd1btmxZGXvV01ZOnz6dmu+eLJkNAgiUj4DvA2f5yLAlCCCAAAIIIIAAAggggAACCCDgBHznB0UbvDdp0sQ0bNjQbTc/IwjMmzfPzJ49O8KUTIIAAghUjoDvA2flyLGlCCCAAAIIIIAAAggggAACCFSOgO/8oGiD91atWpmqqqrK2bMetnT58uVm6tSpHubELBBAAIHyEfB94CwfGbYEAQQQQAABBBBAAAEEEEAAAQScgO/8oGiDd7ehbsP5GU1gypQp0SZkKgQQQKBCBNzxpFB/H9dbbz3ToUMHs84665jJkyebV155pULk2cx0BOrWrWvWWGMN8+OPP5q//vornacybZzAlltuafbaay/z559/mhtvvDHuUX5F4P8EVlllFfPHH3/kheOcc84xS5YsMdOmTTNjxowx8+fPz8tyWQgCCCCAAAIIIIBAegK+8wOC9/T8i37qQgVLRQ/DCiKAQMUK+D5wpgOpsOWYY44xCnjUnn76aXPddddVz6Jbt26mU6dONoTp3bu3vf+ggw4yu+22m/kjdhXTeT16VE/LjdQC+fZs1KiRufbaa+2KPfHEE+add94xGqNm4MCB9r5nn33WjBo1KuGK77LLLnZft23b1uhKv5VXXtn8/vvv5osvvjCffvqpeeCBB8zChQsTPp8HwgX0HrrsssuMrgTcfvvtwydKce8VV1xhmjVrZj788ENz//3326kvvPBC07p1azNp0iRz++23p5hDtIfz/ZqNtla5myrb90y2a7bvvvuajh07mo033tjo2DBr1iz7ftN7bvjw4Wbu3LkJF3HooYcavWejNP2tf/3116snffnll43KaKr99ttvpl+/fmbs2LHVj3MDAQQQQAABBBBAoDgEfOcHFRG8N2/e3OhLmL6A3XPPPSn3pD6Qb7rppub77783b7/9dsrpi2kCgvdi2husCwIIFIOA7wNn1G1SoD5o0CA7+fjx4+3x5LPPPrMhj5vHBRdcYLp27Wp+/vlns//++9u7Tz/9dHPKKafYADZqyOPmV+k/8+2psWhcuHbVVVeZ5557zp5k0f5Wu+WWW8yjjz5aY7foRMy5555rjj766BqPBe/Q5xCFvcV4bD/hhBPM6quvbvSafu2114KrXfDbPoJ37bc2bdqYF154wYak2ih9hlRven027NWrl5ftzPdr1stKZzGTTN8zWSzSPnXVVVc1ffv2NbvvvnvCWak3uvbHt99+GzrN1Vdfba+kCH0w7s5bb73VPPLII9X3dunSxZ60Ofjgg03Lli1t+K4gX+Mz0RBAAAEEEEAAAQSKR8B3flARwXu7du2MvhAvW7Ys5Zdc7Wp9ET7wwAPNu+++a78053L368u3ek+p6Qt2tpe8FuOX81z6MW8EEEAglYDvA2eq5bnHb7jhBvPPf/7T9phVmB7W1CP++OOPt3//DzvsMDuJAs2zzz7bDpatchm06AL59lTvdtdrVT2sXe/2cePGmVq1apn+/fubp556qsYGKJTbYYcd7P3q2f7kk0+ab775xl75oNfr1ltvbY488kgb4qvH+4knnpgwDKwx8zzdoe1SL/1nnnmmutd/nhadcjE+gvehQ4eazTbbzO4/7Ue1f/3rX2a77baz+1n720fL92vWxzpnM49M3zPZLFNXkmh/brLJJraM07///W+j9+h3331nr2rYfPPNzWmnnWZWW201s2DBguqTofHL1FUO22yzjXnzzTfN559/Hv/wCr+///77ZuLEiSvcp1/U633kyJHGnQh48cUXa0zDHQgggAACCCCAAAKFE/CdHxC8h+zLfAbvjRs3NnfeeaddC33o1+Wn2TSC92z0eC4CCJSjgO8DZ1SjR2O9HdtstJG5Ndbr+ZGQXs+aj/7un3rqqbb2u0rSqKn0RM+ePc306dPt1Vr2Tv6LJFAIz//85z9mpZVWsj1lR48ebddTwVz9+vVtD9v4YC14JYQC95tuuin0pLvCQH0+UFD5+OOPmwEDBkQyyNdE5R68y15XQKrnu65cULv55pvNzjvvbFRCSL2ffbRCvGZ9rHc280j3PZPNsvTcrbbaytxxxx12Nvrbqhrr8U1XuqqkkEJ6vScVzse3xx57zGy44Yb2aodsroi9++67Tfv27e0VFLpNQwABBBBAAAEEECgeAd/5AcF7yL5dc8017QBnqrP6008/hUzh7y6Cd3+WzAkBBBAIE/B94AxbRth9ClybNm1q+vTpk3BA1WOPPdZ0797dfPLJJ+bkk0+2s1EpgksvvdT2cFavZ1p0gUJ4qq67esqq5/J7771nV/all14y+ixxySWXVJeicVvRI1a3Xyf4NYDqfvvtZ2bMmOEeqvFTz1c5Cp2U33vvvW3JvBoTFeiOcg/eB8WuSugUuypBPaWHDBlilVXPf4899rC1wH0N2lqI12yBXjLVi033PVP9xAxvqF6/Snl9/PHH9kRnotmoNMxGsZOl6g1/3nnn1Zjs1VdfteWVdJVSqh7vNZ4cuEPjfKjkjU68XX/99YFHuIkAAggggAACCCBQaAHf+QHBe4H3KMF7gXcAi0cAgbIX8H3gjArmgvdgCZL45x5xxBG2hrfKEpx11ln24X322cdceeWVdgDH4447boWnqFSCaoOrXXzxxbZ3poJZ9Z5Uj81ff/3VlixRz00NAJmoKShW+KtSGuuvv75p0KCB+eqrr2z9+VdeeSU0VFLplNtuu83O8t5777UnC7T+2267rVHvbNWpV9kV1cFesmSJnU6lSNSjV+u2xhpr2J79OsmQatDQtdZayxx11FG2rIfGaVm6dKn54YcfjExVc3vx4sWhm5auZ+hM0rxT9c01YKSuXFCwp6byK6rjrJDdlaJxs9Wgihrgcc6cOWbPPfd0d4f+VA111RlXU0masO1WoKjyJ+qJu/baa1snDRSpkwBhtdfj9+NHH31kdLJH5W30OlLJO109p17dei0Em7ZJJ5LUtM9VLmPmzJm2VJLu+/HHH0N7gmtavU71UwOWLlq0yE6rIFN18ZPVua6qqjLar//4xz+MSgfWq1fPvsb1en344Yft607LDrb4UjN6DamEYIcOHaynyvrodajX09dffx18avVtVypKPd/vu+8+e//ll19uDjjgALtcN35D9RMyvJHpazaT97BbRZU51ADO2u/6+6j9KBONV6BBgnUFh8rqqGnbJ0yY4J5a/VM9w9X7/5BDDrF/Q/Qe0Emk//73v0Y9w7/88svqaeNvpPueiX9+ur9rn+kKFO1zjUmQqOlkisbVCAvoZaZAXtut92+yE2aJ5u/udydwCN6dCD8RQAABBBBAAIHiEfCdH5RV8K4vk+7Lp76Y6Yunvizoi2iqGu+69FtfNIJt1qxZNiQI3pfotj6I6wvruuuua2uearpffvnF6HLa+PIvW2yxhf3iqWm0ngo/1IYNG2a/jNpf/vefLltX4BC1xS8r6vOYDgEEEChXAd8HzqhOUYJ3BUIK89QD9Pzzz7ezVl14hX4KRBVaB1uwTInCxWuuucaG58FpdFvhqcolKNiJbwo/dUxcZ5114h+yv+uYo3BV5VKCLb42swJ3rX98UyCqOvVaV/Xs1LE5vinYUk9/BbDxTScCFPYpKAtrH3zwge1drgHT41u6nnq+AmHVUJe3QvF0x1p5/vnnjU4UqOeyPneoqTTMBhtsYM4888waoaULWjWdygrJK5OmHvVaX+2HRO2hhx4ygwcPtr3r3TTx+1GBttYprL388sv29ekeU7ivUDVR06CU8VdpKKTUeiZqqrOtwYTnzp1bYxKF9Kqvrs9NYW3+/Pn2NRZ/giEYvOtKAfVaD3u9K/DX+Ath4btOfukkWLBUlAa6lZVOLvkqEZLJazbT97Az1BU1Ct3Dmk7Y6eSeM0104lD3yzms6T2kv2cKqsNauu8ZzUPrvOOOO9rXnz4v+276HK8xGnQCQX9/XBlItxy933Qly59//mn/tqX7d8LNRz8J3oMa3EYAAQQQQAABBIpLwHd+UDbBuz4oX3TRRdU9w9xuU08s1efUJaPJBlfV5aXx4UDUwVXVA0wD4ekLaVhTjzHXW0qP9+rVyw7OFDZt/H0KXdKp+07wHi/I7wggUOkCvg+cUT2jBO8qW6EQRj1/FSypuXBdxyCF08HmHtN9Csg0UJ96qH744Ye2DIlCVAWJ6sGuQTk1YKuOg66p97B6Yysonj17tj0+qie1esqvt956NjBX73SFSyqn4IJkPT8Y2GrQQJ1ofvDBB8348eNtb3YFrG4w2DfeeMOeCJ8+bZp5IlYrWcto0aKF7R3buXNnuzoKhV2vWrd+6hWv3vCadlrsueoNrRPY6vmtQQ0PP/xwo23Q/Tp5EN/S9dQ2yb5u3bp2VonqP8cvJ/i7Tm7IQoGsOwbLRVcnnHTSSXbbg9OrB7s+l6hp3+izS7JeuMHnBm+78E4BoD7D6MSBBmlXWK1Q1fWmV31ytzw9P7gf9RrSZxc9rhMaumpBJwz0GtLrQe2CCy4wrna9elm3bdvW3q+TKlqWThppe9XUI3/y5Mn2tv7bfvvtzcCBA+0+0zaqR7U6ROh56iihUNz1RNYVH+5KCTcDfXZS6K7PQaqvritDVKJHtdd1RYQe02c7vfb0GnbNBe96HevEhnp0qzSO3id6/ei1pLBfFrryQNPHnwRy4bRKgbgTWHo/6gSLTma4bXbLzPRnuq/ZbN7DWkd19tCVGGp6zei9qn3funVrexJHJxt0tYR7n4YF77oSx115o79zuqpDV6RsueWW9mTFxhtvbP/+qHxW2EmNdN8z+rumq2zUdMJNf2fCTtTYCTL4T6G79q1s9FrTiUONsRFsKkGj95m7UkVXX3Tt2tV+79DfD3W2Ue14/W1KtW7uvSsHSs0ElbmNAAIIIIAAAggUXsB3flA2wbt6ROnLoj7s6gukvgDoi7A+FOsDsb50JQved4jV8dQHbzUFG/pSFyV41+XL+jKo0F5foEeOHGm/+GpeWr6+UOnDeLAWqL7kKlxQ0xdO9YhTUw3RBQsW2NvuP/UK1HpHbe5Lf9TpmQ4BBBAodwHfB86oXgphdOxRgKdwN6ypfIGmUZjkrm5y9ylQjQ8ig8G7AiKVN/ku1mM42BR+qUeu2u23326DbPe4wlgFaVqWgqb4OsV16tQxI0aMsMFofLgYDGyXxZ5/dqymuYK7YHOBku5T72cFuMGTxwoNtW4qcRNfzkFXnalEjh7T8VThV3w5B9VE79u3r12kjvsKU4PN2UX11HP1mUFhuAJdBdbxgVtw/mG3FUbrmK/gVvNQc/cpiFb4G990Ul37zjWFk+phrABUYXj8fnfTuZ86MaH11nJ18mL48OHuoeqfuuKhS5cuNepVB/ej1k2vB9e72T1Zn030eaZhw4b2xIoLWd3j+pmqxrvKDCmo1GtKrzMF3fGfZ/TZS8G8tiO+d73CefWMjh+41q2DSvWpJ7s+T6n3ucrOuOaCd/2u/all6yrGYNN7QVeMqOl1qlA+2PS5Tv/0XnFXV4TdF3xOJrfTfc1m8x7We0snM+StE1r6GxDfc9udCHDbEh+8a5/pZI72i9zd3xo3vT5zKyTXe0oncvSecn5uGvf+iPqe0b7Wa0H+KmekeYa9r9z8U/2Ugwz0t1cBunrSqwyRTkaqo07w5JGbl/vbqxI6OnmpE2ZhTdus93eyMaL0utN+VA97+dIQQAABBBBAAAEEikfAd35QFsG7esLog6s+hKs3uXrJuaYyM663VbLg3U2vn+rxolqgUYJ3BSoKOVQbUx+k44NzfaFS70HVlQxr1HgPU+E+BBBAwJ+A7wNnlDVzvZoVxKoGt07A+mgu/NG84oPx4PxVDkQneRP1DA9OG3/bldhQL1bXM1bTBANbBbW9e/eOf6pxZXL0gE5Kqzd+fFPgrGBKoVuXWDDsArRgr9awINTNx4X76oWt3tjZNh2H1YNWwWuwh3+28031fJW3cb2ug9MqpFSdbPlr/wVPXASnS3XblTDRlQ/aLy5gDe7HsKsq3Hz1eUplYxR06jNRfEsVvJ9xxhl2wGDtZ12pkOg9oEFpdXWFtls94N32KuC9NTbAqZrWQydyorZg8K5STgr145uCV1daRMvRSYJyaYnew7oCQ509VGJHtdkT9cx2+14e8cG7TubpigGdJNI+Dmu6WsKdDDrmmGNCg+yw5yW7T51rtouVVXo19rcn/oRcsueFPeYGd3WP6T2izi96TcefHHLTuJN+Oimm95BOJumKVl1lohNhW221la15r5OL+h6iv3HBq43cfPRT7wcF95pOVyW592ZwGm4jgAACCCCAAAIIFEbAd35QFsG7vnirxql63qkHXHzTpeO63Nl38K5gRQGAmnrgqZdauo3gPV0xpkcAAQTSE/B94Ey2dIXdqlGuQFXLVYkVhV2+WjB4D6sf7pbjBglMFo65aeN/6phpa4/HenZ2+98YJJomGNgOGDDA1jGPf656j7r6ywpT43vUa/pgT2OFq66nvwtgdazeaaedavSSdctSiRHVj1aopbIYpdzUs3z33Xc3CvVUtzt+rBmFfDqBoR626TYNfKnnqil4Vz10teB+VM/ku+66y94f/5+uGNTnK50YUVkY15vfTZcqeNfrQK8HdTxQyZFELXjCJRjyqie7gnE1nRTp169f0l7EwfkHg3cFzFOnTg0+XH1b5Y5UFiWTE1TVMynCG4new3o96HWR7ISLNkefmd1AysF9ot7sKhekcDmst3uQQtPpigl9Ts7k9Rucl+/bulrE9brXlRXqSa+mskTqrBM2mGywvI6uMtEVFu6koVs/DcyqEkzyUWklnVwLa6oXr0GidfJHpX70XtIVq9meUAhbFvchgAACCCCAAAIIpCfgOz8oi+Bdl1OrNqW+5OnLU3zTl1r1sPMdvO+666728mRdmurKxcQvO9XvBO+phHgcAQQQyE7A94Ez2dqoZ63qruu48PTTT9t/PsOUYPCu0DlRj8orrrjC9rSPL+cSXHddEaawV71TFZApBFZteAVzal8lCd6DYVxwnsHgXcGtrgaLb8FSFsHgXYGVjtdqrqZ2/HP1u0pCuH2qEF81l8uhaR+oBIa2T1cC6HONmgJvnegIu3pAj7vnqQa1auFrH2pfKmx3LVHwrkF01Ws3rAUHRVXnhviQMVXwrvJKWh+Frq6TQthytK5uIF8FmgrDXXMBsn6Xg64EUJ13dbRQGJ+op7AL3vW4Thokaq73tgxkUWot3fewG3dC9el1xUyipv3mymMF3+t63/07NmaDmqtpnmgeGrRYrdjrmCv81glT9VB3f/s0fkT89wm9h3RCQidxgq/R+O3XGAAq4aOWrLe/3usaF2K32HeJWrEe9Dpe6G8gDQEEEEAAAQQQQKCwAu67pq9S3ivFZvh/BUkjbpfvFUi0WLecRI8H71eNz3r16tkvEW4AsODjW2+9tbnwwgu9B+/6cK0SAurp7mrOBpcb5TbBexQlpkEAAQQyF3DHE18HzmRr4oJ3lQlRT+JMroRKNv9g8J4sdE4WvKs8moIljVGSrKn3p3q+uxbsKR0M49zj+plN8H7nnXfa8VWC80t1O1mv/1TPLfbHdYJC5XwUTCt01sl+12td666eugq0tT9TNT1X5UXUouxHTZdN8K6e+xqgUz8HDRq0Qv11zTu+qWe7erirA4Xrae2m0WtQ5ThUMz7YNJjqSy+9ZJ8TX7/dBe8qX6OwNFEr1eA90/fwW2+9ZT8v33HHHXY8hUQuqn3+9ttvG5VLDL7XdVIo0RUSiealkyQKtUuhuXERVDZSV0pkclJPJzJdmZ3gwLzx2y9b9ZDXlT4tW7a0vd7DrtqNfx6/I4AAAggggAACCORWwHd+sFJshiUdvOtLnWrZqseKLqHVYFHxTT36VOPTd4/3s846y/ZKU+8rfVjPpBG8Z6LGcxBAAIHoAr4PnMmWrB6OKl2h3pEqN/Dss8+aq6++OtlT0nos2+BdYa7qP2vdVLtb4Zp6cKrW8++//27DWV0hpuXkO3hXiYfOnTtbD50sT9R03HdlT9Sj39UETzR9Kd+vqxq0v9Q06OO4cePsbb2mdaJCnyFUn1o191UDXUGhwnn90yDx7mq8fAfvWkkX8qqshwbjTNRU5kM1txVEaps0+GdY22KLLWxZQYXOCoD1GlZTnWx9HgsOZlnOwXs272F3cktlYC655JIwZnufrN1+CAbvwRNrKrWiKxASNfc+1ftT79NSaMHtu/jii20ZmEzW25XZkaHM45tObOiKEZ080wkkXV2gk7Xu/R0/Pb8jgAACCCCAAAII5E/Ad36wUmyGJR28i149d3Rpv+pN6stnfNOl7PrC6jt412W0GvBLvSj1AT2TRvCeiRrPQQABBKIL+D5wRlmygk71dlSNbpVP0QCTPlq2wfv9999vy8skG9RPvazV2zPfpWY0WPnBBx9sTwLstttuPriKbh4KmV3PbQXFqV4XKhujGtBq6p39wAMP2NuuHr5KqeizyPTp0+39wf+CJX0SlZoJhqrB5+p2Nj3e9fwRI0bYcjnqEHH22WfrrtCmEjluYFMNUj9y5MjQ6YJ3Nm3a1JbpOOGEE+zdeo6e61o5B+/ZvIdVAkVXa+q1J6P48kHO7+jY2A5uYOXga0S1yXWVgZo6uyQqf+TmUww/VYpJvdDVJk6cmLA8kR6vU6eOcVfOBt9vekyvU53sUYkdlRJL1FQHX+9ZnUhKNGiverprHA6d7NTfvHI+eZjIifsRQAABBBBAAIFiFfCdH5RF8K5L5tVLRb1HHn/88Rr7Tl8udKmy7+BdAYi+mOiLswbS0/zTbaqjqRMGaqeffrrt+ZLuPILT56OUQnB53EYAAQSKXcD3gTPK9ip0UQ9G/VSd6jFjxkR5WsppsgneFeLq5LSuENNVWq5Wc/xCVZN53XXXzXuP9+Cgqzpuh4XJ8etaar+rzIvKEWlfpKqzrW0LDjyqKyd0BYWaehu3bdvWBnyJTvy7ExmaPpc93jVIZL9+/bSYFZo7gaNQUSG+G0R3hYliv+jEget9ne5+V0141XD//vvvbTkaN2/NR4FxuZWayfY9rBMwN9xwg2UKK+ujB9q0aWM06K4CZLVg8K7fXW1/1YvPtMyi5pOvpl7lqteuv3v6zK6/y4marqa455577MPB95vuUIiujjy6OkODOydqwYFpNTixC/KD08tUr1E9pmloCCCAAAIIIIAAAsUj4Ds/KIvgXZf2H3DAAbYHj3q2xzf1KlFvF9/Bu3qrqxapvkjrC7S+fKbb9EVAPb0UzuiLpy4Vz6YRvGejx3MRQKAcBXwfOKMaacBGHSfig6uozw+bLpvgXb2t1RNztdVWSxi8B+ef71IzGqtFYZ4CPw2cqV7dYSe01WN37732MnNjNcs1TaIBNsP8wu6Ti8Jb9YbNpKZz2DyT3aegXDXLVXNdV83F1yd3z9XnAnUsUM91ldY5/PDDbcCsx3Wl31ZbbZUweG/RooXtHa+66Wq5CN5d+P/DDz/Y8NwuKPBf+/btqzsWKPjUtsS3ddZZxw5UqUD5s88+MyeeeGL1JCfEerMr6FQpDo1ZsHjx4urH3A31utaAmDqxpRNcrpVr8J7te1jlXxS8q8e1mj67qszJl7GBlPW3SoPoqmyPPpvqqgK1+L9fqteuclR63/Xq1Sv0pKLmpZN7dWJ/ax6ILUM1/LNt6qiiE1Hjx4+3VxKlM78hQ4YYjfc0YcIEO/Bp2N8VbbNeozoBGHYlibuCRI/pioCwgaPVY14ng7SeKt+19957h/4N09gMmp9OYlDXPZ09ybQIIIAAAggggEDuBXznB2URvOsD/uDBg+0loA899JB5/vnnq/fEXrEv5yeddJL93Xfwrpnqy/MRRxxhe73rg70GEwu2DTbYwH45TnY5rnrR6Euyau2qFmQ2IQLBe1Cf2wgggIAxvg+cUU0VIiu8ig+uoj4/bLpgMJ7J4KqDYsebTrEwU72Qr7vuOhti6aotBbQqiaPwUj2TFX7nO3jX9ir40zFRJR3Us1Qnpj/55BMbXqnMhU60H3XUUTYYTFYPPMwu0X0aLFI1w5fFtvuAAw9MGIQnen6696unuj6rKOhTqQmVtHjzzTery1coXN1www1tr1o3cKpO4vTp06d6UTr5oLIhKhWiDgAKNmfOnGlLZSjwVlCtEND1Ws5F8K5SSpqvmmq4qye/wsbgZ5iTTz7ZnHHGGXYa1XpXmZLJkyfbAWMVhOpKv/XXX99uuz6radwB13RiQScY1BQOa5BWlflQk91RXbuac849175W1PNa7zfX8hm8q+PH/vvvbxet9Qhug1sfnz+zeQ9rPXTiTVdaaiwK1zSYqE58qek1qX3hroiJ//ul96b2xTbbbGNPhmhsBoXhKl+j1672m/6O6O+uXg/aF5pnNk3rps4t+hn/dynKfFW6ygXcev3ppMDnn39u/67oBFfr1q3t+0knetR09eyAAQNWmLXqsmsdGjVqZLdHYy/ob5R7vauDj06qafv1vlSIn6hDjgvedXWR3kc0BBBAAAEEEEAAgeIR8J0flEXwrt3TNfYFTDVp1SZNmmR7hemDtL5Y6EO2vugmCt7PjX1xq1+/vn2u/lMIvtZaa9lgIj7IVu959yFb0+pLhi7n3nTTTfWr7QHz3Xff2S+FquOqL5TquafnJWpdunSxPYz0uHrA6YulLo9W05eDdL6wxK+vnQn/IYAAAhUs4PvAGZWyGIN3DZqooEzhkZqOi+px3bx5c/u7wlP1MFa4ne8a73YFYv/tt99+K5Sw0IkA9XZWrWbXFOCqvEmiGtVuulQ/dcXaW2+9ZY/lmvaiiy6yIXiq52X7uE4wqCa5evG6pmO9etzrM4gbOFSP6cS9gu3gZw+dKLk91uGgTazutJp6xCvwXXvtte0VdLp6TqVEXCmQXNR411UC6t0bbFquevEHm67mUzkZ1xTG6jOXAk81DQ6rXtT6rBbfdALBhdp6TNuok0YKOd1JBZXfUXgZ7MWcz+BdAat6Nmu93NUJ8dvh8/ds3sNuPdRhRQPv7hsbvLdW7D2gpveSgmSdyNFVDO+//769Pz54152yvzdWksW9/nSf/m7oPer2q17Pqu2vgDvbFjwJo/XUSUd5p9O0by6//HJ74kHP0+fsn3/+2eiEnk5GqOl9pBN6qqMf1nQs0XuxZcuW9mH9XdLVAvpdY02ppQrdNQ3BuxRoCCCAAAIIIIBAcQr4zg/KJnjX7tIXH13+qS/SavqSqnq248aNM+qZkih4V8+f4Jdf++QE/2n+wS93mkyX7qpnvXq/63LpYNOXl+HDh9foCR+cRrf1JXyf2BcgBf76Qq15qunLaDpfLgjeLRv/IYAAAtUCvg+c1TNOcaMYg3etsuq3K4DadJNNqkM39XhV2QmVD1H5Fo2LUqjgXeuokOy4446zJ831u2vq7Tp06FDz+uuvZx26u3kqgNSyFBDqdqJa5G56Xz9Ve1on7tVD3YXIbt4K7/T5QeG5q+vuHnM/1aNdz1cvXffZQ8/TVX+6Am+zzTazA2Bq+lwE75qvAlD1jlZHBwWuYcG77teVCvqMpBMDrmldx7/7rrknVk9cZWYSNa27SpsobHcnJLSPtCxdEaGTRfEtn8G7rl5QJw9ddaCQOh8t0/dw/Lqp84hOuulzs15v7rWvfaZe7GphwbvuV9Csz6j67K3XomsKo9XTW+9Td4WCeyzTn1ofnRDQlSkqz6JOKZk01a/XyQCNC+WCcs1n/vz59v2vHui6+iRZ02d0ndDSyQD1gg82BflaT12hkawRvCfT4TEEEEAAAQQQQKCwAr7zg7IK3rVr9OFcX0jc5ahLlizJ6x7TB3L1dFfTFw5fXzqibgTBe1QppkMAgUoR8H3gjOr29NNPG9WwVm9cBTrF1hRiqhyaehyrJ3GwR3WxrKtOiius1bpNmzbNlnXLxbopOFTJnUI0nWhXj9mNYr3Xtb1ff/21LacRdX30fH3uUAio8DTfn3tkps9e6u2sXs7xnROcqcrDqHexOhjoNafSJPoZten1qs93ahpMtVher7piQp851cEjWOow6nZlM12u3sP6m+lKzehqBb2uEjWF99qn6kWvz7wzZsywPccTTZ/N/T7fp3ot6u+fXodTp05Ne531mleQryte9Z7TPD799NNIJwRVqkdlw3TiSKW1aAgggAACCCCAAALFI+A7Pyi74L14dlVh1oTgvTDuLBUBBIpXwPeBM+qWqufj9ttvb5555hlbWiDq85gOAQRKQ0Dhrcoeqannd6KBcotlaxQUq7e1mnqku3WPXz83APD06dNtjfb4x/k9cwGdLNFVLBr/o1hPyma+dTwTAQQQQAABBBAofQHf+QHBe+m/JlbYAoL3FTj4BQEEECjY4KrHH3+8LduiHsAa50M9Y1XfWnWEaQggUPoCHTt2tDXBdZWCxkUoheZK42gw4VtjPa8/+ugjW7ZH666SQSoL5Orqq/zU4NhYArTsBdRDXlfvqDSTBuRVqSW9ZlQyiYYAAggggAACCCBQPAIE78WzL4pyTQjei3K3sFIIIFBAAd8HzqibohIMqpmuQbZdU/mZ6667zv3KTwQQKGGBQw45xPTu3du+z1U+pBSa6tH379+/eoBQrbNKpagntsJh1zTAqAYa5UShE8nup8YiCNaVf/TRR+1ArdnNlWcjgAACCCCAAAII+BbwnR8UbY931SvVlwBadIHly5fbGpPRn8GUCCCAQPkL+D5wpiOmQQs1KPfWW29tgy4N3EdN33QEmRaB4hXo2bOnHYhYAxK/9957xbuicWumWumnn3662W677WzdfJ0kVFNpmS+//NKWoEk1yGjcLPk1hcATTzxhp9BYFSo18/bbb6d4Bg8jgAACCCCAAAIIFELAd35QtMG7eoVooC5adIF58+aZ2bNnR38CUyKAAAIVIOD7wFkBZGwiAghEENCAsRrctlgGeo2wyjUmUS/35s2b2zJY8+fPr/E4dyCAAAIIIIAAAgggUEkCvvODog3e1UuwZcuWlbRvs95W9VRaGqvZSUMAAQQQ+FvA94Hz7zlzCwEEEEAAAQQQQAABBBBAAAEEykXAd35QtMG7dljjxo1No0aNymXf5XQ7NGDfnDlzcroMZo4AAgiUooDvA2cpGrDOCCCAAAIIIIAAAggggAACCCCQXMB3flDUwbsomjVrZurVq5dcpcIfXbBggZkxY0aFK7D5CCCAQLiA7wNn+FK4FwEEEEAAAQQQQAABBBBAAAEESlnAd35Q9MG7dhY93xO/ZOnpntiGRxBAAAEJ+D5woooAAggggAACCCCAAAIIIIAAAuUn4Ds/KIngXbtRNd8bNGhg6tata6qqqspvz6axRcuXLzcLFy40GgSLmu5pwDEpAghUpIDvA2dFIrLRCCCAAAIIIIAAAggggAACCJS5gO/8oGSC9zLfr2weAggggECOBHwfOHO0mswWAQQQQAABBBBAAAEEEEAAAQQKKOA7PyB4L+DOZNEIIIAAArkX8H3gzP0aswQEEEAAAQQQQAABBBBAAAEEEMi3gO/8gOA933uQ5SGAAAII5FXA94EzryvPwhBAAAEEEEAAAQQQQAABBBBAIC8CvvMDgve87DYWggACCCBQKAHfB85CbQfLRQABBBBAAAEEEEAAAQQQQACB3An4zg8I3nO3r5gzAggggEARCPg+cBbBJrEKCCCAAAIIIIAAAggggAACCCDgWcB3fkDw7nkHMTsEEEAAgeIS8H3gLK6tY20QQAABBBBAAAEEEEAAAQQQQMCHgO/8gODdx15hHggggAACRSvg+8BZtBvKiiGAAAIIIIAAAggggAACCCCAQMYCvvMDgveMdwVPRAABBBAoBQHfB85S2GbWEQEEEEAAAQQQQAABBBBAAAEE0hPwnR8QvKfnz9QIIIAAAiUm4PvAWWKbz+oigAACCCCAAAIIIIAAAggggEAEAd/5AcF7BHQmQQABBBAoXQHfB87SlWDNEUAAAQQQQAABBBBAAAEEEEAgkYDv/IDgPZE09yOAAAIIlIWA7wNnWaCwEQgggAACCCCAAAIIIIAAAgggsIKA7/wg4+B9hbXiFwQQQAABBBBAAAEEEEAAAQQQQAABBBBAAAEESlxgypQpXraA4N0LIzNBAAEEEEAAAQQQQAABBBBAAAEEEEAAAQQQKHWBggfvvlag1HcE648AAgggUNwCvi8VK+6tZe0QQAABBBBAAAEEEEAAAQQQQCATAd/5QcY93gneM9l9PAcBBBBAIN8Cvg+c+V5/locAAggggAACCCCAAAIIIIAAArkX8J0fELznfp+xBAQQQACBAgr4PnAWcFNYNAIIIIAAAggggAACCCCAAAII5EjAd35A8J6jHcVsEUAAAQSKQ8D3gbM4toq1QAABBBBAAAEEEEAAAQQQQAABnwK+8wOCd597h3khgAACCBSdgO8DZ9FtICuEAAIIIIAAAggggAACCCCAAAJZC/jODwjes94lzAABBBBAoJgFfB84i3lbWTcEEEAAAQQQQAABBBBAAAEEEMhMwHd+QPCe2X7gWQgggAACJSLg+8BZIpvNaiKAAAIIIIAAAggggAACCCCAQBoCvvMDgvc08JkUAQQQQKD0BHwfOEtPgDVGAAEEEEAAAQQQQAABBBBAAIFUAr7zA4L3VOI8jgACCCBQ0gK+D5wljcHKI4AAAggggAACCCCAAAIIIIBAqIDv/IDgPZSZOxFAAAEEykXA94GzXFzYDgQQQAABBBBAAAEEEEAAAQQQ+FvAd35A8P63LbcQQAABBMpQwPeBswyJ2CQEEEAAAQQQQAABBBBAAAEEKl7Ad35A8F7xLykAEEAAgfIW8H3gLG8ttg4BBBBAAAEEEEAAAQQQQACByhTwnR8QvFfm64itRgABBCpGwPeBs2Lg2FAEEEAAAQQQQAABBBBAAAEEKkjAd35A8F5BLx42FQEEEKhEAd8Hzko0ZJsRQAABBBBAAAEEEEAAAQQQKHcB3/lByQTvtWvXNg0aNDB169Y1VVVVJb+fly9fbhYuXGjmz59vli5dWvLbwwYggAACxSrg+8BZrNvJeiGAAAIIIIAAAggggAACCCCAQOYCvvODkgje/3979wEmRZWucfxDhoxDUoLjCA8GxLQmDOjuGhBXjIg5iwkVFXNArxkUUcSwBtYACgqKYkLMignBtBgxgcCAgjPEAcRBLu+5Vt+enu6e7unTMx3+9TxLd1euX7Gcx7dOfad169bWokWLmqtl+JZLliyxsrKyDD9LTg8BBBDITgHfDWd2KnDWCCCAAAIIIIAAAggggAACCCAQT8B3fpDxwXvbtm2tWbNm8UxyYll5ebktWLAgJ66Fi0AAAQQyScB3w5lJ18a5IIAAAggggAACCCCAAAIIIICAHwHf+UFGB++53tM98q8EPd8jRfiNAAIIpC7gu+FM/YzYAwIIIIAAAggggAACCCCAAAIIZJqA7/wgY4N31XQvKirKNP+0n09JSQk139OuzAEQQCCfBHw3nPlkx7UigAACCCCAAAIIIIAAAgggkC8CvvODjA3e27RpY4WFhflyX0PXuXTpUistLQ395gsCCCCAQGoCvhvO1M6GrRFAAAEEEEAAAQQQQAABBBBAIBMFfOcHGRu8FxcXW0FBQSbeg7SeU0VFhc2ZMyetx2DnCCCAQD4J+G4488mOa0UAAQQQQAABBBBAAAEEEEAgXwR85wcZG7wHF5ovNzb8OmfOnBn+k+8IIIAAAikIBO1JXf3b2qlTJ9txxx1t4403thkzZtgrr7ySwtX43XS99dazDh062C+//GJr1qzxu/ME91a/fv2Ejt2/f3/7/fffbe7cufbee+/ZsmXLEjwCqyGAAAIIIIAAAggggAACCCBQvYDv/IDgvXrzWl+jrsKhWr9QDogAAgjUgoDvhjOZU1ZYfMIJJ5jCZU3PPvusDRo0KOouWrZsaeeff761bdvW/vzzT/c96oopzmzQoIEdf/zxtsMOO9h2221nzZs3t1WrVtlXX31lU6ZMscceeyyhIDyV0zjwwANtp512sq5du5ruz2+//Wbffvut+99TTz1lGmw8cpo0aZKpDJ2mxYsX23XXXWfvv/9+5Gr8RgABBBBAAAEEEEAAAQQQQKBGAr7zA4L3Gt2G9G5E8J5eX/aOAAL5JeC74UxUr3v37jZ8+HC3ugLtd955x7788ksXLkfuY5dddrHrr7/eNthgA7dIwfuuu+4auVrKv5s0aWK33367devWLbQvHUs934NJYfYVV1zhwvhgnq/PRo0a2bXXXmv77bdfzF2qR/vFF19sP/30U6V19tprL+vYsaP17t3bDb6u8L1Pnz6msVGYEEAAAQQQQAABBBBAAAEEEEhVwHd+QPCe6h35a3vVpFcvwl9//dXKy8tT2ivBe0p8bIwAAghUEvDdcFbaeZwft956q+2zzz726aef2llnnRV1TbUb55xzjuuBXq9evdA66QjeFbrfd999tvXWW9sfq1fbPffeax9++KEr3dKlSxc75JBDXKitk/jkk0+sX79+ofPx8UXh/iOPPGJbbbWVrV271saNG2cffPCBzZo1y/Xy33bbbe3MM8+0xo0bu3b0mGOOcSVwIo+tXu/PPfecBSH+xIkTI1fhNwIIIIAAAggggAACCCCAAAJJC/jODwjek74F0Te46667rH379q53Y6qvvhO8RzdmLgIIIFATAd8NZ6LnMGb0aNt8iy3szmHDbPSYMVU222STTezmm2+2Lbfc0i0bP368LVq0yE4//XRXasZ3j/ejjz7aLrnkEtMg3hdddJEL3SNP6rLLLrMjjzzSzT700ENt3rx5kavU+PfOO+/sgn/t4MILL3R12iN3pocCDz/8sOuBf9ttt7lwPnId/X7wwQddqZwRI0a479HWYR4CCCCAAAIIIIAAAggggAACyQj4zg8I3pPRj7MuwXscHBYhgAACdSjgu+FM9FLUE3vDDTe0q6++OuqAqsPvvNO677GHq2euAP6tt96yk08+2VQXXgOd7rbbbokeKqH1grD6iy++sL59+0bdpqioyCZMmOCW3XLLLaaHAb6m//mf/7GDDz7YPv/8czvjjDNi7nb0ugcWW6x7YKHe8BdccEHU9VQnX+VqdH46TyYEEEAAAQQQQAABBBBAAAEEUhXwnR8QvKd6R/7anuDdEyS7QQABBDwL+G44Ez29IHgfOHCgvfrqq1U2U/DepGlTF8wvWLDALU9n8K4yM6oh/+KLL9rIkSOrnE8w4/XXX7cWLVp4D7VVykYDuU6fPt3Vug+OF/k5ZMgQ23vvveMG9HpQ0bNnT+/nGHku/EYAAQQQQAABBBBAAAEEEMgfAd/5Qc4F75tvvrnpdXb1MmzYsKHrSaiB2j7++GNbuHBh3L8pnTt3dq/8d+rUyb3mrpIv6plXUlJSZTvVdFdN3GDSK/wKKt544w378ccfg9nuU70LVfs90YlSM4lKsR4CCCBQvYDvhrP6I/7fGtUF7yolM23aNFdWJthnOoP34BjxPlVfXYPAqh77HXfcYU888US81b0v03H1kELt6UMPPWT3339/1GMQvEdlYSYCCCCAAAIIIIAAAggggEAKAr7zg5wJ3jUo3YABA2z33XePyXveeedFDcA1uN1xxx1nvXr1svDB7bSjP/74w0aNGlWlTMABBxxgp556asxjhS8YPny4JVP3neA9XI/vCCCAQGoCvhvORM+muuA92n7qOnjff//97aabbnKnpnP5+uuvo51mWuYpdD///PPdQLOLFy+2U045JeqDbx2c4D0tt4CdIoAAAggggAACCCCAAAJ5LeA7P8iZ4F2vsJ9wwgmuLq7q03733Xeuh7t6vqtneo8ePUyv+0freX7VVVfZ9ttvb6tWrXKvrX/zzTdWv359N0/71fe7777b3n333dBfvnbt2pkGxgsmDYbXqlUre+GFF+zbb78NZrtP9YAvKyurNC/eD4L3eDosQwABBJIT8N1wJnr09957zxo1amRqY1577bWENqvL4F1lYJ566ilXjkblZq688sqEzrmmK22zzTauZ72MNMDsnnvuaTvuuKOVlpa62u4zZsyIuWs9HNBDAvWOV9vOhAACCCCAAAIIIIAAAggggECqAr7zg5wJ3q+77jrbaqut7M0334z6arp6ta9du9YqKioq3YNu3brZpZdear///rsLGVSWJnwKerYvWrTI9ahfuXJl+OLQd2q8hyj4ggACCGSUgO+GM5GLU9mzMWPGuHZHA4pGe+gbbT91FbzrAbPezlL5mxUrVthRRx2V8DlHu45E5ulhtkrbBJOO++9//9ueeeYZ97ZZMD/a55FHHmmXXXaZqc0+4ogj3EP3aOsxDwEEEEAAAQQQQAABBBBAAIFEBXznBzkTvAfB97hx4+zpp59O1NNuu+0269ixo+vlp55+kVOTJk1ckK/PoUOH2tSpUyNXcb+D4ydbVibazujxHk2FeQgggEDNBHw3nPHOYrPNNjONF6K3oHRcjfHRt2/feJtUWlZXwfs111xjesNLD6gVaL/99tuVzisdP/RgQsG7Ssy0bdvW9IBc0/fff+/qy2tslliTBol96aWX3LZ64K6wXm1nMEhtrO2YjwACCCCAAAIIIIAAAggggEAsAd/5Qc4E75dccontsssuprqwGoztv//9b7U94NTDb/To0e4/3PW6+rx585x7ZJ33vfbay4Xz48ePt7Fjx0a9NwTvUVmYiQACCNS5gO+GM94FTZo0ydq0aePKpTz77LOm/yUTBtdF8H7WWWe5BwW6rmHDhrme+vGuMR3LFL7rocWZZ55p//znP90hbrjhBle+LdbxVKpGPfN77LuvNVg3mLqsBw0aFGt15iOAAAIIIIAAAggggAACCCAQV8B3fpAzwXtxcbHdeOON1rRpUweo0jE//PCDq7euIGTJkiVVYIuKilzIUGVBjBl6LV613qNNBO/RVJiHAAII1L2A74Yz3hUFwbsG1H7ggQdMY4YkM9V28H7sscfaRRdd5E5xxIgR9uCDDyZzumlZV2+i6YF3eXm5HX744THHSNHD87333tv69+9vas/V633w4MFpOSd2igACCCCAAAIIIIAAAgggkPsCvvODnAnedevVy1Cvyu+0007utfXgr4NCePVo12vta9asCWa7wdzUo06T6sqqjnu8Sctnz54ddRWC96gszEQAAQTqXMB3wxnvgjTId9euXW2fffaxgoICe/75591D4XjbhC+rzeC9V69epvFR9JaX3v668847w0+lzr5roNXHHnvMHf/yyy93Y7dEnowGZFXQrhI1aps1eK0ednzwwQeRq/IbAQQQQAABBBBAAAEEEEAAgYQEfOcHORW8hwsqhO/evbvrNafe8JpGjhzpasIG67Vq1cr1SNTvgQMHurqywbJkPwnekxVjfQQQQKB2BHw3nImc9b7ryp/ccsstbuDu/fbbz2INzB25r9oK3vfcc083xokeDmh8kyFDhkSeitffhYWF1qlTJ7fPr776qtJD8MgDaUyVyZMnu9n33nuvPfroo5GruJ7uOufly5db7969XZm5KisxAwEEEEAAAQQQQAABBBBAAIEkBHznBzkbvAem6smn/zjXAKqq+37zzTcHi9ynwnj9R/4dd9xhU6ZMqbQsmR/qKbjRRhuZAvj33nsvmU2rrMvgqlVImIEAAgjUWMB3w5nIiagMinpg6/PCCy9MuF2ojeB9hx12sHvuuccarquL/txzz7l2UYOqpnNSz/QXXnjBjakyYMAAZxPreNtvv72p7I0mlZDTWwORkx6WH3bYYS6gv/jiiyMX8xsBBBBAAAEEEEAAAQQQQACBpAV85wc5H7xLWDVijznmGFMvu+uvv74Suv6Dfdddd426rNKK1fy49tprbeutt3avxytcSGUieE9Fj20RQACBygK+G87Ke4/965VXXrHWrVu7N6pU7iyRKd3B+xZbbOHe9GrevLm9/PLLrtTMn3/+mcippbyOSrp169bNPv74Yzv//PPtjz/+qLJPDbKqEnD777+/6xXfp08fKykpqbKeHqL37NmTuu5VZJiBAAIIIIAAAggggAACCCBQUwHf+UHOBO8nnniivfPOO1VqsKs3u3rMbbLJJq63XVA3NrgB6oU3bNgwa9CggY0fP96efvrpKq/Ad+nSxYUA9913X9SgQPs644wzTOUE5syZ44KMZcuWBYdI+pPgPWkyNkAAAQRiCvhuOGMeKGLBxIkTbcMNN/QavF966aWm8FxtTDAoasRhY/5U2bWHHnrIVGZN0+mnn16lvQvfWIH8119/HZql3vsKzxWOKzzX4LHJTD169AgNfjpjxgxX6kb7VwCvfevNNAXye+yxh9vtk08+abfffnvUQwTBu9ptlfRhQgABBBBAAAEEEEAAAQQQQCBVAd/5Qc4E76NGjbLGjRvbzz//bHPnzrWysjLr3LmzCygUquu3BmlbsmRJlXugwLxv377uP/wXLlxoP/zwg1tfobwC+3bt2rltNGje6tWrq2yvGR06dHDlahQeaDDXefPm2apVq9y6CvO/+OKLqNtFm0nwHk2FeQgggEDNBHw3nImeRTqC95deeskNKPrmm2+6Ni3Rc9F6Dz74oKnMTKLTH+vau+5/heDapqioyCZMmOA2v+2222zcuHGJtfQYMwAAJjBJREFU7iq0nnqpX3PNNa691syKigr75ZdfbIMNNgjNU9mb+++/3x5++OHQdpFfCN4jRfiNAAIIIIAAAggggAACCCCQqoDv/CBngvezzjrLdtxxx1BPvgBa/wE/bdo0GzNmjAvDg/mRn+ppd+aZZ9pmm21mqgsfPikInzp1qj377LMW75V83ZwjjjjChfUa3FWD1mkaPnx43Hq24cfSd4L3SBF+I4AAAjUX8N1wJnomvoP38EFHBw0a5NqkRM9F6+mNry233DLhTSKDd/VE13gmmlQCZvbs2QnvK3zFzTff3M4991x3Lmorg0m9+NUDXr3Y33rrrWB21E+C96gszEQAAQQQQAABBBBAAAEEEEhBwHd+kDPBe2Cq3un6D3nVr120aJEtWLAgai/3YP3Iz0aNGrlefdrH4sWLk94+cn81+U3wXhM1tkEAAQSiC/huOKMfpepcPazdeOONXSkUhcmpTgrNg3JphxxyiM2fPz/VXSa1/fHHHWcD1g0Uqze6Dj300KS2jbWyerpvuumm7lpUqi3RQV71QLt79+42evTo0MOAWMdgPgIIIIAAAggggAACCCCAAAKJCPjOD3IueE8EMdPXIXjP9DvE+SGAQDYJ+G44E732u+66y3bffXdXnkU9tFOdVKZF+1FJNb1dVdvTVVddZb17967zAU31Ntnzzz/v6uervruPhxq1bcnxEEAAAQQQQAABBBBAAAEEMk/Ad35A8J5595hSMxl4TzglBBDIXgHfDWeiEieffLL179/fDR46ZMgQe/vtt90bWIn26o48jgbxVkm0sWPH2tChQyMXp/23BlNVSbfLLrus2lIw6TgZjaHSvn17NyaLevyr9Nuxxx5rP/30UzoOxz4RQAABBBBAAAEEEEAAAQTyTMB3fkDwnoF/gejxnoE3hVNCAIGsFfDdcCYKoYG9H3/8cTfQd7CNys+oPntNpqCu+YABA5IaN6Qmx4q2zaRJk6xly5bWo0cPW758ebRV0jpPxw+vCa+xW4YNG5bWY7JzBBBAAAEEEEAAAQQQQACB/BHwnR9kbPBeXFwcGpw0f26vWUVFhanOLRMCCCCAgB8B3w1nMmfVsGFDO/74461bt25u/BANGhoMUJrMfrRuEOLvu+++tnLlymQ3T2l9jZuic58+fbqddtppKe2rphurp7+muXPnulIz77zzTk13xXYIIIAAAggggAACCCCAAAIIVBHwnR9kbPCuXm2FhYVVAHJ9xtKlS620tDTXL5PrQwABBGpNwHfDWWsnHnEglVrRtGbNmogltfNTx1eZHJV4YUIAAQQQQAABBBBAAAEEEEAg1wR85wcZG7yrl2BRUVGu3b9qr6ekpMRWr15d7XqsgAACCCCQmIDvhjOxo7IWAggggAACCCCAAAIIIIAAAghkk4Dv/CBjg3fdlNatW1uLFi2y6f6kdK5LliyxsrKylPbBxggggAAClQV8N5yV984vBBBAAAEEEEAAAQQQQAABBBDIBQHf+UFGB++6YW3btrVmzZrlwr2Lew3l5eW2YMGCuOuwEAEEEEAgeQHfDWfyZ8AWCCCAAAIIIIAAAggggAACCCCQ6QK+84OMD951Q3K95zs93TP9/3acHwIIZLOA74Yzmy04dwQQQAABBBBAAAEEEEAAAQQQiC7gOz/IiuBdFKr5vv7661vTpk2toKAguk4Wza2oqLAVK1bYsmXLqOmeRfeNU0UAgewT8N1wZp8AZ4wAAggggAACCCCAAAIIIIAAAtUJ+M4PsiZ4rw6G5QgggAACCEQT8N1wRjsG8xBAAAEEEEAAAQQQQAABBBBAILsFfOcHBO/Z/feBs0cAAQQQqEbAd8NZzeFYjAACCCCAAAIIIIAAAggggAACWSjgOz8geM/CvwScMgIIIIBA4gK+G87Ej8yaCCCAAAIIIIAAAggggAACCCCQLQK+8wOC92y585wnAggggECNBHw3nDU6CTZCAAEEEEAAAQQQQAABBBBAAIGMFvCdHxC8Z/Tt5uQQQAABBFIV8N1wpno+bI8AAggggAACCCCAAAIIIIAAApkn4Ds/IHjPvHvMGSGAAAIIeBTw3XB6PDV2hQACCCCAAAIIIIAAAggggAACGSLgOz8geM+QG8tpIIAAAgikR8B3w5mes2SvCCCAAAIIIIAAAggggAACCCBQlwK+8wOC97q8mxwbAQQQQCDtAr4bzrSfMAdAAAEEEEAAAQQQQAABBBBAAIFaF/CdHxC81/ot5IAIIIAAArUp4LvhrM1z51gIIIAAAggggAACCCCAAAIIIFA7Ar7zA4L32rlvHAUBBBBAoI4EfDecdXQZHBYBBBBAAAEEEEAAAQQQQAABBNIo4Ds/IHhP481i1wgggAACdS/gu+Gs+yviDBBAAAEEEEAAAQQQQAABBBBAwLeA7/ygxsG77wtjfwgggAACCCCAAAIIIIAAAggggAACCCCAAAII1KXAzJkzvRye4N0LIztBAAEEEEAAAQQQQAABBBBAAAEEEEAAAQQQyHaBOg/efZ1Att8Izh8BBBBAILMFfL8qltlXy9khgAACCCCAAAIIIIAAAggggEBNBHznBzXu8U7wXpPbxzYIIIAAArUt4LvhrO3z53gIIIAAAggggAACCCCAAAIIIJB+Ad/5AcF7+u8ZR0AAAQQQqEMB3w1nHV4Kh0YAAQQQQAABBBBAAAEEEEAAgTQJ+M4PCN7TdKPYLQIIIIBAZgj4bjgz46o4CwQQQAABBBBAAAEEEEAAAQQQ8CngOz8gePd5d9gXAggggEDGCfhuODPuAjkhBBBAAAEEEEAAAQQQQAABBBBIWcB3fkDwnvItYQcIIIAAApks4LvhzORr5dwQQAABBBBAAAEEEEAAAQQQQKBmAr7zA4L3mt0HtkIAAQQQyBIB3w1nllw2p4kAAggggAACCCCAAAIIIIAAAkkI+M4PCN6TwGdVBBBAAIHsE/DdcGafAGeMAAIIIIAAAggggAACCCCAAALVCfjODwjeqxNnOQIIIIBAVgv4bjizGoOTRwABBBBAAAEEEEAAAQQQQACBqAK+8wOC96jMzEQAAQQQyBUB3w1nrrhwHQgggAACCCCAAAIIIIAAAggg8P8CvvMDgvf/t+UbAggggEAOCvhuOHOQiEtCAAEEEEAAAQQQQAABBBBAIO8FfOcHBO95/1cKAAQQQCC3BXw3nLmtxdUhgAACCCCAAAIIIIAAAgggkJ8CvvMDgvf8/HvEVSOAAAJ5I+C74cwbOC4UAQQQQAABBBBAAAEEEEAAgTwS8J0fELzn0V8eLhUBBBDIRwHfDWc+GnLNCCCAAAIIIIAAAggggAACCOS6gO/8IGuC94YNG9r6669vTZs2tYKCgly/z1zfXwIVFRW2YsUKW7Zsma1evRoXBBBAIGkB3w1n0ifABggggAACCCCAAAIIIIAAAgggkPECvvODrAjeW7dubS1atMj4m8MJpldgyZIlVlZWlt6DsHcEEMg5Ad8NZ84BcUEIIIAAAggggAACCCCAAAIIIGC+84OMD97btm1rzZo149Yj4ATKy8ttwYIFaCCAAAIJC/huOBM+MCsigAACCCCAAAIIIIAAAggggEDWCPjODzI6eKene9b8vazVE6Xne61yczAEsl7Ad8OZ9SBcAAIIIIAAAggggAACCCCAAAIIVBHwnR9kbPCumu5FRUVVAJiBgARKSkqo+c5fBQQQSEjAd8OZ0EFZCQEEEEAAAQQQQAABBBBAAAEEskrAd36QscF7mzZtrLCwMKtuDidbewJLly610tLS2jsgR0IAgawV8N1wZi0EJ44AAggggAACCCCAAAIIIIAAAjEFfOcHGRu8FxcXW0FBQUwIFuS3QEVFhc2ZMye/Ebh6BBBISMB3w5nQQVkJAQQQQAABBBBAAAEEEEAAAQSySsB3fpCxwXtwoVl1dzjZWhWYOXNmrR6PgyGAQHYKBO0J/2Zk5/3jrBFAAAEEEEAAAQQQQAABBBCoDQHf+QHBe23cNY6RFgFCtLSwslMEck7Ad8NZHdD+++9vBx98sP355582ePBgmz9/fnWbWIcOHWzgwIFuvbvvvttmzJhR7TasgAACCCCAAAIIIIAAAggggAAC/gR85wcE7/7uDXuqZQGC91oG53AIZKmA74azOoa+ffva2Wef7Vb77LPPrF+/fi6Ej7dd586dbezYsW6Vc845x6ZNmxZvdZYhgAACCCCAAAIIIIAAAggggIBnAd/5QVYH75tvvrmdfvrpIeJ7773XZs+eHfod/mXQoEFWv359+/DDD23ChAnhi7Lm+6233mpNmzZN6nynT59uI0aMSGqbbFmZ4D1b7hTniUDdCvhuOKu7mvDgXeuqB/uoUaPibkbwHpeHhQgggAACCCCAAAIIIIAAAgikXcB3fpDVwft2221nV199dQj9/ffft+HDh4d+h3954oknXPD+6quv2n/+85/wRVnz/dFHH006eFevydtuuy1rrjGZEyV4T0aLdRHIXwHfDWd1kpHB+x9//GEnn3yyff/99zE3JXiPScMCBBBAAAEEEEAAAQQQQAABBGpFwHd+kFPBu+rpXnDBBfbrr79WuRm5ELwXFRXZeuutV+na9PBBgY6m66+/3pYuXVpp+cqVK+23336rNC9XfhC858qd5DoQSK+A74azurONDN61/o8//mgnnniiKYSPNhG8R1NhHgIIIIAAAggggAACCCCAAAK1J+A7P8iZ4H3RokXWqlUre+ONN+yBBx6ockdyIXivclHrZuy666528cUXu0VnnXWWySFfJoL3fLnTXCcCqQn4bjirO5sgeF+xYoVdfvnldtddd1m9evVs9OjRduedd0bdPNHgfdttt7U+ffqYPtu2bWt6uDpv3jx77bXX7IUXXqjy8FUHa9CggTsHfdcbX6o737t3b+vWrZvtsMMOtmbNGtO/p88//7y98sorWi3m1K5dOzv22GNtt912cwPCrl692pV4mzhxor300ku2atWqmNuyAAEEEEAAAQQQQAABBBBAAIFMFvCdH+RM8P7444/b8ccf7wKE/v37W1lZWaX7+OSTT7re4rFKzagnuUIIAatnuXqJ//zzz/bxxx/b8uXLK+0r+KHgQyHErFmz7IcffjDVnN96663dPhYsWGAfffSRmx+sH+2zSZMmtuOOO1rHjh1diKHe+j/99JPbVmFIdVOiwXtxcbF16dLFfv/9d3v33Xdj7rZDhw7uGnTst956K7Sewpk2bdq4Xptz5861nXfe2bbaaitr3Lixfffdd86putA/1WsNncxfXwjeI0X4jQAC0QR8N5zRjhE+Lzx4/+c//2mXXHKJHX300bZ27VrTwKlqVyKnRIL3Aw880K677rrITUO/1RZp3JMlS5aE5ulLw4YNTaXYNA0cOND+9re/2VFHHeV+R/4xadIku+aaayJnu986x4ceesiaN28edfknn3xian8rKiqiLmcmAggggAACCCCAAAIIIIAAApks4Ds/yJngXQOP7rXXXq4HuHrdjRw5stJ9jBe8q6f8gAEDrGvXrpW20Q8F8OqhqHA5crrwwgtt9913t+eee871MlQZgfBJ4fX9999v77zzTvjs0HcF9eeff74L70Mz//oyY8YMd9zS0tLIRZV+Jxq8b7TRRqGeluohP2fOnEr7CX6ce+65pqBIwdCQIUOC2a6WvsrajB8/3j1Y0MOC8Gnx4sWme6ByCtEmH9cauV+C90gRfiOAQDQB3w1ntGOEz4sM3hs1amSPPfaY+7dTD1fVY3zZsmXhm1h1wbvamjvuuMMKCgrsyy+/dG936d9p9XpX7/MDDjjABeIaUFvhvh6yBlN48P7NN9/YZpttZmPGjDEF5b/88ottuummpjemOnXq5DZRGzF58uRgc/epdlLjjKgt0cNX9a6fOnWqtWzZ0nbZZRc78sgj3blp/g033FBpW34ggAACCCCAAAIIIIAAAgggkA0CvvODnAre1ctd4a8CBwUP4cFGrOBdr//ffvvttvHGG7vwXOsp0FWYccghh7hAQjV5VTs+slZ6ELwrhND6zzzzjCkwLywsdKUANtlkE3cOZ599tul1/PBpyy23tGuvvdYN+PrFF1+YehkuXLjQ9Xo//PDDXQ/4kpIS11MyXs/3RIN3HVs14PVwQcGIQqDISeGQyhDoU6F7eK9MDWKr4F1lBFS2YNy4cS78ad26tXNSsK6SB+rtGO6uY/i61sjzJXiPFOE3AghEE/DdcEY7Rvi8yOBdy/Tv4COPPOLCaZVzCR8YXMvjBe96Y0llavTW0Ndff+16tUfWit9jjz1cMK+3tyJ7rYcH7xoLRb3eX3/9dR02NKkXux4iq/2aMmWKnXfeeaFlaicffvhh22abbVw7dcopp5je6gqfDjroINemad7gwYNdexi+nO8IIIAAAggggAACCCCAAAIIZLqA7/wgp4J39d4LXqNXz+yxY8eG7mes4F1hhUJ1vRqvcgCqlRtMKqMyaNAgF8qrfu6IESOCRe4zCN7145ZbbrFPP/00tFy9A++9914XsijYV9mZYFKIofV1M1XORb3iVYIgmBRs33PPPa5mvQJyBeWxpmSC93/84x8uGFcZgn79+rmyPOH7VU939XhXyRg9uAgP/IPgXevffffdlcrVyElBffv27V0g//TTT4d26/NaQzv96wvBe6QIvxFAIJqA74Yz2jHC50UL3rVcgbX+jdWktkqlz4IpXvCuf69PO+0093BTPcujDSCu/ejBpwbbVnumHvB6E0lTePD+4Ycfujet3IKIP4KSOGoHDz300NBSlabRQ1lN6hkf3taFVlr35eabb7aePXu63vLB2CPhy/mOAAIIIIAAAggggAACCCCAQCYL+M4Pci54V49u9ewuLy934bF6YWuKFbyrXq5qlSuMGDZsWJV7rxBBNXMVZJx00kmVatcGwfvs2bNdaB+5sV63Vy/HUaNG2YsvvhharNfyFXCoZ772HV4SIFhJ4Yr+pzrzl156aTC7ymcywbvCFw0826xZM/dmgB5UhE/qga8a9RMmTHBlCMKXBcG7Qnn14FevyfBJIY1q7OutA4VEweTzWoN9Bp8E74EEnwggEE/Ad8MZ71haFit4V290/Ru8/fbbuzesVHIm6DkeL3jXA1i1JSojowA+1hQekIcH++HBuwL0aAOQa5/HHHOMG6xb/76rfE3wQDgI9NXLXg9wY9Vw1/VcdNFFrld8r169Yp0m8xFAAAEEEEAAAQQQQAABBBDISAHf+UHOBe+6azfeeKMbSFSv5uvVeU2xgvf77rvPDRqqIOKNN95w64b/ocFGhw8f7mbp1fvwnoZB8K7BStULPHIKlkeWdtEge3369HGBy8SJE91m6hkePqlursJs9TpX4B9ZViBYN5ngXdsotNl///1dbd6hQ4cGu7ENN9zQ9bLXeegNgPnz54eW6UsQvGuAvsAjfAWVmlFvR02qdR88TPB5reHH03eC90gRfiOAQDQB3w1ntGOEz4sVvGsdDd6t+upNmzZ1/w4r1FbAHS941xtXahP0UDT4dzb8eMF3lYsJBsVWm6SHvprCg3f9W65SN9Gm8MFb1bYED1j15td+++3nNtHbZLEmjf0RWKudiRzkPNZ2zEcAAQQQQAABBBBAAAEEEEAgEwSC/6b1lTnmZPC+ww472JVXXules9dr/QqtowXv9evXdwGIwmbVho/sAa4brjIqQXihQF/12IMpVrAeLFdQ//e//91efvllV9s3mK+BXLt37x78rPZTA7BqALxoU7LBe6d1g+epLIwCfZUMWLp0qdutHgQoJFf9YL0FEDkFwXu0gWu1roJ7ldbRpOsLSvb4vFa387A/fP2fIGyXfEUAgRwU8N1wVkcUL3jXtuH10DVg6hNPPBEzeFf7pFJl+tRDz8cffzzu4VW+RqXO1Ev+rrvucuuGB+/hPeEjdxQreFc5tJ122ily9bi/9WZU+DghcVdmIQIIIIAAAggggAACCCCAAAIZIOA7P8jJ4F33SeGyQuaHHnrI9e6LFryvv/76brnWV9is0DlyUtihbfUZWas9CN7Vq1696yOnWMH7NddcY9tuu60bnDTokR+5bfjvb7/9NtSDPHy+vicbvGsbDXy36aab2siRI01Buib1jmzXrp3r9T558mQ3L/yPIHiPrJ0frBNuqWDn+++/d4t8XmtwrOCT4D2Q4BMBBOIJ+G444x1Ly6oL3rWOHvbus88+buBtvSWkKRiXRGNsTJs2zc3TH2+//bYrEaae8tFKogUranwQvYGlh8oKy9X+aUo1eNfDAT1E1hSv9JnayaA8zeeffx6qMe825A8EEEAAAQQQQAABBBBAAAEEMlzAd36Qs8H77rvvbgrGFy5c6AaSUzCu+rrqDRgMEqd7rd6DCiUUZqjOe+RUWFgYWj88UNZ6NQ3ezzzzTOvRo4cpmNAr/KlMNQneVTLgjDPOCNWPV+1g1aNfsWKF6dxWr15d5ZSC4D3aILNaWeUTgkBIodFvv/3m9uHzWiNPiuA9UoTfCCAQTcB3wxntGOHzEgneVTpGPd032GADmzFjhvs3OHiAGxm8a8Dqjh07utI0weCs4ccLvm+xxRahh8A33XRTqNRaqsH7VVddZb179zYNzK22iwkBBBBAAAEEEEAAAQQQQACBXBTwnR/kbPCunnd33nmnqUa7SqDotfdowbvW2WijjVxYEa33+WabbRYKxxUiL168OPT3qqbB+8EHH+zqoM+ZM8cNZBfaYQ2+1CR4b9KkiT344IPWqFEju/zyy13Nd/W8jHwoEX46QfAe62GBBvXTgwnVBD7uuONCtYF9Xmv4+eg7wXukCL8RQCCagO+GM9oxwuclErxrfZUcC8bMUPkv9VTXFBm8q3Ta4Ycf7toflYOJ9nBU26lk2BVXXKGvdthhh1lJSYn7nmrwrnrtCvIj9+tm8AcCCCCAAAIIIIAAAggggAACOSLgOz/I2eBd93vvvfd2gbvCBwXw0YL3oBzMzz//HPUV+lNOOcV69eplpaWlLgwJXqPX/msavKvnokrh6OFArBI32n8iU02Cd+1XDyLko4H4dtttN1MYr8Dmp59+inrYIHivqKhwteGXLVtWaT3Vi993333thx9+MPWODCaf1xrsM/gkeA8k+EQAgXgCvhvOeMfSskSDd62r0i1HHXWUvoYm9WqfOnVq6LfGLdHDUk0arFtvKEVOG2+8sRuPRGW/vvzySzv11FNDq6QavDdr1sw0ELgGhP30009NA8JGG/BbJXMO+Ne/bMm6sUO0jh4mMCGAAAIIIIAAAggggAACCCCQLQK+84OcDt7Ve/Cee+6xNm3ahO5vZK/u4uJiGzp0qAvBNRidQo1g2mqrrVwYrQFWVZ5G24ZPNQ3etQ+VelHJFw1Cql73s2bNCt+1q+e71157uZ6NKu8Sa6pp8K6SBEEPRu071oOH4LhB8K7f77//vqsJr97tmrp27erCdvWgVy3gKVOmuPnBH76uNdhf8EnwHkjwiQAC8QR8N5zxjqVlyQTv+ndTJc86rRuTJJgig3fNP+2006xfv35uFdV616DdKlHTvHlz69atm3sg2rlzZ/eQWMcPBrjWBqkG79qH2hq1VQUFBa6OvMriTJ8+3QXwKpdzwgkn2LHHHusecIfXl9e2TAgggAACCCCAAAIIIIAAAghkg4Dv/CCng3fd0AMOOKBSz7/I4F3rKKT417peepq+++471+tbA41us802psHq1AtcwbN6e4dPqQTv6pWofeqGqlegBlCdO3euO55K32i+AplYA7cG51HT4F3ba7BYPXjQFD7QqpsR8UcQvKtHuwZm1VsE33zzjbVu3doNFKtgR7/Vgz/8rQDtxte1RpwSpWYiQfiNAAJRBXw3nFEPEjYzmeBdm2mcjUceecSF2vodLXjXfL2VpHIywaSa6wregxI1wTgdCuTDJx/Bu/Z30EEH2bXXXhvatUrerFq1yjQWSjDpgYDageDBbDCfTwQQQAABBBBAAAEEEEAAAQQyXcB3flBv3Q7XJnPRvk8g1rGD48RarvnbbbedC6/1/dZbb7VPPvlEXytNCq9V4z0IBqIF79pAA8bpNXmVXAkmBeKvv/66e30/2mv1qQTvOobCEtXhPeSQQyodV8tWrlzpXunX6/3ff/+9ZkWdUgneg/rruk71pFSIE2sKgvexY8daWVmZe5ihNwE0KWifPHmyK4UQzUnr+LhW7Sd8osd7uAbfEUAglkDQntTWvxnJBu86b5WGUW13TbGCd/07qp7lRxxxhLVv396tqz8Uck9ZNzj4iHVvZqnMTOTkK3jXfnv27GknnXSSdenSpdJh1E7p4cEbb7xB6F5Jhh8IIIAAAggggAACCCCAAALZIuA7P6i3bodZG7z7vmmqua6e7kVFRfbbb7+5Xt2Rvdx9HzPYn17VV41ehdg69q+//lqlh32wrq/PoM77Rx995Hq/x9tvePA+fvx4F6SrNILC9x9//NH1eoy3ffgyX9daWyFa+LnzHQEEsk/Ad8NZ1wIar0T/jqq9Ui/3+fPnu8/aPK+WLVu68F8PbvW2lh4WMyGAAAIIIIAAAggggAACCCCQzQK+8wOC92z+25DCuav8y3333edq/w4ePNg+++yzuHuLDN7jrlxLCwneawmawyCQ5QK+G84s5+D0EUAAAQQQQAABBBBAAAEEEEAgioDv/IDgPQpyrs9SOR0NeLrnnnu6npIDBgyoUpc90oDgPVKE3wggkC0CvhvObLluzhMBBBBAAAEEEEAAAQQQQAABBBIX8J0fELwnbp/1a+63334ubNfgqKr5q3rsqo0/ffr0aq+N4L1aIlZAAIEMFfDdcGboZXJaCCCAAAIIIIAAAggggAACCCCQgoDv/CBjg/fi4mIrKChIgYpNIwU0eKwGVFVNXpVpeeqpp6otMRPsI9OCd9XenzNnTnB6fCKAAAIxBXw3nDEPxAIEEEAAAQQQQAABBBBAAAEEEMhaAd/5QcYG723atLHCwsKsvVGZeOIqMdOoUSM3CN7vv/+e1Ck2a9bMGjRoUKNtkzpQgisvXbrUSktLE1yb1RBAIJ8FfDec+WzJtSOAAAIIIIAAAggggAACCCCQqwK+84OMDd5VCqWoqChX7yPXlaJASUmJrV69OsW9sDkCCOSDgO+GMx/MuEYEEEAAAQQQQAABBBBAAAEE8k3Ad36QscG7bmzr1q2tRYsW+XaPud5qBJYsWWJlZWXVrMViBBBA4P8EfDecuCKAAAIIIIAAAggggAACCCCAQO4J+M4PMjp41+1r27atqcwJEwISKC8vtwULFoCBAAIIJCzgu+FM+MCsiAACCCCAAAIIIIAAAggggAACWSPgOz/I+OBdd4ae71nz9zOtJ0pP97TysnMEclbAd8OZs1BcGAIIIIAAAggggAACCCCAAAJ5LOA7P8iK4F33WzXf119/fWvatKkVFBTk8V+B/Lr0iooKW7FihS1btoya7vl167laBLwJ+G44vZ0YO0IAAQQQQAABBBBAAAEEEEAAgYwR8J0fZE3wnjF3gBNBAAEEEMgqAd8NZ1ZdPCeLAAIIIIAAAggggAACCCCAAAIJCfjOD2ocvM+aNcvWrl2b0EmzEgIIIIAAAnUl4LvhrKvr4LgIIIAAAggggAACCCCAAAIIIJAegXr16lmnTp3czmfOnOnlIEkH7x06dLDGjRvbnDlzTGVAmBBAAAEEEMhkAYL3TL47nBsCCCCAAAIIIIAAAggggAACdS+g0ubFxcW2atUqmz9/vpcTqnHw/uuvv7ra217Ogp0ggAACCCCQJgGC9zTBslsEEEAAAQQQQAABBBBAAAEEckRA44q2a9fOFi9ebIsWLfJyVUkH702aNLH27dvb8uXLbeHChV5Ogp0ggAACCCCQLgGC93TJsl8EEEAAAQQQQAABBBBAAAEEckNgww03tObNm2dG8C5Sys3kxl8srgIBBBDIZQGC91y+u1wbAggggAACCCCAAAIIIIAAAqkJBGVmtBdf9d21r3rrAomkR0gN6rzT612ETAgggAACmSywrp1zp+ez8czk6+XcEEAAAQQQQAABBBBAAAEEEEAgcYF09HbX0eutCySSDt6DcjPaQWlpqS1dulRfmRBAAAEEEMg4gXXtnDsngveMuzWcEAIIIIAAAggggAACCCCAAAJ1KlBYWGht2rRx5+A7N6hR8K4zIXyv078THBwBBBBAIEEBgvcEoVgNAQQQQAABBBBAAAEEEEAAgTwSCA/dfQ6qGhDWOHjXDlq1amUtW7Z0+1LZGY34WlFREeybTwQQQAABBOpcgOC9zm8BJ4AAAggggAACCCCAAAIIIIBAxgioprtybQ2mqikdobv2m1Lwrh2Eh+/6rQC+vLzcVq9ebWvWrLG1a5OuZKPdMCGAAAIIIOBFgODdCyM7QQABBBBAAAEEEEAAAQQQQCArBerVq2f169e3hg0bWrNmzUKBuy7ml19+sZUrV6blulIO3oOzigzgg/l8IoAAAggggAACCCCAAAIIIIAAAggggAACCCCQKQKrVq1yPd3TFbrrOr0F7wGaAnhNjRs3dv8L5vOJAAIIIIAAAggggAACCCCAAAIIIIAAAggggEBtCyho16SyMprSGbi7A6z7w3vwHuyYTwQQQAABBBBAAAEEEEAAAQQQQAABBBBAAAEE8lGA4D0f7zrXjAACCCCAAAIIIIAAAggggAACCCCAAAIIIJA2AYL3tNGyYwQQQAABBBBAAAEEEEAAAQQQQAABBBBAAIF8FCB4z8e7zjUjgAACCCCAAAIIIIAAAggggAACCCCAAAIIpE2A4D1ttOwYAQQQQAABBBBAAAEEEEAAAQQQQAABBBBAIB8FCN7z8a5zzQgggAACCCCAAAIIIIAAAggggAACCCCAAAJpEyB4TxstO0YAAQQQQAABBBBAAAEEEEAAAQQQQAABBBDIRwGC93y861wzAggggAACCCCAAAIIIIAAAggggAACCCCAQNoECN7TRsuOEUAAAQQQQAABBBBAAAEEEEAAAQQQQAABBPJRgOA9H+8614wAAggggAACCCCAAAIIIIAAAggggAACCCCQNoH/BaN6pH+5/y9gAAAAAElFTkSuQmCC)"
      ],
      "metadata": {
        "id": "F7qrOuzNXXYJ"
      }
    },
    {
      "cell_type": "code",
      "source": [
        "\"\"\"\n",
        "Create a variable of each of these types: int, float, str, bool, list, tuple, dict, set, None\n",
        "\n",
        "Use type() to print the type of each variable\n",
        "\"\"\"\n",
        "\n",
        "age = 35\n",
        "height = 5.11\n",
        "name = \"Santosh\"\n",
        "isMarried = True\n",
        "hobbies = [\"Tennis\", \"Woodworking\", \"Programming\"]\n",
        "fruits = (\"apple\", \"banana\", \"mango\")\n",
        "places_to_visit = {\"europe\": \"italy\", \"usa\": \"new york\"}\n",
        "thisset = {\"age\", 35, \"height\", 5.11}\n",
        "x = None\n",
        "\n",
        "print(type(age))\n",
        "print(type(height))\n",
        "print(type(name))\n",
        "print(type(isMarried))\n",
        "print(type(hobbies))\n",
        "print(type(fruits))\n",
        "print(type(places_to_visit))\n",
        "print(type(thisset))\n",
        "print(type(x))"
      ],
      "metadata": {
        "colab": {
          "base_uri": "https://localhost:8080/"
        },
        "id": "3E1-16bfX422",
        "outputId": "f54fefe5-293e-4785-a790-9df26cf1eb1c"
      },
      "execution_count": null,
      "outputs": [
        {
          "output_type": "stream",
          "name": "stdout",
          "text": [
            "<class 'int'>\n",
            "<class 'float'>\n",
            "<class 'str'>\n",
            "<class 'bool'>\n",
            "<class 'list'>\n",
            "<class 'tuple'>\n",
            "<class 'dict'>\n",
            "<class 'set'>\n",
            "<class 'NoneType'>\n"
          ]
        }
      ]
    },
    {
      "cell_type": "markdown",
      "source": [
        "## Indexing and Accessing elements\n"
      ],
      "metadata": {
        "id": "r1vxYQV-XyVM"
      }
    },
    {
      "cell_type": "code",
      "source": [
        "\"\"\"\n",
        "Print the second hobby from your hobbies list\n",
        "\n",
        "Print the first fruit from your fruits tuple\n",
        "\n",
        "Print the value for key \"europe\" from places_to_visit dictionary\n",
        "\"\"\"\n",
        "hobbies = [\"Tennis\", \"Woodworking\", \"Programming\"]\n",
        "fruits = (\"apple\", \"banana\", \"mango\")\n",
        "places_to_visit = {\"europe\": \"italy\", \"usa\": \"new york\"}\n",
        "\n",
        "print(hobbies[1])\n",
        "print(fruits[0])\n",
        "print(places_to_visit[\"europe\"])\n"
      ],
      "metadata": {
        "colab": {
          "base_uri": "https://localhost:8080/"
        },
        "id": "oIH2jbSHb2br",
        "outputId": "166438e0-7c98-4131-cc6f-be101a54d40c"
      },
      "execution_count": null,
      "outputs": [
        {
          "output_type": "stream",
          "name": "stdout",
          "text": [
            "Woodworking\n",
            "apple\n",
            "italy\n"
          ]
        }
      ]
    },
    {
      "cell_type": "markdown",
      "source": [
        "## Modify mutable types\n",
        "- In Python:\n",
        "\n",
        "  - Lists, dictionaries, and sets are mutable (can be changed)\n",
        "\n",
        "  - Tuples and strings are immutable (cannot be changed)"
      ],
      "metadata": {
        "id": "FKCgHKKMcl_N"
      }
    },
    {
      "cell_type": "code",
      "source": [
        "\"\"\"\n",
        "Add a new hobby to your hobbies list\n",
        "\n",
        "Update the \"usa\" value in your dictionary to \"San Francisco\"\n",
        "\n",
        "Add \"new_item\" to your thisset\n",
        "\"\"\"\n",
        "hobbies = [\"Tennis\", \"Woodworking\", \"Programming\"]\n",
        "places_to_visit = {\"europe\": \"italy\", \"usa\": \"new york\"}\n",
        "thisset = {\"age\", 35, \"height\", 5.11}\n",
        "\n",
        "hobbies.append(\"Driving\")\n",
        "print(hobbies)\n",
        "\n",
        "places_to_visit[\"usa\"] = \"San Francisco\"\n",
        "print(places_to_visit)\n",
        "\n",
        "thisset.add(\"bmi\")\n",
        "print(thisset)"
      ],
      "metadata": {
        "colab": {
          "base_uri": "https://localhost:8080/"
        },
        "id": "nrpTOxxdcql2",
        "outputId": "02613a72-bbee-4859-f2bd-3106a56c2d10"
      },
      "execution_count": null,
      "outputs": [
        {
          "output_type": "stream",
          "name": "stdout",
          "text": [
            "['Tennis', 'Woodworking', 'Programming', 'Driving']\n",
            "{'europe': 'italy', 'usa': 'San Francisco'}\n",
            "{'age', 35, 5.11, 'bmi', 'height'}\n"
          ]
        }
      ]
    },
    {
      "cell_type": "markdown",
      "source": [
        "## Try and fail to change an immutable type\n",
        "- Let’s confirm immutability in action"
      ],
      "metadata": {
        "id": "dkg4o97ufuao"
      }
    },
    {
      "cell_type": "code",
      "source": [
        "\"\"\"\n",
        "Try changing the second fruit in the fruits tuple (e.g. to \"kiwi\")\n",
        "\n",
        "Try assigning a new letter to a character in a string (e.g. name[0] = \"Z\")\n",
        "\"\"\"\n",
        "name = \"Santosh\"\n",
        "fruits = (\"apple\", \"banana\", \"mango\")\n",
        "\n",
        "fruits[1] = \"kiwi\"\n",
        "print(fruits)\n",
        "\n",
        "name[0] = \"Z\"\n",
        "print(name)"
      ],
      "metadata": {
        "colab": {
          "base_uri": "https://localhost:8080/",
          "height": 216
        },
        "id": "hrInTX_8fuGQ",
        "outputId": "a9b8334e-16f8-4390-dc0f-29a83dbc6e08"
      },
      "execution_count": null,
      "outputs": [
        {
          "output_type": "error",
          "ename": "TypeError",
          "evalue": "'tuple' object does not support item assignment",
          "traceback": [
            "\u001b[0;31m---------------------------------------------------------------------------\u001b[0m",
            "\u001b[0;31mTypeError\u001b[0m                                 Traceback (most recent call last)",
            "\u001b[0;32m<ipython-input-20-46929333091a>\u001b[0m in \u001b[0;36m<cell line: 0>\u001b[0;34m()\u001b[0m\n\u001b[1;32m      7\u001b[0m \u001b[0mfruits\u001b[0m \u001b[0;34m=\u001b[0m \u001b[0;34m(\u001b[0m\u001b[0;34m\"apple\"\u001b[0m\u001b[0;34m,\u001b[0m \u001b[0;34m\"banana\"\u001b[0m\u001b[0;34m,\u001b[0m \u001b[0;34m\"mango\"\u001b[0m\u001b[0;34m)\u001b[0m\u001b[0;34m\u001b[0m\u001b[0;34m\u001b[0m\u001b[0m\n\u001b[1;32m      8\u001b[0m \u001b[0;34m\u001b[0m\u001b[0m\n\u001b[0;32m----> 9\u001b[0;31m \u001b[0mfruits\u001b[0m\u001b[0;34m[\u001b[0m\u001b[0;36m1\u001b[0m\u001b[0;34m]\u001b[0m \u001b[0;34m=\u001b[0m \u001b[0;34m\"kiwi\"\u001b[0m\u001b[0;34m\u001b[0m\u001b[0;34m\u001b[0m\u001b[0m\n\u001b[0m\u001b[1;32m     10\u001b[0m \u001b[0mprint\u001b[0m\u001b[0;34m(\u001b[0m\u001b[0mfruits\u001b[0m\u001b[0;34m)\u001b[0m\u001b[0;34m\u001b[0m\u001b[0;34m\u001b[0m\u001b[0m\n\u001b[1;32m     11\u001b[0m \u001b[0;34m\u001b[0m\u001b[0m\n",
            "\u001b[0;31mTypeError\u001b[0m: 'tuple' object does not support item assignment"
          ]
        }
      ]
    },
    {
      "cell_type": "markdown",
      "source": [
        "## Check membership using in"
      ],
      "metadata": {
        "id": "Ba2cPY2dH105"
      }
    },
    {
      "cell_type": "code",
      "source": [
        "\"\"\"\n",
        "Check if \"Tennis\" is in your hobbies list\n",
        "\n",
        "Check if \"apple\" is in your fruits tuple\n",
        "\n",
        "Check if \"europe\" is a key in your places_to_visit dictionary\n",
        "Print True or False for each check\n",
        "\"\"\"\n",
        "hobbies = [\"Tennis\", \"Woodworking\", \"Programming\"]\n",
        "fruits = (\"apple\", \"banana\", \"mango\")\n",
        "places_to_visit = {\"europe\": \"italy\", \"usa\": \"new york\"}\n",
        "\n",
        "print(\"Tennis\" in hobbies)\n",
        "print(\"apple\" in fruits)\n",
        "print(\"europe\" in places_to_visit)"
      ],
      "metadata": {
        "id": "M_R6tEh5H00c",
        "colab": {
          "base_uri": "https://localhost:8080/"
        },
        "outputId": "99755b7c-a8ba-4fed-b007-5e0863ef90a9"
      },
      "execution_count": null,
      "outputs": [
        {
          "output_type": "stream",
          "name": "stdout",
          "text": [
            "True\n",
            "True\n",
            "True\n"
          ]
        }
      ]
    },
    {
      "cell_type": "markdown",
      "source": [
        "## Get the length of data types\n",
        "- The len() function tells you how many items are in a collection."
      ],
      "metadata": {
        "id": "ri4Ur8_6IpSO"
      }
    },
    {
      "cell_type": "code",
      "source": [
        "\"\"\"\n",
        "Print the number of hobbies in your hobbies list\n",
        "\n",
        "Print the number of fruits in your fruits tuple\n",
        "\n",
        "Print the number of places (keys) in your dictionary\n",
        "\"\"\"\n",
        "hobbies = [\"Tennis\", \"Woodworking\", \"Programming\"]\n",
        "fruits = (\"apple\", \"banana\", \"mango\")\n",
        "places_to_visit = {\"europe\": \"italy\", \"usa\": \"new york\"}\n",
        "\n",
        "print(f\"There are {len(hobbies)} hobbies in the hobbies list\")\n",
        "print(f\"There are {len(fruits)} fruits in the fruits tuple\")\n",
        "print(f\"There are {len(places_to_visit)} places in the dictionary\")"
      ],
      "metadata": {
        "colab": {
          "base_uri": "https://localhost:8080/"
        },
        "id": "ydIkkaySIrfy",
        "outputId": "d9aa69de-e28d-4c28-e561-df5b05d82d41"
      },
      "execution_count": null,
      "outputs": [
        {
          "output_type": "stream",
          "name": "stdout",
          "text": [
            "There are 3 hobbies in the hobbies list\n",
            "There are 3 fruits in the fruits tuple\n",
            "There are 2 places in the dictionary\n"
          ]
        }
      ]
    },
    {
      "cell_type": "markdown",
      "source": [
        "## Convert between data types\n",
        "- Python allows flexible type conversions:\n",
        "\n",
        "  - list(), tuple(), set() can convert between types\n",
        "\n",
        "- Notice how:\n",
        "\n",
        "  - The list preserves order (['apple', 'banana', 'mango'])\n",
        "\n",
        "  - The set has no guaranteed order and no duplicates"
      ],
      "metadata": {
        "id": "Pn2IXjb7MdiH"
      }
    },
    {
      "cell_type": "code",
      "source": [
        "\"\"\"\n",
        "Convert your fruits tuple into a list and store it in fruit_list\n",
        "\n",
        "Convert fruit_list to a set and store it in fruit_set\n",
        "\n",
        "Print both new variables and their types\n",
        "\"\"\"\n",
        "fruits = (\"apple\", \"banana\", \"mango\")\n",
        "\n",
        "fruit_list = list(fruits)\n",
        "fruit_set = set(fruit_list)\n",
        "\n",
        "print(fruit_list)\n",
        "print(fruit_set)\n"
      ],
      "metadata": {
        "colab": {
          "base_uri": "https://localhost:8080/"
        },
        "id": "AQR4Bw_qMkSi",
        "outputId": "7edf9e57-bb81-4f62-8612-f8f6cb0a93e1"
      },
      "execution_count": null,
      "outputs": [
        {
          "output_type": "stream",
          "name": "stdout",
          "text": [
            "['apple', 'banana', 'mango']\n",
            "{'apple', 'mango', 'banana'}\n"
          ]
        }
      ]
    },
    {
      "cell_type": "markdown",
      "source": [
        "## Use isinstance() to check type\n",
        "- Sometimes, instead of printing type(), you may want to check a variable’s type directly.\n",
        "\n",
        "- This is a great tool for:\n",
        "\n",
        "  - Type-checking user input\n",
        "\n",
        "  - Writing reusable utility functions\n",
        "\n",
        "  - Validating data before processing"
      ],
      "metadata": {
        "id": "FvRrEUpcNwFY"
      }
    },
    {
      "cell_type": "code",
      "source": [
        "\"\"\"\n",
        "Use isinstance() to check:\n",
        "\n",
        "If hobbies is a list\n",
        "\n",
        "If fruits is a tuple\n",
        "\n",
        "If places_to_visit is a dictionary\n",
        "\n",
        "Print the results (True/False)\n",
        "\"\"\"\n",
        "hobbies = [\"Tennis\", \"Woodworking\", \"Programming\"]\n",
        "fruits = (\"apple\", \"banana\", \"mango\")\n",
        "places_to_visit = {\"europe\": \"italy\", \"usa\": \"new york\"}\n",
        "\n",
        "print(isinstance(hobbies, list))\n",
        "print(isinstance(fruits, tuple))\n",
        "print(isinstance(places_to_visit, dict))\n"
      ],
      "metadata": {
        "colab": {
          "base_uri": "https://localhost:8080/"
        },
        "id": "jTE-lMQ3Nycx",
        "outputId": "f88acae2-514f-45c5-a988-38471522fe80"
      },
      "execution_count": null,
      "outputs": [
        {
          "output_type": "stream",
          "name": "stdout",
          "text": [
            "True\n",
            "True\n",
            "True\n"
          ]
        }
      ]
    },
    {
      "cell_type": "markdown",
      "source": [
        "## Use a dictionary with different data types as values\n",
        "- A dictionary can store mixed data types as values—even lists, other dictionaries, etc."
      ],
      "metadata": {
        "id": "5WYgGuzbOmCG"
      }
    },
    {
      "cell_type": "code",
      "source": [
        "\"\"\"\n",
        "Create a dictionary profile with:\n",
        "\n",
        "\"name\" → your name\n",
        "\n",
        "\"skills\" → a list of 3 skills\n",
        "\n",
        "\"details\" → another dictionary with keys like \"age\" and \"location\"\n",
        "\n",
        "Print the whole dictionary and use type() on one nested item\n",
        "\"\"\"\n",
        "person_profile = {\"name\": \"Santosh\",\n",
        "                  \"skills\": [\"Strategy\", \"Programming\", \"Woodworking\"],\n",
        "                  \"details\": {\"age\": 35, \"location\": \"Perth\"}}\n",
        "\n",
        "#details = {\"age\": 35, \"location\": \"Perth\"}\n",
        "\n",
        "print(person_profile)\n",
        "print(details)\n",
        "print(type(person_profile[\"skills\"]))\n",
        "print(type(person_profile[\"details\"]))"
      ],
      "metadata": {
        "colab": {
          "base_uri": "https://localhost:8080/"
        },
        "id": "yn3659pTOqHN",
        "outputId": "8a0fa0df-aa5a-423d-efb8-a38abb083497"
      },
      "execution_count": null,
      "outputs": [
        {
          "output_type": "stream",
          "name": "stdout",
          "text": [
            "{'name': 'Santosh', 'skills': ['Strategy', 'Programming', 'Woodworking'], 'details': {'age': 35, 'location': 'Perth'}}\n",
            "{'age': 35, 'location': 'Perth'}\n",
            "<class 'list'>\n",
            "<class 'dict'>\n"
          ]
        }
      ]
    },
    {
      "cell_type": "markdown",
      "source": [
        "## Unpack values from a collection\n",
        "- Python allows unpacking values from lists or tuples into variables"
      ],
      "metadata": {
        "id": "SzY46OJOWHDs"
      }
    },
    {
      "cell_type": "code",
      "source": [
        "\"\"\"\n",
        "Create a tuple with 3 values: your first name, your country, and your favorite number\n",
        "\n",
        "Unpack the tuple into 3 variables: first_name, country, fav_number\n",
        "\n",
        "Print a sentence using those variables\n",
        "\"\"\"\n",
        "personal_details = (\"Santosh\", \"Australia\", \"5\")\n",
        "\n",
        "first_name, country, fav_number = personal_details\n",
        "\n",
        "print(f\"Hi, I am {first_name}, living in {country} and my favourite number is {fav_number}\")"
      ],
      "metadata": {
        "colab": {
          "base_uri": "https://localhost:8080/"
        },
        "id": "n-GeJxslWNyv",
        "outputId": "a6d09d24-599a-43bc-94d3-8a497fcb9496"
      },
      "execution_count": null,
      "outputs": [
        {
          "output_type": "stream",
          "name": "stdout",
          "text": [
            "Hi, I am Santosh, living in Australia and my favourite number is 5\n"
          ]
        }
      ]
    },
    {
      "cell_type": "markdown",
      "source": [
        "# Advanced Data Types Series\n",
        "- We'll go through each structure practically, one at a time:\n",
        "\n",
        "  - Lists 🔁 – ordered, mutable, dynamic\n",
        "  - Tuples 🔐 – ordered, immutable, lightweight\n",
        "  - Dictionaries 🗂️ – key-value powerhouse, flexible, efficient\n",
        "\n",
        "- For each, we’ll cover:\n",
        "  - Advanced operations\n",
        "  - Iteration patterns\n",
        "  - Nesting\n",
        "  - Real-world modeling examples\n",
        "  - Pythonic tricks"
      ],
      "metadata": {
        "id": "qTB9XtObZJdP"
      }
    },
    {
      "cell_type": "markdown",
      "source": [
        "## Lists\n",
        "- What we will cover\n",
        "  - Slicing\n",
        "  - Insert / Remove\n",
        "  - Copy vs Reference\n",
        "  - Sorting Techniques\n",
        "  - Nested Lists\n",
        "\n",
        "- With lists you can\n",
        "  - append(), insert(), remove(), pop()\n",
        "  - Access with [index]\n",
        "  - Slice with [start : end]\n",
        "  "
      ],
      "metadata": {
        "id": "NWyUWgbcZ2p8"
      }
    },
    {
      "cell_type": "code",
      "source": [
        "\"\"\"\n",
        "Create a list of 6 colors: \"red\", \"blue\", \"green\", \"yellow\", \"purple\", \"orange\"\n",
        "\n",
        "Print:\n",
        "\n",
        "The first 3 items using slicing\n",
        "\n",
        "The last 2 items\n",
        "\n",
        "Replace the middle two items with \"black\" and \"white\"\n",
        "\n",
        "Print the final list\n",
        "\"\"\"\n",
        "\n",
        "colors = [\"red\", \"blue\", \"green\", \"yellow\", \"purple\", \"orange\"]\n",
        "\n",
        "print(colors[:3])\n",
        "print(colors[-2:])\n",
        "colors[2:4] = [\"black\", \"white\"]\n",
        "print(colors)"
      ],
      "metadata": {
        "colab": {
          "base_uri": "https://localhost:8080/"
        },
        "id": "WNaa-iM2aSY6",
        "outputId": "5340fc72-1d27-4589-dd00-874a28f8b30b"
      },
      "execution_count": null,
      "outputs": [
        {
          "output_type": "stream",
          "name": "stdout",
          "text": [
            "['red', 'blue', 'green']\n",
            "['purple', 'orange']\n",
            "['red', 'blue', 'black', 'white', 'purple', 'orange']\n"
          ]
        }
      ]
    },
    {
      "cell_type": "markdown",
      "source": [
        "## Insert, remove, and pop\n",
        "- Now let’s practice with element-wise list control."
      ],
      "metadata": {
        "id": "3kxHbYITbLNl"
      }
    },
    {
      "cell_type": "code",
      "source": [
        "\"\"\"\n",
        "Start with your current colors list\n",
        "\n",
        "Insert \"teal\" at position 2\n",
        "\n",
        "Remove \"orange\" from the list\n",
        "\n",
        "Pop the last item from the list and store it in popped_color\n",
        "\n",
        "Print the modified list and popped_color\n",
        "\"\"\"\n",
        "colors = [\"red\", \"blue\", \"green\", \"yellow\", \"purple\", \"orange\"]\n",
        "\n",
        "colors.insert(1, \"teal\")\n",
        "print(colors)\n",
        "\n",
        "colors.remove(\"orange\")\n",
        "print(colors)\n",
        "\n",
        "popped_color = colors.pop()\n",
        "print(popped_color)\n",
        "print(colors)\n"
      ],
      "metadata": {
        "colab": {
          "base_uri": "https://localhost:8080/"
        },
        "id": "lpTPPwE9bPdr",
        "outputId": "66b85858-2ed7-41dd-dc1f-607552324218"
      },
      "execution_count": null,
      "outputs": [
        {
          "output_type": "stream",
          "name": "stdout",
          "text": [
            "['red', 'teal', 'blue', 'green', 'yellow', 'purple', 'orange']\n",
            "['red', 'teal', 'blue', 'green', 'yellow', 'purple']\n",
            "purple\n",
            "['red', 'teal', 'blue', 'green', 'yellow']\n"
          ]
        }
      ]
    },
    {
      "cell_type": "markdown",
      "source": [
        "## Copying, Sorting, and Nesting\n",
        "- These are core list skills in real-world programming, especially for:\n",
        "  - Avoiding bugs from shared references\n",
        "  - Presenting data in sorted formats\n",
        "  - Managing tabular or hierarchical data\n",
        "\n",
        "- Concepts we will cover\n",
        "  - copy() vs =\n",
        "  - sort() vs sorted()\n",
        "  - reverse()\n",
        "  - Nested lists (Lists inside lists)\n",
        "  - Accessing and modifying nested elements\n",
        "  "
      ],
      "metadata": {
        "id": "GGNq618cd61w"
      }
    },
    {
      "cell_type": "code",
      "source": [
        "\"\"\"\n",
        "Create a list original = [1, 2, 3]\n",
        "\n",
        "Create ref_copy = original (this creates a reference)\n",
        "\n",
        "Create real_copy = original.copy() (this creates a real copy)\n",
        "\n",
        "Modify ref_copy[0] = 99\n",
        "\n",
        "Print all three lists: original, ref_copy, real_copy\n",
        "\"\"\"\n",
        "\n",
        "original = [1,2,3]\n",
        "ref_copy = original  # This is reference ie. if values in original list changes the ref_copy changes too\n",
        "\n",
        "real_copy = original.copy() # Here the list is actually copied into a new memory location\n",
        "\n",
        "ref_copy[0] = 99\n",
        "print(original)\n",
        "print(ref_copy)\n",
        "print(real_copy)"
      ],
      "metadata": {
        "colab": {
          "base_uri": "https://localhost:8080/"
        },
        "id": "x0Gv5XC8fNWz",
        "outputId": "b5148044-803c-47b4-c266-bec901d6b8b0"
      },
      "execution_count": null,
      "outputs": [
        {
          "output_type": "stream",
          "name": "stdout",
          "text": [
            "[99, 2, 3]\n",
            "[99, 2, 3]\n",
            "[1, 2, 3]\n"
          ]
        }
      ]
    },
    {
      "cell_type": "markdown",
      "source": [
        "## Sorting and reversing\n",
        "\n",
        "- sort() = in-place sorting\n",
        "- reverse() = in-place reversing\n",
        "- sorted() = non-destructive sorting (returns a new list)"
      ],
      "metadata": {
        "id": "0ZcawVNLhXbW"
      }
    },
    {
      "cell_type": "code",
      "source": [
        "\"\"\"\n",
        "Create a list of numbers: nums = [7, 3, 9, 1, 4]\n",
        "\n",
        "Use .sort() to sort nums in place\n",
        "\n",
        "Use .reverse() to reverse it\n",
        "\n",
        "Then use sorted(nums) to get a new sorted list without modifying the original\n",
        "\n",
        "Print all results to observe the differences\n",
        "\"\"\"\n",
        "\n",
        "nums = [7,3,9,1,4]\n",
        "nums.sort()         # In-place list sorting, no need to create a new list\n",
        "print(nums)\n",
        "\n",
        "nums.reverse()      # In-place list reversing, no need to create a new list\n",
        "print(nums)\n",
        "\n",
        "sorted_nums = sorted(nums)\n",
        "print(sorted_nums)\n",
        "print(nums)"
      ],
      "metadata": {
        "colab": {
          "base_uri": "https://localhost:8080/"
        },
        "id": "o2L4nxkBhY67",
        "outputId": "ee59df5a-36a8-4d04-ba2a-deb19bfc828c"
      },
      "execution_count": null,
      "outputs": [
        {
          "output_type": "stream",
          "name": "stdout",
          "text": [
            "[1, 3, 4, 7, 9]\n",
            "[9, 7, 4, 3, 1]\n",
            "[1, 3, 4, 7, 9]\n",
            "[9, 7, 4, 3, 1]\n"
          ]
        }
      ]
    },
    {
      "cell_type": "markdown",
      "source": [
        "## Working with nested lists\n",
        "- Nested lists let you store 2D data—think spreadsheets, grids, or tables\n",
        "- Super useful in real-world work with Excel files, JSON, or databases."
      ],
      "metadata": {
        "id": "xVSZSnu1i0nT"
      }
    },
    {
      "cell_type": "code",
      "source": [
        "\"\"\"\n",
        "Create a list called matrix with these three rows:\n",
        "[1, 2, 3]\n",
        "[4, 5, 6]\n",
        "[7, 8, 9]\n",
        "Print the center value (should be 5)\n",
        "\n",
        "Replace the bottom-right value (9) with 0\n",
        "\n",
        "Print the whole matrix again\n",
        "\"\"\"\n",
        "matrix = [[1,2,3],\n",
        "          [4,5,6],\n",
        "          [7,8,9]]\n",
        "\n",
        "print(matrix[1][1])\n",
        "matrix[-1][-1] = 0\n",
        "print(matrix)\n"
      ],
      "metadata": {
        "colab": {
          "base_uri": "https://localhost:8080/"
        },
        "id": "YfWPSv7mi7ZX",
        "outputId": "34e4e74f-1b36-4d51-ca7f-e9e34f4b155b"
      },
      "execution_count": null,
      "outputs": [
        {
          "output_type": "stream",
          "name": "stdout",
          "text": [
            "5\n",
            "[[1, 2, 3], [4, 5, 6], [7, 8, 0]]\n"
          ]
        }
      ]
    },
    {
      "cell_type": "markdown",
      "source": [
        "## Iteration, Filtering & Comprehensions\n",
        "- We’ll cover:\n",
        "\n",
        "  - Looping through lists\n",
        "  - Enumerating with index\n",
        "  - Filtering with conditions\n",
        "  - List comprehensions (clean, powerful one-liners)\n",
        "  - Using comprehensions with if and if-else"
      ],
      "metadata": {
        "id": "gmOiuIKhln3L"
      }
    },
    {
      "cell_type": "code",
      "source": [
        "\"\"\"\n",
        "Create a list: languages = [\"Python\", \"JavaScript\", \"Go\", \"Rust\"]\n",
        "\n",
        "Loop through the list with a for loop\n",
        "\n",
        "Print each language with the message: \"I want to learn <language>\"\n",
        "\"\"\"\n",
        "languages = [\"Python\", \"JavaScript\", \"Go\", \"Rust\"]\n",
        "for language in languages:\n",
        "  print(f\"I want to learn {language}\")\n"
      ],
      "metadata": {
        "id": "yjfycDn2mWA3",
        "colab": {
          "base_uri": "https://localhost:8080/"
        },
        "outputId": "c42ddd80-75fa-42de-cd3d-79a85c248c87"
      },
      "execution_count": null,
      "outputs": [
        {
          "output_type": "stream",
          "name": "stdout",
          "text": [
            "I want to learn Python\n",
            "I want to learn JavaScript\n",
            "I want to learn Go\n",
            "I want to learn Rust\n"
          ]
        }
      ]
    },
    {
      "cell_type": "markdown",
      "source": [
        "## Loop with index using enumerate()\n",
        "- enumerate() is a built-in function that gives you both the index and the value in a loop.\n",
        "- You're now equipped to build numbered menus, question lists, logs, and more—this is a common, useful real-world pattern"
      ],
      "metadata": {
        "id": "_W_gvE-SVVsd"
      }
    },
    {
      "cell_type": "code",
      "source": [
        "\"\"\"\n",
        "Use the same languages list\n",
        "\n",
        "Loop through it using enumerate()\n",
        "\n",
        "Print the message: \"<index + 1>. <language>\" (e.g., 1. Python)\n",
        "\"\"\"\n",
        "languages = [\"Python\", \"JavaScript\", \"Go\", \"Rust\"]\n",
        "\n",
        "for index, language in enumerate(languages, start=1):\n",
        "    print(f\"{index}. {language}\")"
      ],
      "metadata": {
        "colab": {
          "base_uri": "https://localhost:8080/"
        },
        "id": "2WHPQl79VZH6",
        "outputId": "22368bb9-7c5b-4dc5-c53f-fbd8637b4c73"
      },
      "execution_count": null,
      "outputs": [
        {
          "output_type": "stream",
          "name": "stdout",
          "text": [
            "1. Python\n",
            "2. JavaScript\n",
            "3. Go\n",
            "4. Rust\n"
          ]
        }
      ]
    },
    {
      "cell_type": "markdown",
      "source": [
        "## Filter items with a condition\n",
        "- Let’s take it a step further and filter a list based on a rule.\n",
        "- This pattern is everywhere in real-world logic—filtering user input, database queries, scores, grades, thresholds, validations—you name it."
      ],
      "metadata": {
        "id": "8Us62vP0aHtH"
      }
    },
    {
      "cell_type": "code",
      "source": [
        "\"\"\"\n",
        "Use this list:\n",
        "scores = [72, 85, 43, 90, 66, 58]\n",
        "\n",
        "Loop through the scores\n",
        "\n",
        "Print only the scores greater than or equal to 70, with the message: \"Passed with <score>\"\n",
        "\"\"\"\n",
        "scores = [72, 85, 43, 90, 66, 58]\n",
        "for score in scores:\n",
        "  if score >= 70:\n",
        "    print(f\"Passed with {score}\")\n"
      ],
      "metadata": {
        "colab": {
          "base_uri": "https://localhost:8080/"
        },
        "id": "uGfVvWfdaVGy",
        "outputId": "4b055c54-748a-4d50-b4ce-5acea6611e15"
      },
      "execution_count": null,
      "outputs": [
        {
          "output_type": "stream",
          "name": "stdout",
          "text": [
            "Passed with 72\n",
            "Passed with 85\n",
            "Passed with 90\n"
          ]
        }
      ]
    },
    {
      "cell_type": "markdown",
      "source": [
        "## Create a new filtered list (with condition)\n",
        "- Now let’s store the filtered results into a new list using a traditional loop."
      ],
      "metadata": {
        "id": "tTdMKFLWbLDe"
      }
    },
    {
      "cell_type": "code",
      "source": [
        "\"\"\"\n",
        "Use the same scores list\n",
        "\n",
        "Create an empty list called passed\n",
        "\n",
        "Append only scores >= 70 into passed\n",
        "\n",
        "Print the final passed list\n",
        "\"\"\"\n",
        "scores = [72, 85, 43, 90, 66, 58]\n",
        "passed = []\n",
        "for score in scores:\n",
        "  if score >= 70:\n",
        "    passed.append(score)\n",
        "\n",
        "print(passed)"
      ],
      "metadata": {
        "colab": {
          "base_uri": "https://localhost:8080/"
        },
        "id": "LLHpLEw-bNq_",
        "outputId": "8c8470b3-66be-498a-938d-ff7058bd993d"
      },
      "execution_count": null,
      "outputs": [
        {
          "output_type": "stream",
          "name": "stdout",
          "text": [
            "[72, 85, 90]\n"
          ]
        }
      ]
    },
    {
      "cell_type": "markdown",
      "source": [
        "## List comprehension with a condition\n",
        "- List comprehensions are Python’s elegant way of building lists in one readable line."
      ],
      "metadata": {
        "id": "o1tSeySedR4f"
      }
    },
    {
      "cell_type": "code",
      "source": [
        "\"\"\"\n",
        "Use the same scores list\n",
        "\n",
        "Create a new list called top_scores using a list comprehension\n",
        "\n",
        "Only include scores greater than 80\n",
        "\n",
        "Print top_scores\n",
        "\"\"\"\n",
        "scores = [72, 85, 43, 90, 66, 58]\n",
        "top_scores = [score for score in scores if score > 80]\n",
        "print(top_scores)"
      ],
      "metadata": {
        "colab": {
          "base_uri": "https://localhost:8080/"
        },
        "id": "E_vmVQOmdUj-",
        "outputId": "0f7d77bb-b5cf-44b0-c06c-4adc356f414c"
      },
      "execution_count": null,
      "outputs": [
        {
          "output_type": "stream",
          "name": "stdout",
          "text": [
            "[85, 90]\n"
          ]
        }
      ]
    },
    {
      "cell_type": "markdown",
      "source": [
        "## Real-World List Challenge\n",
        "- You are building a mini-dashboard to process exam scores\n"
      ],
      "metadata": {
        "id": "fQeTQF8pkyMF"
      }
    },
    {
      "cell_type": "code",
      "source": [
        "\"\"\"\n",
        "Combine student names and scores into a list of tuples\n",
        "Format: (\"Alice\", 82), etc.\n",
        "\n",
        "Filter only students who scored >= 70\n",
        "Store them in a list called passed_students\n",
        "\n",
        "Create a ranked list of passed students, sorted from highest to lowest score\n",
        "\n",
        "Print the ranked results as:\n",
        "1. Charlie - 91\n",
        "2. Alice - 82\n",
        "3. Ethan - 76\n",
        "\n",
        "\"\"\"\n",
        "\n",
        "students = [\"Alice\", \"Bob\", \"Charlie\", \"Diana\", \"Ethan\"]\n",
        "scores = [82, 67, 91, 45, 76]\n",
        "\n",
        "students_scores = list(zip(students, scores))\n",
        "\n",
        "passed_students = list(filter(lambda student_score: student_score[1] >= 70, students_scores))   # You can add a constraint [:<value>] at the end to display top 5/10 results\n",
        "\n",
        "passed_students.sort(key=lambda x: x[1], reverse=True)\n",
        "\n",
        "for index, (name, score) in enumerate(passed_students, start=1):\n",
        "  print(f\"{index}. {name} - {score}\")\n",
        "\n",
        "failed_students = len(students_scores) - len(passed_students)\n",
        "print(f\"{failed_students} students failed the exam\")\n"
      ],
      "metadata": {
        "colab": {
          "base_uri": "https://localhost:8080/"
        },
        "id": "YNnttKurk7bV",
        "outputId": "dbd38c28-dc1b-43e4-c6f3-c1003f10fc76"
      },
      "execution_count": null,
      "outputs": [
        {
          "output_type": "stream",
          "name": "stdout",
          "text": [
            "1. Charlie - 91\n",
            "2. Alice - 82\n",
            "3. Ethan - 76\n",
            "2 students failed the exam\n"
          ]
        }
      ]
    },
    {
      "cell_type": "code",
      "source": [
        "\"\"\"\n",
        "Combine cart_items and cart_prices into a list of tuples\n",
        "\n",
        "Print a receipt-style summary showing each item and price\n",
        "\n",
        "Calculate and print the total price\n",
        "\n",
        "Add \"Belt\" priced at 10 to the cart\n",
        "\n",
        "Print the updated total and the full updated cart\n",
        "\"\"\"\n",
        "\n",
        "cart_items = [\"Shirt\", \"Pants\", \"Shoes\", \"Socks\", \"Hat\"]\n",
        "cart_prices = [25, 40, 60, 5, 15]\n",
        "\n",
        "cart_details = list(zip(cart_items, cart_prices))\n",
        "\n",
        "print(\"Cart Details:\")\n",
        "for index, (item, price) in enumerate(cart_details, start=1):\n",
        "  print(f\"{index}. {item}\\t{price}\")\n",
        "\n",
        "total_cart_value = sum(list(map(lambda x: x[1], cart_details)))\n",
        "print(f\"The total cart value is ${total_cart_value}\")\n",
        "\n",
        "cart_details.append((\"Belt\", 10))\n",
        "\n",
        "total_cart_value = sum(list(map(lambda x: x[1], cart_details)))\n",
        "print(f\"The total updated cart value is ${total_cart_value}\")"
      ],
      "metadata": {
        "colab": {
          "base_uri": "https://localhost:8080/"
        },
        "id": "ekQ0dSRBsaHB",
        "outputId": "ac942aba-50b5-4ad8-ad03-8112d0c2922f"
      },
      "execution_count": null,
      "outputs": [
        {
          "output_type": "stream",
          "name": "stdout",
          "text": [
            "Cart Details:\n",
            "1. Shirt\t25\n",
            "2. Pants\t40\n",
            "3. Shoes\t60\n",
            "4. Socks\t5\n",
            "5. Hat\t15\n",
            "The total cart value is $145\n",
            "The total updated cart value is $155\n"
          ]
        }
      ]
    },
    {
      "cell_type": "code",
      "source": [
        "\"\"\"\n",
        "You’re building a weekly expense tracker. Here’s your data:\n",
        "\n",
        "expenses = [\n",
        "    (\"Groceries\", 80),\n",
        "    (\"Utilities\", 150),\n",
        "    (\"Coffee\", 6),\n",
        "    (\"Dining Out\", 45),\n",
        "    (\"Internet\", 60),\n",
        "    (\"Gym\", 30)\n",
        "]\n",
        "\n",
        "Filter and create a list of essential expenses (>= $50)\n",
        "\n",
        "Calculate and print the total essential spend\n",
        "\n",
        "Print the percentage of essential spending vs total spend\n",
        "\n",
        "Formula: (essential / total) * 100\n",
        "\n",
        "Show a summary like:\n",
        "Essentials:\n",
        "- Groceries: $80\n",
        "- Utilities: $150\n",
        "- Internet: $60\n",
        "Total Essentials: $290\n",
        "Essential Spend: 69.0% of total\n",
        "\n",
        "\"\"\"\n",
        "\n",
        "expenses = [\n",
        "    (\"Groceries\", 80),\n",
        "    (\"Utilities\", 150),\n",
        "    (\"Coffee\", 6),\n",
        "    (\"Dining Out\", 45),\n",
        "    (\"Internet\", 60),\n",
        "    (\"Gym\", 30)\n",
        "]\n",
        "\n",
        "essential_expenses = list(filter(lambda expense: expense[1] >= 50, expenses))\n",
        "print(essential_expenses)\n",
        "total_essential_spend = sum(list(map(lambda x: x[1], essential_expenses)))\n",
        "\n",
        "total_spend = sum(list(map(lambda x:x[1], expenses)))\n",
        "\n",
        "percent_essential_spend = (total_essential_spend / total_spend) * 100\n",
        "\n",
        "\n",
        "print(\"Essentials\")\n",
        "for index, (name, cost) in enumerate(essential_expenses, start=1):\n",
        "  print(f\"{index}. {name} : {cost}\")\n",
        "print(f\"Total Essentials: ${total_essential_spend}\")\n",
        "print(f\"Essential Spend: {percent_essential_spend:.2f}% of total\")\n"
      ],
      "metadata": {
        "colab": {
          "base_uri": "https://localhost:8080/"
        },
        "id": "wtpbr_J1YGf9",
        "outputId": "6975f59e-d4d4-4c05-8065-7b59ce761fa1"
      },
      "execution_count": 6,
      "outputs": [
        {
          "output_type": "stream",
          "name": "stdout",
          "text": [
            "[('Groceries', 80), ('Utilities', 150), ('Internet', 60)]\n",
            "Essentials\n",
            "1. Groceries : 80\n",
            "2. Utilities : 150\n",
            "3. Internet : 60\n",
            "Total Essentials: $290\n",
            "Essential Spend: 78.17% of total\n"
          ]
        }
      ]
    },
    {
      "cell_type": "code",
      "source": [
        "\"\"\"\n",
        "contacts = [\n",
        "    (\"Alice\", \"alice@email.com\"),\n",
        "    (\"Bob\", \"bob@email.com\"),\n",
        "    (\"Charlie\", \"charlie@email.com\"),\n",
        "    (\"Diana\", \"diana@email.com\")\n",
        "]\n",
        "\n",
        "Ask the user to input a name (e.g., \"bob\"), and make the search case-insensitive\n",
        "\n",
        "If found, print:\n",
        "Contact found: Bob - bob@email.com\n",
        "If not found, print:\n",
        "\n",
        "Contact not found.\n",
        "📝 Optional: you can hard-code the search name for now like:\n",
        "\n",
        "search_name = \"diana\"\n",
        "Your contact directory awaits! ☎️\n",
        "\n",
        "\n",
        "\"\"\"\n",
        "\n",
        "contacts = [\n",
        "    (\"Alice\", \"alice@email.com\"),\n",
        "    (\"Bob\", \"bob@email.com\"),\n",
        "    (\"Charlie\", \"charlie@email.com\"),\n",
        "    (\"Diana\", \"diana@email.com\")\n",
        "]\n",
        "\n",
        "\n",
        "while(1):\n",
        "  name = input(\"Input a name to check if available (type 'quit' to quit): \")\n",
        "\n",
        "  found = list(filter(lambda x:  x[0].lower() == name.lower(), contacts))\n",
        "  for index, (name, email) in enumerate(found):\n",
        "    print(f\"Contact found: {name} - {email}\")\n",
        "\n",
        "  if not found:\n",
        "    print(\"Contact not found!\")\n",
        "\n",
        "\n",
        "  if(name.lower() == \"quit\"):\n",
        "    print(\"Thank you for using this service.\")\n",
        "    break\n",
        "\n"
      ],
      "metadata": {
        "colab": {
          "base_uri": "https://localhost:8080/"
        },
        "id": "pGw75_DGpi3i",
        "outputId": "d9367fa9-f958-4a58-d2c4-2d3c0974c159"
      },
      "execution_count": 27,
      "outputs": [
        {
          "output_type": "stream",
          "name": "stdout",
          "text": [
            "Input a name to check if available (type 'quit' to quit): john\n",
            "Contact not found!\n",
            "Input a name to check if available (type 'quit' to quit): alice\n",
            "Contact found: Alice - alice@email.com\n",
            "Input a name to check if available (type 'quit' to quit): bob\n",
            "Contact found: Bob - bob@email.com\n",
            "Input a name to check if available (type 'quit' to quit): charlie\n",
            "Contact found: Charlie - charlie@email.com\n",
            "Input a name to check if available (type 'quit' to quit): diana\n",
            "Contact found: Diana - diana@email.com\n",
            "Input a name to check if available (type 'quit' to quit): santosh\n",
            "Contact not found!\n",
            "Input a name to check if available (type 'quit' to quit): quit\n",
            "Contact not found!\n",
            "Thank you for using this service.\n"
          ]
        }
      ]
    },
    {
      "cell_type": "code",
      "source": [
        "\"\"\"\n",
        "movies = [\n",
        "    (\"Inception\", 8.8),\n",
        "    (\"The Batman\", 7.9),\n",
        "    (\"Super Mario Bros\", 6.1),\n",
        "    (\"Oppenheimer\", 9.2),\n",
        "    (\"The Flash\", 6.5),\n",
        "    (\"Top Gun: Maverick\", 8.5)\n",
        "]\n",
        "\n",
        "\n",
        "Filter and display only movies with a rating of 8.0 or higher\n",
        "\n",
        "Sort the filtered list descending by rating\n",
        "\n",
        "Print the ranked list like:\n",
        "1. Oppenheimer (9.2)\n",
        "2. Inception (8.8)\n",
        "3. Top Gun: Maverick (8.5)\n",
        "(Bonus) Print the average rating across all movies in the list\n",
        "\n",
        "This challenge ties together:\n",
        "Filtering\n",
        "Sorting\n",
        "Unpacking\n",
        "Formatting\n",
        "Aggregation\n",
        "\n",
        "\"\"\"\n",
        "\n",
        "movies = [\n",
        "    (\"Inception\", 8.8),\n",
        "    (\"The Batman\", 7.9),\n",
        "    (\"Super Mario Bros\", 6.1),\n",
        "    (\"Oppenheimer\", 9.2),\n",
        "    (\"The Flash\", 6.5),\n",
        "    (\"Top Gun: Maverick\", 8.5)\n",
        "]\n",
        "\n",
        "\n",
        "high_rank_movies = list(filter(lambda movie: movie[1] > 8, movies))\n",
        "\n",
        "high_rank_movies.sort(key= lambda x: x[1], reverse=True)\n",
        "\n",
        "print(\"Top 3 Movies:\")\n",
        "for index, (movie, rank) in enumerate(high_rank_movies):\n",
        "  print(f\"{index}. {movie} ({rank})\")\n",
        "\n",
        "avg_rating = sum(list(map(lambda x: x[1], movies))) / len(movies)\n",
        "print(f\"The average ratings of all movies: {avg_rating:.1f}\")\n"
      ],
      "metadata": {
        "colab": {
          "base_uri": "https://localhost:8080/"
        },
        "id": "kNTEiKt4XXja",
        "outputId": "362c82f5-d5ec-46f4-ca95-cbb20e2a3aa7"
      },
      "execution_count": 14,
      "outputs": [
        {
          "output_type": "stream",
          "name": "stdout",
          "text": [
            "Top 3 Movies:\n",
            "0. Oppenheimer (9.2)\n",
            "1. Inception (8.8)\n",
            "2. Top Gun: Maverick (8.5)\n",
            "The average ratings of all movies: 7.8\n"
          ]
        }
      ]
    },
    {
      "cell_type": "code",
      "source": [
        "\"\"\"\n",
        "inventory = [\n",
        "    (\"T-Shirts\", 12),\n",
        "    (\"Jeans\", 5),\n",
        "    (\"Sneakers\", 2),\n",
        "    (\"Socks\", 20),\n",
        "    (\"Hoodies\", 0),\n",
        "    (\"Caps\", 4),\n",
        "    (\"Jackets\", 3)\n",
        "]\n",
        "\n",
        "\n",
        "Filter and display only items with stock <= 5\n",
        "These are your low stock items\n",
        "\n",
        "Print them in a list like:\n",
        "Low Stock Alert:\n",
        "- Jeans: 5 left\n",
        "- Sneakers: 2 left\n",
        "...\n",
        "Count how many items are low on stock and print a message:\n",
        "\n",
        "⚠️ 5 items need restocking.\n",
        "(Bonus) Print the total number of units currently in stock across all products\n",
        "\n",
        "\n",
        "\"\"\"\n",
        "\n",
        "inventory = [\n",
        "    (\"T-Shirts\", 12),\n",
        "    (\"Jeans\", 5),\n",
        "    (\"Sneakers\", 2),\n",
        "    (\"Socks\", 20),\n",
        "    (\"Hoodies\", 0),\n",
        "    (\"Caps\", 4),\n",
        "    (\"Jackets\", 3)\n",
        "]\n",
        "\n",
        "filtered_stock_items = list(filter(lambda item: item[1] <= 5, inventory))\n",
        "print(filtered_stock_items)\n",
        "\n",
        "print(\"Low stock alerts:\")\n",
        "for index, (item, quantity) in enumerate(filtered_stock_items):\n",
        "  print(f\"- {item}: {quantity} left\")\n",
        "\n",
        "print(f\"{len(filtered_stock_items)} items need restocking\")\n",
        "\n",
        "total_inventory_qty = sum(list(map(lambda x: x[1], inventory)))\n",
        "print(f\"There are {total_inventory_qty} units in stock across all products\")\n"
      ],
      "metadata": {
        "colab": {
          "base_uri": "https://localhost:8080/"
        },
        "id": "dvKvnRREhVPJ",
        "outputId": "d0f405a6-cbf8-4585-ec18-c6c260896241"
      },
      "execution_count": 2,
      "outputs": [
        {
          "output_type": "stream",
          "name": "stdout",
          "text": [
            "[('Jeans', 5), ('Sneakers', 2), ('Hoodies', 0), ('Caps', 4), ('Jackets', 3)]\n",
            "Low stock alerts:\n",
            "- Jeans: 5 left\n",
            "- Sneakers: 2 left\n",
            "- Hoodies: 0 left\n",
            "- Caps: 4 left\n",
            "- Jackets: 3 left\n",
            "5 items need restocking\n",
            "There are 46 units in stock across all products\n"
          ]
        }
      ]
    },
    {
      "cell_type": "code",
      "source": [
        "\"\"\"\n",
        "sales_data = [\n",
        "    (\"Alice\", \"Team A\", 12000),\n",
        "    (\"Bob\", \"Team B\", 9500),\n",
        "    (\"Charlie\", \"Team A\", 13500),\n",
        "    (\"Diana\", \"Team B\", 10500),\n",
        "    (\"Ethan\", \"Team A\", 11000),\n",
        "    (\"Fiona\", \"Team B\", 8000),\n",
        "]\n",
        "\n",
        "\n",
        "Split the data into two lists: team_a and team_b based on the team name\n",
        "Each list should contain tuples like: (\"Alice\", 12000)\n",
        "\n",
        "Calculate the average sales for each team\n",
        "\n",
        "Use the formula: sum of sales / number of people\n",
        "\n",
        "Determine and print which team performed better\n",
        "\n",
        "Show a summary like:\n",
        "Team A Average: $12166.67\n",
        "Team B Average: $9333.33\n",
        "🏆 Team A performed better!\n",
        "💡 Bonus: Format the average to 2 decimal places\n",
        "\n",
        "\n",
        "\"\"\"\n",
        "\n",
        "sales_data = [\n",
        "    (\"Alice\", \"Team A\", 12000),\n",
        "    (\"Bob\", \"Team B\", 9500),\n",
        "    (\"Charlie\", \"Team A\", 13500),\n",
        "    (\"Diana\", \"Team B\", 10500),\n",
        "    (\"Ethan\", \"Team A\", 11000),\n",
        "    (\"Fiona\", \"Team B\", 8000),\n",
        "]\n",
        "\n",
        "\n",
        "team_a = list(filter(lambda team: team[1] == \"Team A\", sales_data))\n",
        "team_b = list(filter(lambda team: team[1] == \"Team B\", sales_data))\n",
        "\n",
        "avg_sales_team_a = sum(list(map(lambda x: x[2], team_a))) / len(team_a)\n",
        "avg_sales_team_b = sum(list(map(lambda x: x[2], team_b))) / len(team_b)\n",
        "print(f\"Team A Average: {avg_sales_team_a:.2f}\")\n",
        "print(f\"Team B Average: {avg_sales_team_b:.2f}\")\n",
        "if(avg_sales_team_a < avg_sales_team_b):\n",
        "  print(\"Team B performed better!\")\n",
        "else:\n",
        "  print(\"Team A performed better!\")\n"
      ],
      "metadata": {
        "colab": {
          "base_uri": "https://localhost:8080/"
        },
        "id": "9BxvM6IZCUmt",
        "outputId": "f01bce98-12b3-4c18-c08f-4db0326b937b"
      },
      "execution_count": 18,
      "outputs": [
        {
          "output_type": "stream",
          "name": "stdout",
          "text": [
            "Team A Average: 12166.67\n",
            "Team B Average: 9333.33\n",
            "Team A performed better!\n"
          ]
        }
      ]
    },
    {
      "cell_type": "markdown",
      "source": [
        "## What is List Comprehension\n",
        "\n",
        "Syntax:\n",
        "\n",
        "```python\n",
        "[expression for item in iterable if condition]\n",
        "```\n",
        "\n",
        "Example:\n",
        "\n",
        "\n",
        "```python\n",
        "nums = [1,2,3,4,5]\n",
        "squares = [n * n for n in nums]\n",
        "\n",
        "# Output: [1,4,9,16,25]\n",
        "```\n",
        "\n",
        "\n",
        "\n",
        "\n"
      ],
      "metadata": {
        "id": "0LuOvcqfLjew"
      }
    },
    {
      "cell_type": "code",
      "source": [
        "\"\"\"\n",
        "Create a list of temperatures in Celsius:\n",
        "temps_c = [20, 25, 30, 15, 10]\n",
        "\n",
        "Convert them to Fahrenheit using a list comprehension\n",
        "Formula: F = C * 1.8 + 32\n",
        "\n",
        "Print the list of Fahrenheit values\n",
        "\n",
        "\"\"\"\n",
        "temps_c = [20, 25, 30, 15, 10]\n",
        "\n",
        "temps_f = [temp * 1.8 + 32 for temp in temps_c]\n",
        "print(temps_f)\n"
      ],
      "metadata": {
        "colab": {
          "base_uri": "https://localhost:8080/"
        },
        "id": "ovGfjJEXMOTy",
        "outputId": "d73f750a-0536-46e3-c0f4-cba7e6e3b05a"
      },
      "execution_count": 22,
      "outputs": [
        {
          "output_type": "stream",
          "name": "stdout",
          "text": [
            "[68.0, 77.0, 86.0, 59.0, 50.0]\n"
          ]
        }
      ]
    },
    {
      "cell_type": "code",
      "source": [
        "\"\"\"\n",
        "You’re displaying prices for an international e-commerce site. The base prices are in USD, and you need to show them in INR.\n",
        "\n",
        "usd_prices = [5.99, 15.49, 23.00, 8.75, 12.10]\n",
        "\n",
        "Convert each price from USD to INR using the exchange rate 1 USD = 83.2 INR\n",
        "\n",
        "Round each INR price to 2 decimal places\n",
        "\n",
        "Print the list of converted INR prices\n",
        "\"\"\"\n",
        "\n",
        "usd_prices = [5.99, 15.49, 23.00, 8.75, 12.10]\n",
        "\n",
        "inr_prices = [round(price * 83.2, 2) for price in usd_prices]\n",
        "print(f\"List of converted prices from USD to INR: {inr_prices}\")"
      ],
      "metadata": {
        "colab": {
          "base_uri": "https://localhost:8080/"
        },
        "id": "v-QQd3BIJRTn",
        "outputId": "89252390-04c8-4cc3-88b4-9195921a8d4b"
      },
      "execution_count": 4,
      "outputs": [
        {
          "output_type": "stream",
          "name": "stdout",
          "text": [
            "List of converted prices from USD to INR: [498.37, 1288.77, 1913.6, 728.0, 1006.72]\n"
          ]
        }
      ]
    },
    {
      "cell_type": "code",
      "source": [
        "\"\"\"\n",
        "scores = [65, 89, 45, 72, 51, 99, 33]\n",
        "\n",
        "\n",
        "Use a list comprehension to return a list of scores greater than or equal to 60\n",
        "\n",
        "Store the result in passing_scores\n",
        "\n",
        "Print the list\n",
        "\"\"\"\n",
        "\n",
        "scores = [65, 89, 45, 72, 51, 99, 33]\n",
        "\n",
        "passing_scores = [score for score in scores if score >= 60]\n",
        "\n",
        "print(f\"The passing scores are: {passing_scores}\")"
      ],
      "metadata": {
        "colab": {
          "base_uri": "https://localhost:8080/"
        },
        "id": "vpSxqMMBLAjw",
        "outputId": "6c6d0c1b-b768-446b-d72c-34ba0d5d8741"
      },
      "execution_count": 5,
      "outputs": [
        {
          "output_type": "stream",
          "name": "stdout",
          "text": [
            "The passing scores are: [65, 89, 72, 99]\n"
          ]
        }
      ]
    },
    {
      "cell_type": "code",
      "source": [
        "\"\"\"\n",
        "products = [\"Shirt\", \"Mug\", \"Laptop\", \"Pen\", \"Notebook\", \"Bag\"]\n",
        "\n",
        "\n",
        "Use a list comprehension to select product names with 4 characters or fewer\n",
        "\n",
        "Store the result in short_products\n",
        "\n",
        "Print the list\n",
        "\"\"\"\n",
        "products = [\"Shirt\", \"Mug\", \"Laptop\", \"Pen\", \"Notebook\", \"Bag\"]\n",
        "\n",
        "short_products = [product for product in products if len(product) <= 4]\n",
        "\n",
        "print(f\"The short products are: {short_products}\")\n"
      ],
      "metadata": {
        "colab": {
          "base_uri": "https://localhost:8080/"
        },
        "id": "cZVO8UaaLyEO",
        "outputId": "67ef618c-5d24-497b-a150-c75d88ece8e3"
      },
      "execution_count": 7,
      "outputs": [
        {
          "output_type": "stream",
          "name": "stdout",
          "text": [
            "The short products are: ['Mug', 'Pen', 'Bag']\n"
          ]
        }
      ]
    },
    {
      "cell_type": "code",
      "source": [
        "\"\"\"\n",
        "prices = [1200, 3500, 999, 780, 4100, 1999]\n",
        "\n",
        "Use a list comprehension to return prices under ₹2000\n",
        "\n",
        "Store them in affordable_prices\n",
        "\n",
        "Print the result like:\n",
        "Affordable options: [1200, 999, 780, 1999]\n",
        "\n",
        "\"\"\"\n",
        "prices = [1200, 3500, 999, 780, 4100, 1999]\n",
        "\n",
        "affordable_prices = [price for price in prices if price < 2000]\n",
        "\n",
        "print(f\"Affordable options: {affordable_prices}\")\n"
      ],
      "metadata": {
        "colab": {
          "base_uri": "https://localhost:8080/"
        },
        "id": "8XLEidofMVZM",
        "outputId": "64085791-aa37-4125-b1da-3986cb9530c0"
      },
      "execution_count": 8,
      "outputs": [
        {
          "output_type": "stream",
          "name": "stdout",
          "text": [
            "Affordable options: [1200, 999, 780, 1999]\n"
          ]
        }
      ]
    },
    {
      "cell_type": "markdown",
      "source": [
        "## Exercises for all the things we have learnt so far"
      ],
      "metadata": {
        "id": "e66fvIV_NpwN"
      }
    },
    {
      "cell_type": "code",
      "source": [
        "\"\"\"\n",
        "Mini Challenge: Fitness Tracker - Calories Report\n",
        "\n",
        "You're building a fitness app that tracks calories burned for different workouts.\n",
        "\n",
        "workouts = [\n",
        "    (\"Running\", 400),\n",
        "    (\"Walking\", 150),\n",
        "    (\"Cycling\", 550),\n",
        "    (\"Yoga\", 120),\n",
        "    (\"HIIT\", 700),\n",
        "    (\"Swimming\", 650),\n",
        "    (\"Stretching\", 90)\n",
        "]\n",
        "\n",
        "Filter out workouts that burned 300 calories or more\n",
        "Store the result in effective_workouts\n",
        "\n",
        "Extract just the workout names using a list comprehension\n",
        "\n",
        "Print the effective workouts like:\n",
        "Effective workouts (300+ cal): ['Running', 'Cycling', 'HIIT', 'Swimming']\n",
        "\n",
        "(Bonus) Calculate the total calories burned for effective workouts\n",
        "Format the result like:\n",
        "Total calories burned in effective workouts: 2300\n",
        "\n",
        "\n",
        "\"\"\"\n",
        "\n",
        "workouts = [\n",
        "    (\"Running\", 400),\n",
        "    (\"Walking\", 150),\n",
        "    (\"Cycling\", 550),\n",
        "    (\"Yoga\", 120),\n",
        "    (\"HIIT\", 700),\n",
        "    (\"Swimming\", 650),\n",
        "    (\"Stretching\", 90)\n",
        "]\n",
        "\n",
        "\n",
        "effective_workouts = [(workout, calorie) for workout, calorie in workouts if calorie >= 300]\n",
        "# print(effective_workouts)\n",
        "\n",
        "workout_list = [workout for workout, calorie in effective_workouts]\n",
        "print(f\"Effective workouts (300+ cal): {workout_list}\")\n",
        "\n",
        "total_effective_calories = sum(list(map(lambda calorie: calorie[1], effective_workouts)))\n",
        "print(f\"Total calories burned in effective workouts: {total_effective_calories}\")\n"
      ],
      "metadata": {
        "colab": {
          "base_uri": "https://localhost:8080/"
        },
        "id": "8XYfxMP8Nwdo",
        "outputId": "2bafba8f-8825-4c77-a15e-ee86a382144a"
      },
      "execution_count": 13,
      "outputs": [
        {
          "output_type": "stream",
          "name": "stdout",
          "text": [
            "Effective workouts (300+ cal): ['Running', 'Cycling', 'HIIT', 'Swimming']\n",
            "Total calories burned in effective workouts: 2300\n"
          ]
        }
      ]
    },
    {
      "cell_type": "markdown",
      "source": [
        "## List Comprehensions - if-else, Nested Loops and Flattening\n",
        "\n",
        "- Basic Syntax\n",
        "\n",
        "\n",
        "\n",
        "```python\n",
        "[expression for item in iterable if condition]\n",
        "```\n",
        "\n",
        "- With if-else inside\n",
        "\n",
        "\n",
        "\n",
        "```python\n",
        "[true_val if condition else false_val for item in iterable]\n",
        "\n",
        "```\n",
        "\n",
        "- This structure is super useful for labeling, categorizing, color-coding, tagging data, or setting default values in batch processing.\n",
        "\n",
        "- \"if\" -> [x for x in data if x > 0] -> This filters the values\n",
        "\n",
        "- \"if-else -> [\"Pass\" if x >=60 else \"Fail\" for x in scores] -> Transforms all values with conditions\n",
        "\n"
      ],
      "metadata": {
        "id": "o2GMiSb6g5Vt"
      }
    },
    {
      "cell_type": "code",
      "source": [
        "\"\"\"\n",
        "scores = [82, 59, 91, 45, 73]\n",
        "\n",
        "Use a list comprehension with if-else to return:\n",
        "\n",
        "\"Pass\" if score >= 60\n",
        "\n",
        "\"Fail\" otherwise\n",
        "\n",
        "Store the result in status_list\n",
        "\n",
        "Print the result like:\n",
        "['Pass', 'Fail', 'Pass', 'Fail', 'Pass']\n",
        "\n",
        "\"\"\"\n",
        "scores = [82, 59, 91, 45, 73]\n",
        "\n",
        "status_list = [\"Pass\" if score >= 60 else \"Fail\" for score in scores]\n",
        "\n",
        "print(status_list)\n"
      ],
      "metadata": {
        "colab": {
          "base_uri": "https://localhost:8080/"
        },
        "id": "S1r7ZOf9hCJB",
        "outputId": "81b6aff6-62e6-488a-9bfc-4f2fafcb73a5"
      },
      "execution_count": 15,
      "outputs": [
        {
          "output_type": "stream",
          "name": "stdout",
          "text": [
            "['Pass', 'Fail', 'Pass', 'Fail', 'Pass']\n"
          ]
        }
      ]
    },
    {
      "cell_type": "code",
      "source": [
        "\"\"\"\n",
        "Tag items as \"In Stock\" or \"Out of Stock\"\n",
        "\n",
        "inventory = [12, 0, 5, 0, 8]\n",
        "\n",
        "Use a list comprehension with if-else\n",
        "\n",
        "Return \"In Stock\" if quantity > 0, else \"Out of Stock\"\n",
        "\n",
        "Store the result in stock_status and print it\n",
        "\"\"\"\n",
        "\n",
        "inventory = [12, 0, 5, 0, 8]\n",
        "\n",
        "stock_status = [\"In Stock\" if quantity > 0 else \"Out of Stock\" for quantity in inventory]\n",
        "\n",
        "print(stock_status)"
      ],
      "metadata": {
        "colab": {
          "base_uri": "https://localhost:8080/"
        },
        "id": "jkXyNwvRmxGR",
        "outputId": "f78613d0-8156-4b5e-d89d-e197a5b8cb11"
      },
      "execution_count": 16,
      "outputs": [
        {
          "output_type": "stream",
          "name": "stdout",
          "text": [
            "['In Stock', 'Out of Stock', 'In Stock', 'Out of Stock', 'In Stock']\n"
          ]
        }
      ]
    },
    {
      "cell_type": "code",
      "source": [
        "\"\"\"\n",
        "Categorise numbers as Even/Odd\n",
        "\n",
        "numbers = [10, 3, 6, 7, 2, 9]\n",
        "\n",
        "Use a list comprehension with if-else\n",
        "\n",
        "Return \"Even\" if the number is even, \"Odd\" if not\n",
        "\n",
        "Print the result\n",
        "\"\"\"\n",
        "\n",
        "numbers = [10, 3, 6, 7, 2, 9]\n",
        "\n",
        "check_even_odd = [\"Even\" if number % 2 == 0 else \"Odd\" for number in numbers]\n",
        "\n",
        "print(check_even_odd)\n"
      ],
      "metadata": {
        "colab": {
          "base_uri": "https://localhost:8080/"
        },
        "id": "nHfZvbIRnu73",
        "outputId": "f6cf21ce-481c-4649-a253-8516c8a37add"
      },
      "execution_count": 17,
      "outputs": [
        {
          "output_type": "stream",
          "name": "stdout",
          "text": [
            "['Even', 'Odd', 'Even', 'Odd', 'Even', 'Odd']\n"
          ]
        }
      ]
    }
  ]
}